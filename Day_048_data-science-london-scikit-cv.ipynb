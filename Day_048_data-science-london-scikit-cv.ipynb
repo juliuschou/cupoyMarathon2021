{
 "cells": [
  {
   "cell_type": "markdown",
   "metadata": {},
   "source": [
    "# Data Science London + Scikit-learn\n",
    "This is a synthetic data set of 40 features, representing objects from two classes (labeled as 0 or 1). The training set has 1000 samples and the testing set has 9000.\n",
    "More information can be found [here](https://www.kaggle.com/c/data-science-london-scikit-learn/data)"
   ]
  },
  {
   "cell_type": "code",
   "execution_count": 1,
   "metadata": {
    "_cell_guid": "b1076dfc-b9ad-4769-8c92-a6c4dae69d19",
    "_uuid": "8f2839f25d086af736a60e9eeb907d3b93b6e0e5",
    "execution": {
     "iopub.execute_input": "2021-07-28T14:53:48.680418Z",
     "iopub.status.busy": "2021-07-28T14:53:48.67995Z",
     "iopub.status.idle": "2021-07-28T14:53:48.702212Z",
     "shell.execute_reply": "2021-07-28T14:53:48.700684Z",
     "shell.execute_reply.started": "2021-07-28T14:53:48.68035Z"
    }
   },
   "outputs": [],
   "source": [
    "# Input data files are available in the read-only \"../input/\" directory\n",
    "# For example, running this (by clicking run or pressing Shift+Enter) will list all files under the input directory\n",
    "import os\n",
    "for dirname, _, filenames in os.walk('/kaggle/input'):\n",
    "    for filename in filenames:\n",
    "        print(os.path.join(dirname, filename))\n",
    "\n",
    "import numpy as np \n",
    "import pandas as pd \n",
    "import matplotlib.pyplot as plt\n",
    "import random as rn\n",
    "\n",
    "# Define plot style\n",
    "plt.style.use('ggplot')\n",
    "%matplotlib inline"
   ]
  },
  {
   "cell_type": "code",
   "execution_count": 2,
   "metadata": {
    "execution": {
     "iopub.execute_input": "2021-07-28T14:53:48.709736Z",
     "iopub.status.busy": "2021-07-28T14:53:48.709257Z",
     "iopub.status.idle": "2021-07-28T14:53:48.978676Z",
     "shell.execute_reply": "2021-07-28T14:53:48.97701Z",
     "shell.execute_reply.started": "2021-07-28T14:53:48.709687Z"
    }
   },
   "outputs": [
    {
     "name": "stdout",
     "output_type": "stream",
     "text": [
      "Train data: (1000, 40)\n",
      "Test data: (9000, 40)\n",
      "Train label (1000, 1)\n"
     ]
    }
   ],
   "source": [
    "# Read train and test data\n",
    "train = pd.read_csv('../input/data-science-london-scikit-learn/train.csv', header=None)\n",
    "test = pd.read_csv('../input/data-science-london-scikit-learn/test.csv', header=None)\n",
    "\n",
    "# Read train labels\n",
    "train_label = pd.read_csv('../input/data-science-london-scikit-learn/trainLabels.csv', header=None)\n",
    "\n",
    "# Check the data dimensions\n",
    "print('Train data:', train.shape)\n",
    "print('Test data:', test.shape)\n",
    "print('Train label', train_label.shape)"
   ]
  },
  {
   "cell_type": "code",
   "execution_count": 3,
   "metadata": {
    "execution": {
     "iopub.execute_input": "2021-07-28T14:53:48.981499Z",
     "iopub.status.busy": "2021-07-28T14:53:48.981022Z",
     "iopub.status.idle": "2021-07-28T14:53:49.004854Z",
     "shell.execute_reply": "2021-07-28T14:53:49.003669Z",
     "shell.execute_reply.started": "2021-07-28T14:53:48.981452Z"
    }
   },
   "outputs": [
    {
     "name": "stdout",
     "output_type": "stream",
     "text": [
      "<class 'pandas.core.frame.DataFrame'>\n",
      "RangeIndex: 1000 entries, 0 to 999\n",
      "Data columns (total 40 columns):\n",
      " #   Column  Non-Null Count  Dtype  \n",
      "---  ------  --------------  -----  \n",
      " 0   0       1000 non-null   float64\n",
      " 1   1       1000 non-null   float64\n",
      " 2   2       1000 non-null   float64\n",
      " 3   3       1000 non-null   float64\n",
      " 4   4       1000 non-null   float64\n",
      " 5   5       1000 non-null   float64\n",
      " 6   6       1000 non-null   float64\n",
      " 7   7       1000 non-null   float64\n",
      " 8   8       1000 non-null   float64\n",
      " 9   9       1000 non-null   float64\n",
      " 10  10      1000 non-null   float64\n",
      " 11  11      1000 non-null   float64\n",
      " 12  12      1000 non-null   float64\n",
      " 13  13      1000 non-null   float64\n",
      " 14  14      1000 non-null   float64\n",
      " 15  15      1000 non-null   float64\n",
      " 16  16      1000 non-null   float64\n",
      " 17  17      1000 non-null   float64\n",
      " 18  18      1000 non-null   float64\n",
      " 19  19      1000 non-null   float64\n",
      " 20  20      1000 non-null   float64\n",
      " 21  21      1000 non-null   float64\n",
      " 22  22      1000 non-null   float64\n",
      " 23  23      1000 non-null   float64\n",
      " 24  24      1000 non-null   float64\n",
      " 25  25      1000 non-null   float64\n",
      " 26  26      1000 non-null   float64\n",
      " 27  27      1000 non-null   float64\n",
      " 28  28      1000 non-null   float64\n",
      " 29  29      1000 non-null   float64\n",
      " 30  30      1000 non-null   float64\n",
      " 31  31      1000 non-null   float64\n",
      " 32  32      1000 non-null   float64\n",
      " 33  33      1000 non-null   float64\n",
      " 34  34      1000 non-null   float64\n",
      " 35  35      1000 non-null   float64\n",
      " 36  36      1000 non-null   float64\n",
      " 37  37      1000 non-null   float64\n",
      " 38  38      1000 non-null   float64\n",
      " 39  39      1000 non-null   float64\n",
      "dtypes: float64(40)\n",
      "memory usage: 312.6 KB\n",
      "None\n"
     ]
    }
   ],
   "source": [
    "# Print out data information\n",
    "print(train.info())"
   ]
  },
  {
   "cell_type": "code",
   "execution_count": 4,
   "metadata": {
    "execution": {
     "iopub.execute_input": "2021-07-28T14:53:49.00662Z",
     "iopub.status.busy": "2021-07-28T14:53:49.00629Z",
     "iopub.status.idle": "2021-07-28T14:53:49.877469Z",
     "shell.execute_reply": "2021-07-28T14:53:49.876462Z",
     "shell.execute_reply.started": "2021-07-28T14:53:49.006586Z"
    }
   },
   "outputs": [
    {
     "name": "stdout",
     "output_type": "stream",
     "text": [
      "                0            1            2            3            4   \\\n",
      "count  1000.000000  1000.000000  1000.000000  1000.000000  1000.000000   \n",
      "mean      0.025596    -0.024526    -0.024088    -0.002271     1.092329   \n",
      "std       1.008282     1.016298     0.979109     0.970575     4.538834   \n",
      "min      -3.365711    -3.492086    -2.695602    -3.460471   -16.421901   \n",
      "25%      -0.669010    -0.693937    -0.698830    -0.617557    -1.801997   \n",
      "50%       0.027895    -0.033194     0.008145     0.002327     0.862818   \n",
      "75%       0.762520     0.682753     0.661434     0.640743     3.843172   \n",
      "max       3.326246     3.583870     2.546507     3.088738    17.565345   \n",
      "\n",
      "                5            6            7            8            9   ...  \\\n",
      "count  1000.000000  1000.000000  1000.000000  1000.000000  1000.000000  ...   \n",
      "mean     -0.006250     0.497342    -0.037883     0.026391    -0.003597  ...   \n",
      "std       0.989128     2.118819     2.232256     1.001064     1.013520  ...   \n",
      "min      -3.041250    -7.224761    -6.509084    -3.145588    -2.749812  ...   \n",
      "25%      -0.732265    -0.838619    -1.604037    -0.677562    -0.682220  ...   \n",
      "50%       0.027041     0.582321     0.018809     0.022092    -0.036110  ...   \n",
      "75%       0.671456     1.913664     1.438304     0.741310     0.665364  ...   \n",
      "max       3.102997     7.592666     7.130097     3.145258     3.919426  ...   \n",
      "\n",
      "                30           31           32           33           34  \\\n",
      "count  1000.000000  1000.000000  1000.000000  1000.000000  1000.000000   \n",
      "mean      0.030651     0.022951    -0.542491    -0.011608    -0.483507   \n",
      "std       1.011645     1.001375     2.239939     1.022456     2.121281   \n",
      "min      -3.379194    -2.971125    -7.840890    -2.999564    -7.124105   \n",
      "25%      -0.659457    -0.696032    -2.121943    -0.664550    -1.879247   \n",
      "50%       0.049416     0.049778    -0.568262    -0.028097    -0.493575   \n",
      "75%       0.747031     0.699917     0.939348     0.651374     1.005795   \n",
      "max       2.844792     3.688047     7.160379     3.353631     6.005818   \n",
      "\n",
      "                35           36           37           38           39  \n",
      "count  1000.000000  1000.000000  1000.000000  1000.000000  1000.000000  \n",
      "mean      0.033371     0.567185     0.006849    -0.892659     0.609451  \n",
      "std       1.007044     2.227876     0.997635     2.022022     2.045439  \n",
      "min      -2.952358    -5.452254    -3.473913    -8.051722    -7.799086  \n",
      "25%      -0.642861    -1.059786    -0.691162    -2.220126    -0.565041  \n",
      "50%       0.037732     0.455474     0.038284    -0.855470     0.779944  \n",
      "75%       0.691800     2.122157     0.693535     0.388698     1.992193  \n",
      "max       3.420561     6.603499     3.492548     5.774120     6.803984  \n",
      "\n",
      "[8 rows x 40 columns]\n"
     ]
    },
    {
     "data": {
      "image/png": "[encoded data removed]",
      "text/plain": [
       "<Figure size 936x360 with 1 Axes>"
      ]
     },
     "metadata": {
      "needs_background": "light"
     },
     "output_type": "display_data"
    }
   ],
   "source": [
    "# Print out summary statistics\n",
    "print(train.describe())\n",
    "\n",
    "# Visualize summary statistics\n",
    "fig, ax = plt.subplots(figsize=[13,5])  # default figsize = [6,4, 4.8]\n",
    "plt.boxplot(train)\n",
    "plt.show()"
   ]
  },
  {
   "cell_type": "code",
   "execution_count": 5,
   "metadata": {
    "execution": {
     "iopub.execute_input": "2021-07-28T14:53:49.879125Z",
     "iopub.status.busy": "2021-07-28T14:53:49.878808Z",
     "iopub.status.idle": "2021-07-28T14:53:50.378568Z",
     "shell.execute_reply": "2021-07-28T14:53:50.376411Z",
     "shell.execute_reply.started": "2021-07-28T14:53:49.879092Z"
    }
   },
   "outputs": [
    {
     "name": "stdout",
     "output_type": "stream",
     "text": [
      "(800, 40)\n",
      "(200, 40)\n"
     ]
    }
   ],
   "source": [
    "# Let's split train data into train and validadtion set\n",
    "from sklearn.model_selection import train_test_split\n",
    "train_label = np.ravel(train_label)\n",
    "Xtrain, Xval, ytrain, yval = train_test_split(train, train_label, random_state=42, test_size=0.2)\n",
    "print(Xtrain.shape)\n",
    "print(Xval.shape)"
   ]
  },
  {
   "cell_type": "markdown",
   "metadata": {},
   "source": [
    "# Import various classification models\n",
    "In this notebook, we will try 5 different classifiers:\n",
    "* k-neighest neighbors (KNN)\n",
    "* Random forest (RF)\n",
    "* Support vector machine (SVM) with linear and rbf kernels\n",
    "\n",
    "We will first train the four classifiers on the raw data. Then, we will do some feature engineering using Gaussian Mixture Models (GMM) to obtain new data, and re-trained the four classifiers on the new data."
   ]
  },
  {
   "cell_type": "code",
   "execution_count": 6,
   "metadata": {
    "execution": {
     "iopub.execute_input": "2021-07-28T14:53:50.381058Z",
     "iopub.status.busy": "2021-07-28T14:53:50.38051Z",
     "iopub.status.idle": "2021-07-28T14:53:50.450373Z",
     "shell.execute_reply": "2021-07-28T14:53:50.449312Z",
     "shell.execute_reply.started": "2021-07-28T14:53:50.380998Z"
    }
   },
   "outputs": [],
   "source": [
    "# Import classifiers from sklearn\n",
    "from sklearn.neighbors import KNeighborsClassifier\n",
    "from sklearn.ensemble import RandomForestClassifier\n",
    "from sklearn.svm import SVC\n",
    "from sklearn.model_selection import train_test_split, GridSearchCV\n",
    "from sklearn.metrics import accuracy_score\n"
   ]
  },
  {
   "cell_type": "markdown",
   "metadata": {},
   "source": [
    "# Option 1: Raw data\n",
    "## kNN"
   ]
  },
  {
   "cell_type": "code",
   "execution_count": 7,
   "metadata": {
    "execution": {
     "iopub.execute_input": "2021-07-28T14:53:50.453632Z",
     "iopub.status.busy": "2021-07-28T14:53:50.453179Z",
     "iopub.status.idle": "2021-07-28T14:53:53.219264Z",
     "shell.execute_reply": "2021-07-28T14:53:53.218045Z",
     "shell.execute_reply.started": "2021-07-28T14:53:50.45358Z"
    }
   },
   "outputs": [
    {
     "name": "stdout",
     "output_type": "stream",
     "text": [
      "kNN (k=1): train accuracy=1.00000, validation accuracy=0.88500\n",
      "kNN (k=2): train accuracy=0.95125, validation accuracy=0.88500\n",
      "kNN (k=3): train accuracy=0.94625, validation accuracy=0.87500\n",
      "kNN (k=4): train accuracy=0.95500, validation accuracy=0.89500\n",
      "kNN (k=5): train accuracy=0.94375, validation accuracy=0.88000\n",
      "kNN (k=6): train accuracy=0.94250, validation accuracy=0.90000\n",
      "kNN (k=7): train accuracy=0.93375, validation accuracy=0.88500\n",
      "kNN (k=8): train accuracy=0.93000, validation accuracy=0.89000\n",
      "kNN (k=9): train accuracy=0.93625, validation accuracy=0.88000\n",
      "kNN (k=10): train accuracy=0.92875, validation accuracy=0.90500\n",
      "kNN (k=11): train accuracy=0.93125, validation accuracy=0.87500\n",
      "kNN (k=12): train accuracy=0.92625, validation accuracy=0.88000\n",
      "kNN (k=13): train accuracy=0.92250, validation accuracy=0.85000\n",
      "kNN (k=14): train accuracy=0.92250, validation accuracy=0.88000\n",
      "kNN (k=15): train accuracy=0.91750, validation accuracy=0.86000\n",
      "kNN (k=16): train accuracy=0.91875, validation accuracy=0.87000\n",
      "kNN (k=17): train accuracy=0.91250, validation accuracy=0.86500\n",
      "kNN (k=18): train accuracy=0.90500, validation accuracy=0.87000\n",
      "kNN (k=19): train accuracy=0.91250, validation accuracy=0.87000\n",
      "kNN (k=20): train accuracy=0.91375, validation accuracy=0.86500\n",
      "kNN (k=21): train accuracy=0.91125, validation accuracy=0.86500\n",
      "kNN (k=22): train accuracy=0.90750, validation accuracy=0.87500\n",
      "kNN (k=23): train accuracy=0.89750, validation accuracy=0.87000\n",
      "kNN (k=24): train accuracy=0.89875, validation accuracy=0.88500\n",
      "kNN (k=25): train accuracy=0.90000, validation accuracy=0.87500\n"
     ]
    },
    {
     "data": {
      "image/png": "[encoded data removed]",
      "text/plain": [
       "<Figure size 432x288 with 1 Axes>"
      ]
     },
     "metadata": {
      "needs_background": "light"
     },
     "output_type": "display_data"
    },
    {
     "name": "stdout",
     "output_type": "stream",
     "text": [
      "Best validation accuracy (k=10): 0.90500\n"
     ]
    }
   ],
   "source": [
    "num_neighs = np.arange(1,26)\n",
    "train_accuracy = []\n",
    "val_accuracy = []\n",
    "best_accuracy_knn = 0.0\n",
    "\n",
    "# Run kNN over different hyperparameter values\n",
    "for i, n in enumerate(num_neighs):\n",
    "    knn = KNeighborsClassifier(n_neighbors=n)\n",
    "    # Fit kNN\n",
    "    knn.fit(Xtrain, ytrain)\n",
    "    # Train accuracy\n",
    "    train_accuracy.append(knn.score(Xtrain, ytrain))\n",
    "    # Validation accuracy\n",
    "    val_accuracy.append(knn.score(Xval, yval))\n",
    "    print(\"kNN (k={}): train accuracy={:.5f}, validation accuracy={:.5f}\"\n",
    "          .format(n, train_accuracy[i], val_accuracy[i]))\n",
    "    if val_accuracy[i] > best_accuracy_knn:\n",
    "        best_accuracy_knn = val_accuracy[i]\n",
    "        best_knn = knn\n",
    "        best_num_neighs = n\n",
    "\n",
    "plt.plot(num_neighs, train_accuracy, label='Train')\n",
    "plt.plot(num_neighs, val_accuracy, label='Validation')\n",
    "plt.ylabel('Accuracy')\n",
    "plt.xlabel('Number of neighbors')\n",
    "plt.legend()\n",
    "plt.show()\n",
    "\n",
    "print('Best validation accuracy (k={}): {:.5f}'.format(best_num_neighs, best_accuracy_knn))"
   ]
  },
  {
   "cell_type": "markdown",
   "metadata": {},
   "source": [
    "## RF"
   ]
  },
  {
   "cell_type": "code",
   "execution_count": 8,
   "metadata": {
    "execution": {
     "iopub.execute_input": "2021-07-28T14:53:53.223102Z",
     "iopub.status.busy": "2021-07-28T14:53:53.222732Z",
     "iopub.status.idle": "2021-07-28T14:55:57.317442Z",
     "shell.execute_reply": "2021-07-28T14:55:57.316064Z",
     "shell.execute_reply.started": "2021-07-28T14:53:53.223064Z"
    }
   },
   "outputs": [
    {
     "name": "stdout",
     "output_type": "stream",
     "text": [
      "{'max_depth': 20, 'min_samples_split': 5, 'n_estimators': 75}\n",
      "RF: train accuracy=1.00000, validation accuracy=0.85500\n"
     ]
    }
   ],
   "source": [
    "estimators = [25, 50, 75, 100]  # number of estimators \n",
    "max_depths = [20, 30, 40, 50]\n",
    "splits = [5, 10, 15]\n",
    "param = {'n_estimators':estimators, \n",
    "         'max_depth':max_depths, \n",
    "         'min_samples_split':splits}\n",
    "train_accuracy = []\n",
    "val_accuracy = []\n",
    "\n",
    "rf = RandomForestClassifier(random_state=100)\n",
    "RandomForestCV = GridSearchCV(estimator=rf, param_grid=param, cv=10)\n",
    "RandomForestCV.fit(Xtrain, ytrain)\n",
    "train_accuracy = RandomForestCV.score(Xtrain, ytrain)\n",
    "best_accuracy_rf = RandomForestCV.score(Xval, yval)\n",
    "\n",
    "# Print results\n",
    "print(RandomForestCV.best_params_)\n",
    "print(\"RF: train accuracy={:.5f}, validation accuracy={:.5f}\"\n",
    "      .format(train_accuracy, best_accuracy_rf))"
   ]
  },
  {
   "cell_type": "markdown",
   "metadata": {},
   "source": [
    "## SVM (linear)"
   ]
  },
  {
   "cell_type": "code",
   "execution_count": 9,
   "metadata": {
    "execution": {
     "iopub.execute_input": "2021-07-28T14:55:57.320081Z",
     "iopub.status.busy": "2021-07-28T14:55:57.319722Z",
     "iopub.status.idle": "2021-07-28T14:55:57.620014Z",
     "shell.execute_reply": "2021-07-28T14:55:57.618671Z",
     "shell.execute_reply.started": "2021-07-28T14:55:57.320047Z"
    }
   },
   "outputs": [
    {
     "name": "stdout",
     "output_type": "stream",
     "text": [
      "SVM (linear): train accuracy=0.82625, validation accuracy=0.83500\n"
     ]
    }
   ],
   "source": [
    "svm = SVC(kernel='linear', random_state=100, C=1)\n",
    "svm.fit(Xtrain, ytrain)\n",
    "# Train accuracy\n",
    "train_accuracy = svm.score(Xtrain, ytrain)\n",
    "# Validation accuracy\n",
    "best_accuracy_svml = svm.score(Xval, yval)\n",
    "print(\"SVM (linear): train accuracy={:.5f}, validation accuracy={:.5f}\"\n",
    "      .format(train_accuracy, best_accuracy_svml))\n"
   ]
  },
  {
   "cell_type": "markdown",
   "metadata": {},
   "source": [
    "## SVM (rbf)"
   ]
  },
  {
   "cell_type": "code",
   "execution_count": 10,
   "metadata": {
    "execution": {
     "iopub.execute_input": "2021-07-28T14:55:57.622144Z",
     "iopub.status.busy": "2021-07-28T14:55:57.621684Z",
     "iopub.status.idle": "2021-07-28T14:55:57.757908Z",
     "shell.execute_reply": "2021-07-28T14:55:57.756623Z",
     "shell.execute_reply.started": "2021-07-28T14:55:57.622096Z"
    }
   },
   "outputs": [
    {
     "name": "stdout",
     "output_type": "stream",
     "text": [
      "SVM (rbf): train accuracy=0.99750, validation accuracy=0.89500\n"
     ]
    }
   ],
   "source": [
    "svm = SVC(kernel='rbf', gamma='auto', random_state=100, C=1)\n",
    "svm.fit(Xtrain, ytrain)\n",
    "# Train accuracy\n",
    "train_accuracy = svm.score(Xtrain, ytrain)\n",
    "# Validation accuracy\n",
    "best_accuracy_svmr = svm.score(Xval, yval)\n",
    "print(\"SVM (rbf): train accuracy={:.5f}, validation accuracy={:.5f}\"\n",
    "      .format(train_accuracy, best_accuracy_svmr))"
   ]
  },
  {
   "cell_type": "markdown",
   "metadata": {},
   "source": [
    "Let's compare the final results when the classifiers were trained on the raw data"
   ]
  },
  {
   "cell_type": "code",
   "execution_count": 11,
   "metadata": {
    "execution": {
     "iopub.execute_input": "2021-07-28T14:55:57.761791Z",
     "iopub.status.busy": "2021-07-28T14:55:57.761433Z",
     "iopub.status.idle": "2021-07-28T14:55:57.76728Z",
     "shell.execute_reply": "2021-07-28T14:55:57.766587Z",
     "shell.execute_reply.started": "2021-07-28T14:55:57.761745Z"
    }
   },
   "outputs": [
    {
     "name": "stdout",
     "output_type": "stream",
     "text": [
      "KNN: 0.90500\n",
      "RF: 0.85500\n",
      "SVM (linear): 0.83500\n",
      "SVM (rbf): 0.89500\n"
     ]
    }
   ],
   "source": [
    "print('KNN: {:.5f}'.format(best_accuracy_knn))\n",
    "print('RF: {:.5f}'.format(best_accuracy_rf))\n",
    "print('SVM (linear): {:.5f}'.format(best_accuracy_svml))\n",
    "print('SVM (rbf): {:.5f}'.format(best_accuracy_svmr))"
   ]
  },
  {
   "cell_type": "markdown",
   "metadata": {},
   "source": [
    "# Option 2: Feature engineering\n",
    "## Gaussian mixture model (GMM)\n",
    "GMMs can have difficulty converging in a high dimensional space, so we will do dimensionality reduction on the data. Here, we will use a straightforward PCA, asking it to preserve 95% of the variance in the data"
   ]
  },
  {
   "cell_type": "code",
   "execution_count": 12,
   "metadata": {
    "execution": {
     "iopub.execute_input": "2021-07-28T14:58:05.052546Z",
     "iopub.status.busy": "2021-07-28T14:58:05.051923Z",
     "iopub.status.idle": "2021-07-28T14:58:05.080616Z",
     "shell.execute_reply": "2021-07-28T14:58:05.076934Z",
     "shell.execute_reply.started": "2021-07-28T14:58:05.052505Z"
    }
   },
   "outputs": [
    {
     "name": "stdout",
     "output_type": "stream",
     "text": [
      "(1000, 29)\n",
      "(9000, 29)\n"
     ]
    }
   ],
   "source": [
    "from sklearn.decomposition import PCA\n",
    "from sklearn.mixture import GaussianMixture\n",
    "\n",
    "pca = PCA(0.95,whiten=True)\n",
    "train_pc = pca.fit_transform(train)\n",
    "test_pc = pca.transform(test)\n",
    "print(train_pc.shape)\n",
    "print(test_pc.shape)"
   ]
  },
  {
   "cell_type": "code",
   "execution_count": 13,
   "metadata": {
    "execution": {
     "iopub.execute_input": "2021-07-28T14:58:08.91708Z",
     "iopub.status.busy": "2021-07-28T14:58:08.916452Z",
     "iopub.status.idle": "2021-07-28T14:58:29.80807Z",
     "shell.execute_reply": "2021-07-28T14:58:29.807082Z",
     "shell.execute_reply.started": "2021-07-28T14:58:08.917038Z"
    }
   },
   "outputs": [
    {
     "data": {
      "image/png": "[encoded data removed]",
      "text/plain": [
       "<Figure size 432x288 with 1 Axes>"
      ]
     },
     "metadata": {
      "needs_background": "light"
     },
     "output_type": "display_data"
    }
   ],
   "source": [
    "# Let's fit GMM with various number of components\n",
    "n_components = np.arange(1,11)\n",
    "models = [GaussianMixture(n, covariance_type='full', random_state=100) \n",
    "          for n in n_components]\n",
    "aics = [model.fit(train_pc).aic(train_pc) for model in models]\n",
    "bics = [model.fit(train_pc).bic(train_pc) for model in models]\n",
    "\n",
    "plt.plot(n_components, aics, label='AIC')\n",
    "plt.plot(n_components, bics, label='BIC')\n",
    "plt.xlabel('Number of Gaussians')\n",
    "plt.legend()\n",
    "plt.show()"
   ]
  },
  {
   "cell_type": "markdown",
   "metadata": {},
   "source": [
    "It appears that around 4 components minimize both AIC and BIC. We can use the four cluster probabilities as new features."
   ]
  },
  {
   "cell_type": "code",
   "execution_count": 14,
   "metadata": {
    "execution": {
     "iopub.execute_input": "2021-07-28T14:58:29.810843Z",
     "iopub.status.busy": "2021-07-28T14:58:29.810028Z",
     "iopub.status.idle": "2021-07-28T14:58:30.486353Z",
     "shell.execute_reply": "2021-07-28T14:58:30.484809Z",
     "shell.execute_reply.started": "2021-07-28T14:58:29.81078Z"
    }
   },
   "outputs": [
    {
     "name": "stdout",
     "output_type": "stream",
     "text": [
      "(1000, 4)\n",
      "(9000, 4)\n"
     ]
    }
   ],
   "source": [
    "best_gmm = GaussianMixture(n_components=4, covariance_type='full').fit(train_pc)\n",
    "\n",
    "# Let's apply the model to get probabilities\n",
    "train_gmm = best_gmm.predict_proba(train_pc)\n",
    "test_gmm = best_gmm.predict_proba(test_pc)\n",
    "print(train_gmm.shape)\n",
    "print(test_gmm.shape)\n",
    "\n",
    "# Split the new data into train and validadtion set\n",
    "Xtrain_gmm, Xval_gmm, ytrain_gmm, yval_gmm = train_test_split(train_gmm, train_label, random_state=42, test_size=0.2)"
   ]
  },
  {
   "cell_type": "markdown",
   "metadata": {},
   "source": [
    "## kNN"
   ]
  },
  {
   "cell_type": "code",
   "execution_count": 15,
   "metadata": {
    "execution": {
     "iopub.execute_input": "2021-07-28T14:58:33.264251Z",
     "iopub.status.busy": "2021-07-28T14:58:33.263845Z",
     "iopub.status.idle": "2021-07-28T14:58:34.532886Z",
     "shell.execute_reply": "2021-07-28T14:58:34.531375Z",
     "shell.execute_reply.started": "2021-07-28T14:58:33.264216Z"
    }
   },
   "outputs": [
    {
     "name": "stdout",
     "output_type": "stream",
     "text": [
      "kNN (k=2): train accuracy=0.99625, validation accuracy=0.98500\n",
      "kNN (k=3): train accuracy=0.99625, validation accuracy=0.99000\n",
      "kNN (k=4): train accuracy=0.99625, validation accuracy=0.99000\n",
      "kNN (k=5): train accuracy=0.99625, validation accuracy=0.99000\n",
      "kNN (k=6): train accuracy=0.99625, validation accuracy=0.99000\n",
      "kNN (k=7): train accuracy=0.99625, validation accuracy=0.99000\n",
      "kNN (k=8): train accuracy=0.99625, validation accuracy=0.99000\n",
      "kNN (k=9): train accuracy=0.99625, validation accuracy=0.99000\n",
      "kNN (k=10): train accuracy=0.99625, validation accuracy=0.99000\n",
      "kNN (k=11): train accuracy=0.99625, validation accuracy=0.99000\n",
      "kNN (k=12): train accuracy=0.99625, validation accuracy=0.99000\n",
      "kNN (k=13): train accuracy=0.99625, validation accuracy=0.99000\n",
      "kNN (k=14): train accuracy=0.99625, validation accuracy=0.99000\n",
      "kNN (k=15): train accuracy=0.99625, validation accuracy=0.99000\n",
      "kNN (k=16): train accuracy=0.99625, validation accuracy=0.99000\n",
      "kNN (k=17): train accuracy=0.99625, validation accuracy=0.99000\n",
      "kNN (k=18): train accuracy=0.99625, validation accuracy=0.99000\n",
      "kNN (k=19): train accuracy=0.99625, validation accuracy=0.99000\n",
      "kNN (k=20): train accuracy=0.99625, validation accuracy=0.99000\n",
      "kNN (k=21): train accuracy=0.99625, validation accuracy=0.99000\n",
      "kNN (k=22): train accuracy=0.99625, validation accuracy=0.99000\n",
      "kNN (k=23): train accuracy=0.99625, validation accuracy=0.99000\n",
      "kNN (k=24): train accuracy=0.99625, validation accuracy=0.99000\n",
      "kNN (k=25): train accuracy=0.99625, validation accuracy=0.99000\n"
     ]
    },
    {
     "data": {
      "image/png": "[encoded data removed]",
      "text/plain": [
       "<Figure size 432x288 with 1 Axes>"
      ]
     },
     "metadata": {
      "needs_background": "light"
     },
     "output_type": "display_data"
    },
    {
     "name": "stdout",
     "output_type": "stream",
     "text": [
      "Best validation accuracy (k=3): 0.99000\n"
     ]
    }
   ],
   "source": [
    "num_neighs = np.arange(2,26)\n",
    "train_accuracy = []\n",
    "val_accuracy = []\n",
    "best_accuracy_knn_gmm = 0.0\n",
    "\n",
    "# Run kNN over different hyperparameter values\n",
    "for i, n in enumerate(num_neighs):\n",
    "    knn = KNeighborsClassifier(n_neighbors=n)\n",
    "    # Fit kNN\n",
    "    knn.fit(Xtrain_gmm, ytrain_gmm)\n",
    "    # Train accuracy\n",
    "    train_accuracy.append(knn.score(Xtrain_gmm, ytrain_gmm))\n",
    "    # Validation accuracy\n",
    "    val_accuracy.append(knn.score(Xval_gmm, yval_gmm))\n",
    "    print(\"kNN (k={}): train accuracy={:.5f}, validation accuracy={:.5f}\"\n",
    "          .format(n, train_accuracy[i], val_accuracy[i]))\n",
    "    if val_accuracy[i] > best_accuracy_knn_gmm:\n",
    "        best_accuracy_knn_gmm = val_accuracy[i]\n",
    "        best_knn = knn\n",
    "        best_num_neighs = n\n",
    "\n",
    "plt.plot(num_neighs, train_accuracy, label='Train')\n",
    "plt.plot(num_neighs, val_accuracy, label='Validation')\n",
    "plt.ylabel('Accuracy')\n",
    "plt.xlabel('Number of neighbors')\n",
    "plt.legend()\n",
    "plt.show()\n",
    "\n",
    "print('Best validation accuracy (k={}): {:.5f}'.format(best_num_neighs, best_accuracy_knn_gmm))"
   ]
  },
  {
   "cell_type": "markdown",
   "metadata": {},
   "source": [
    "## RF"
   ]
  },
  {
   "cell_type": "code",
   "execution_count": 16,
   "metadata": {
    "execution": {
     "iopub.execute_input": "2021-07-28T14:58:45.007931Z",
     "iopub.status.busy": "2021-07-28T14:58:45.007529Z",
     "iopub.status.idle": "2021-07-28T14:59:49.336852Z",
     "shell.execute_reply": "2021-07-28T14:59:49.335705Z",
     "shell.execute_reply.started": "2021-07-28T14:58:45.007898Z"
    }
   },
   "outputs": [
    {
     "name": "stdout",
     "output_type": "stream",
     "text": [
      "{'max_depth': 20, 'min_samples_split': 5, 'n_estimators': 25}\n",
      "RF: train accuracy=0.99875, validation accuracy=0.98500\n"
     ]
    }
   ],
   "source": [
    "# Random Forest\n",
    "estimators = [25, 50, 75, 100]  # number of estimators \n",
    "max_depths = [20, 30, 40, 50]\n",
    "splits = [5, 10, 15]\n",
    "param = {'n_estimators':estimators, \n",
    "         'max_depth':max_depths, \n",
    "         'min_samples_split':splits}\n",
    "\n",
    "rf = RandomForestClassifier(random_state=100)\n",
    "RandomForestCV = GridSearchCV(estimator=rf, param_grid=param, cv=10)  # cv=5 in default\n",
    "RandomForestCV.fit(Xtrain_gmm, ytrain_gmm)\n",
    "train_accuracy = RandomForestCV.score(Xtrain_gmm, ytrain_gmm)\n",
    "best_accuracy_rf_gmm = RandomForestCV.score(Xval_gmm, yval_gmm)\n",
    "\n",
    "# Print results\n",
    "print(RandomForestCV.best_params_)\n",
    "print(\"RF: train accuracy={:.5f}, validation accuracy={:.5f}\"\n",
    "      .format(train_accuracy, best_accuracy_rf_gmm))"
   ]
  },
  {
   "cell_type": "markdown",
   "metadata": {},
   "source": [
    "## SVM (linear)"
   ]
  },
  {
   "cell_type": "code",
   "execution_count": 17,
   "metadata": {
    "execution": {
     "iopub.execute_input": "2021-07-28T14:59:53.317945Z",
     "iopub.status.busy": "2021-07-28T14:59:53.317498Z",
     "iopub.status.idle": "2021-07-28T14:59:53.329488Z",
     "shell.execute_reply": "2021-07-28T14:59:53.328004Z",
     "shell.execute_reply.started": "2021-07-28T14:59:53.317912Z"
    }
   },
   "outputs": [
    {
     "name": "stdout",
     "output_type": "stream",
     "text": [
      "SVM (linear): train accuracy=0.99625, validation accuracy=0.99000\n"
     ]
    }
   ],
   "source": [
    "# SVM (linear)\n",
    "svm = SVC(kernel='linear', random_state=100, C=1)\n",
    "svm.fit(Xtrain_gmm, ytrain_gmm)\n",
    "# Train accuracy\n",
    "train_accuracy = svm.score(Xtrain_gmm, ytrain_gmm)\n",
    "# Validation accuracy\n",
    "best_accuracy_svml_gmm = svm.score(Xval_gmm, yval_gmm)\n",
    "print(\"SVM (linear): train accuracy={:.5f}, validation accuracy={:.5f}\"\n",
    "      .format(train_accuracy, best_accuracy_svml_gmm))"
   ]
  },
  {
   "cell_type": "markdown",
   "metadata": {},
   "source": [
    "## SVM (rbf)"
   ]
  },
  {
   "cell_type": "code",
   "execution_count": 18,
   "metadata": {
    "execution": {
     "iopub.execute_input": "2021-07-28T14:59:56.966147Z",
     "iopub.status.busy": "2021-07-28T14:59:56.96568Z",
     "iopub.status.idle": "2021-07-28T14:59:56.987169Z",
     "shell.execute_reply": "2021-07-28T14:59:56.985934Z",
     "shell.execute_reply.started": "2021-07-28T14:59:56.966106Z"
    }
   },
   "outputs": [
    {
     "name": "stdout",
     "output_type": "stream",
     "text": [
      "SVM (rbf): train accuracy=0.99625, validation accuracy=0.99000\n"
     ]
    }
   ],
   "source": [
    "# SVM (rbf)\n",
    "svm = SVC(kernel='rbf', gamma='auto', random_state=100, C=1)\n",
    "svm.fit(Xtrain_gmm, ytrain_gmm)\n",
    "# Train accuracy\n",
    "train_accuracy = svm.score(Xtrain_gmm, ytrain_gmm)\n",
    "# Validation accuracy\n",
    "best_accuracy_svmr_gmm = svm.score(Xval_gmm, yval_gmm)\n",
    "print(\"SVM (rbf): train accuracy={:.5f}, validation accuracy={:.5f}\"\n",
    "      .format(train_accuracy, best_accuracy_svmr_gmm))"
   ]
  },
  {
   "cell_type": "markdown",
   "metadata": {},
   "source": [
    "# Summary\n",
    "Let's compare all the results we have gotten so far"
   ]
  },
  {
   "cell_type": "code",
   "execution_count": 19,
   "metadata": {
    "execution": {
     "iopub.execute_input": "2021-07-28T15:00:00.000735Z",
     "iopub.status.busy": "2021-07-28T15:00:00.000272Z",
     "iopub.status.idle": "2021-07-28T15:00:00.013648Z",
     "shell.execute_reply": "2021-07-28T15:00:00.012299Z",
     "shell.execute_reply.started": "2021-07-28T15:00:00.000692Z"
    }
   },
   "outputs": [
    {
     "name": "stdout",
     "output_type": "stream",
     "text": [
      "                Raw    GMM\n",
      "kNN           0.905  0.990\n",
      "RF            0.855  0.985\n",
      "SVM (linear)  0.835  0.990\n",
      "SVM (rbf)     0.895  0.990\n"
     ]
    }
   ],
   "source": [
    "acc_raw = [best_accuracy_knn, best_accuracy_rf, best_accuracy_svml, best_accuracy_svmr]\n",
    "acc_gmm = [best_accuracy_knn_gmm, best_accuracy_rf_gmm, best_accuracy_svml_gmm, best_accuracy_svmr_gmm]\n",
    "\n",
    "res = pd.DataFrame({'Raw': acc_raw, 'GMM': acc_gmm}, index=['kNN','RF','SVM (linear)','SVM (rbf)'])\n",
    "print(res)"
   ]
  },
  {
   "cell_type": "markdown",
   "metadata": {},
   "source": [
    "# Submission\n",
    "From the above, we can see that applying GMM increased the classification accuracy for all the four classifiers. We will re-train the four classifiers using entire samples and submit the results."
   ]
  },
  {
   "cell_type": "code",
   "execution_count": 20,
   "metadata": {
    "execution": {
     "iopub.execute_input": "2021-07-28T15:00:04.02135Z",
     "iopub.status.busy": "2021-07-28T15:00:04.020933Z",
     "iopub.status.idle": "2021-07-28T15:00:04.395948Z",
     "shell.execute_reply": "2021-07-28T15:00:04.394303Z",
     "shell.execute_reply.started": "2021-07-28T15:00:04.021314Z"
    }
   },
   "outputs": [],
   "source": [
    "best_knn.fit(train_gmm, train_label)\n",
    "ypred = best_knn.predict(test_gmm)\n",
    "submission = {'Id': np.arange(1, ypred.shape[0]+1),\n",
    "             'Solution': ypred}\n",
    "submission = pd.DataFrame(submission)\n",
    "submission.to_csv('../output/submission_knn.csv', index=False)"
   ]
  },
  {
   "cell_type": "code",
   "execution_count": 21,
   "metadata": {
    "execution": {
     "iopub.execute_input": "2021-07-28T15:00:15.978886Z",
     "iopub.status.busy": "2021-07-28T15:00:15.978462Z",
     "iopub.status.idle": "2021-07-28T15:00:16.0841Z",
     "shell.execute_reply": "2021-07-28T15:00:16.08291Z",
     "shell.execute_reply.started": "2021-07-28T15:00:15.978846Z"
    }
   },
   "outputs": [],
   "source": [
    "rf = RandomForestClassifier(max_depth=20, min_samples_split=5, n_estimators=25)\n",
    "rf.fit(train_gmm, train_label)\n",
    "ypred = rf.predict(test_gmm)\n",
    "submission = {'Id': np.arange(1, ypred.shape[0]+1),\n",
    "             'Solution': ypred}\n",
    "submission = pd.DataFrame(submission)\n",
    "submission.to_csv('../output/submission_rf.csv', index=False)"
   ]
  },
  {
   "cell_type": "code",
   "execution_count": 22,
   "metadata": {
    "execution": {
     "iopub.execute_input": "2021-07-28T15:00:29.515737Z",
     "iopub.status.busy": "2021-07-28T15:00:29.515243Z",
     "iopub.status.idle": "2021-07-28T15:00:29.548976Z",
     "shell.execute_reply": "2021-07-28T15:00:29.548012Z",
     "shell.execute_reply.started": "2021-07-28T15:00:29.515685Z"
    }
   },
   "outputs": [],
   "source": [
    "svm = SVC(kernel='linear', random_state=100, C=1)\n",
    "svm.fit(train_gmm, train_label)\n",
    "ypred = svm.predict(test_gmm)\n",
    "submission = {'Id': np.arange(1, ypred.shape[0]+1),\n",
    "             'Solution': ypred}\n",
    "submission = pd.DataFrame(submission)\n",
    "submission.to_csv('../output/submission_svm_linear.csv', index=False)"
   ]
  },
  {
   "cell_type": "code",
   "execution_count": 23,
   "metadata": {
    "execution": {
     "iopub.execute_input": "2021-07-28T15:00:32.967056Z",
     "iopub.status.busy": "2021-07-28T15:00:32.966317Z",
     "iopub.status.idle": "2021-07-28T15:00:33.004918Z",
     "shell.execute_reply": "2021-07-28T15:00:33.00387Z",
     "shell.execute_reply.started": "2021-07-28T15:00:32.967014Z"
    }
   },
   "outputs": [],
   "source": [
    "svm = SVC(kernel='rbf', random_state=100, C=1)\n",
    "svm.fit(train_gmm, train_label)\n",
    "ypred = svm.predict(test_gmm)\n",
    "submission = {'Id': np.arange(1, ypred.shape[0]+1),\n",
    "             'Solution': ypred}\n",
    "submission = pd.DataFrame(submission)\n",
    "submission.to_csv('../output/submission_svm_rbf.csv', index=False)"
   ]
  },
  {
   "cell_type": "code",
   "execution_count": null,
   "metadata": {},
   "outputs": [],
   "source": []
  }
 ],
 "metadata": {
  "kernelspec": {
   "display_name": "Python 3 (ipykernel)",
   "language": "python",
   "name": "python3"
  },
  "language_info": {
   "codemirror_mode": {
    "name": "ipython",
    "version": 3
   },
   "file_extension": ".py",
   "mimetype": "text/x-python",
   "name": "python",
   "nbconvert_exporter": "python",
   "pygments_lexer": "ipython3",
   "version": "3.8.6"
  }
 },
 "nbformat": 4,
 "nbformat_minor": 4
}
