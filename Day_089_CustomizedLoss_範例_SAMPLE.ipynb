{
 "cells": [
  {
   "cell_type": "markdown",
   "metadata": {},
   "source": [
    "## 範例重點\n",
    "* 學習如何在 keras 中撰寫自定義的 loss function\n",
    "* 知道如何在訓練時使用自定義的 loss function"
   ]
  },
  {
   "cell_type": "code",
   "execution_count": 1,
   "metadata": {},
   "outputs": [
    {
     "name": "stderr",
     "output_type": "stream",
     "text": [
      "2021-11-23 10:10:06.393705: W tensorflow/stream_executor/platform/default/dso_loader.cc:64] Could not load dynamic library 'libcudart.so.11.0'; dlerror: libcudart.so.11.0: cannot open shared object file: No such file or directory\n",
      "2021-11-23 10:10:06.393870: I tensorflow/stream_executor/cuda/cudart_stub.cc:29] Ignore above cudart dlerror if you do not have a GPU set up on your machine.\n"
     ]
    }
   ],
   "source": [
    "import os\n",
    "import keras\n",
    "import tensorflow\n",
    "from keras.datasets import cifar10\n",
    "\n",
    "import matplotlib.pyplot as plt\n",
    "%matplotlib inline\n",
    "\n",
    "\n",
    "# 本作業可以不需使用 GPU, 將 GPU 設定為 \"無\" (若想使用可自行開啟)\n",
    "os.environ[\"CUDA_VISIBLE_DEVICES\"] = \"\""
   ]
  },
  {
   "cell_type": "code",
   "execution_count": 2,
   "metadata": {},
   "outputs": [
    {
     "name": "stdout",
     "output_type": "stream",
     "text": [
      "x_train shape: (50000, 32, 32, 3)\n",
      "50000 train samples\n",
      "10000 test samples\n"
     ]
    }
   ],
   "source": [
    "num_classes = 10\n",
    "\n",
    "(x_train, y_train), (x_test, y_test) = cifar10.load_data()\n",
    "\n",
    "print('x_train shape:', x_train.shape)\n",
    "print(x_train.shape[0], 'train samples')\n",
    "print(x_test.shape[0], 'test samples')"
   ]
  },
  {
   "cell_type": "code",
   "execution_count": 3,
   "metadata": {},
   "outputs": [],
   "source": [
    "## 資料前處理\n",
    "def preproc_x(x, flatten=True):\n",
    "    x = x / 255.\n",
    "    if flatten:\n",
    "        x = x.reshape((len(x), -1))\n",
    "    return x\n",
    "\n",
    "def preproc_y(y, num_classes=10):\n",
    "    if y.shape[-1] == 1:\n",
    "        y = keras.utils.np_utils.to_categorical(y, num_classes)\n",
    "    return y    "
   ]
  },
  {
   "cell_type": "code",
   "execution_count": 4,
   "metadata": {},
   "outputs": [],
   "source": [
    "# 資料前處理 - X 標準化\n",
    "x_train = preproc_x(x_train)\n",
    "x_test = preproc_x(x_test)\n",
    "\n",
    "# 資料前處理 -Y 轉成 onehot\n",
    "y_train = preproc_y(y_train)\n",
    "y_test = preproc_y(y_test)"
   ]
  },
  {
   "cell_type": "code",
   "execution_count": 5,
   "metadata": {},
   "outputs": [],
   "source": [
    "from keras.layers import BatchNormalization\n",
    "\n",
    "\"\"\"\n",
    "建立神經網路，並加入 BN layer\n",
    "\"\"\"\n",
    "def build_mlp(input_shape, output_units=10, num_neurons=[512, 256, 128]):\n",
    "    input_layer = keras.layers.Input(input_shape)\n",
    "    \n",
    "    for i, n_units in enumerate(num_neurons):\n",
    "        if i == 0:\n",
    "            x = keras.layers.Dense(units=n_units, \n",
    "                                   activation=\"relu\", \n",
    "                                   name=\"hidden_layer\"+str(i+1))(input_layer)\n",
    "            x = BatchNormalization()(x)\n",
    "        else:\n",
    "            x = keras.layers.Dense(units=n_units, \n",
    "                                   activation=\"relu\", \n",
    "                                   name=\"hidden_layer\"+str(i+1))(x)\n",
    "            x = BatchNormalization()(x)\n",
    "    \n",
    "    out = keras.layers.Dense(units=output_units, activation=\"softmax\", name=\"output\")(x)\n",
    "    \n",
    "    model = keras.models.Model(inputs=[input_layer], outputs=[out])\n",
    "    return model"
   ]
  },
  {
   "cell_type": "code",
   "execution_count": 6,
   "metadata": {},
   "outputs": [],
   "source": [
    "## 超參數設定\n",
    "LEARNING_RATE = 1e-3\n",
    "EPOCHS = 50\n",
    "BATCH_SIZE = 1024\n",
    "MOMENTUM = 0.95"
   ]
  },
  {
   "cell_type": "code",
   "execution_count": 10,
   "metadata": {},
   "outputs": [],
   "source": [
    "import tensorflow as tf\n",
    "import keras.backend as K\n",
    "\n",
    "\"\"\"\n",
    "# 撰寫自定義的 loss function: focal loss (https://blog.csdn.net/u014380165/article/details/77019084)\n",
    "\n",
    "撰寫重點：\n",
    "1. Loss function 是探討真實值與預測值的差異，因此自定義 Loss function 時務必要同時輸入真實值與預測值\n",
    "2. 在 tensorflow 中的運算都是以 tensor 的資料型態進行，因此在輸出 Loss 值時務必要轉成 tensor 資料型態\n",
    "\n",
    "\"\"\"\n",
    "def focal_loss(gamma=2., alpha=4.):\n",
    "    gamma = float(gamma)\n",
    "    alpha = float(alpha)\n",
    "    def focal_loss_fixed(y_true, y_pred):\n",
    "        \"\"\"Focal loss for multi-classification\n",
    "        FL(p_t)=-alpha(1-p_t)^{gamma}ln(p_t)\n",
    "        \"\"\"\n",
    "        epsilon = 1e-8\n",
    "        y_true = tf.convert_to_tensor(y_true, tf.float32)\n",
    "        y_pred = tf.convert_to_tensor(y_pred, tf.float32)\n",
    "\n",
    "        model_out = tf.add(y_pred, epsilon)\n",
    "        ce = tf.multiply(y_true, -tf.math.log(model_out))\n",
    "        weight = tf.multiply(y_true, tf.pow(tf.subtract(1., model_out), gamma))\n",
    "        fl = tf.multiply(alpha, tf.multiply(weight, ce))\n",
    "        reduced_fl = tf.reduce_max(fl, axis=1)\n",
    "        return tf.reduce_mean(reduced_fl)\n",
    "    return focal_loss_fixed"
   ]
  },
  {
   "cell_type": "code",
   "execution_count": 11,
   "metadata": {
    "scrolled": true
   },
   "outputs": [
    {
     "name": "stdout",
     "output_type": "stream",
     "text": [
      "Model: \"model_2\"\n",
      "_________________________________________________________________\n",
      "Layer (type)                 Output Shape              Param #   \n",
      "=================================================================\n",
      "input_3 (InputLayer)         [(None, 3072)]            0         \n",
      "_________________________________________________________________\n",
      "hidden_layer1 (Dense)        (None, 512)               1573376   \n",
      "_________________________________________________________________\n",
      "batch_normalization_6 (Batch (None, 512)               2048      \n",
      "_________________________________________________________________\n",
      "hidden_layer2 (Dense)        (None, 256)               131328    \n",
      "_________________________________________________________________\n",
      "batch_normalization_7 (Batch (None, 256)               1024      \n",
      "_________________________________________________________________\n",
      "hidden_layer3 (Dense)        (None, 128)               32896     \n",
      "_________________________________________________________________\n",
      "batch_normalization_8 (Batch (None, 128)               512       \n",
      "_________________________________________________________________\n",
      "output (Dense)               (None, 10)                1290      \n",
      "=================================================================\n",
      "Total params: 1,742,474\n",
      "Trainable params: 1,740,682\n",
      "Non-trainable params: 1,792\n",
      "_________________________________________________________________\n"
     ]
    },
    {
     "name": "stderr",
     "output_type": "stream",
     "text": [
      "2021-11-23 10:18:46.491834: W tensorflow/core/framework/cpu_allocator_impl.cc:80] Allocation of 614400000 exceeds 10% of free system memory.\n"
     ]
    },
    {
     "name": "stdout",
     "output_type": "stream",
     "text": [
      "Epoch 1/50\n",
      "49/49 [==============================] - 4s 56ms/step - loss: 6.1016 - accuracy: 0.3283 - val_loss: 6.4713 - val_accuracy: 0.2453\n",
      "Epoch 2/50\n",
      "49/49 [==============================] - 2s 47ms/step - loss: 4.3707 - accuracy: 0.4451 - val_loss: 5.5103 - val_accuracy: 0.3346\n",
      "Epoch 3/50\n",
      "49/49 [==============================] - 2s 50ms/step - loss: 3.9503 - accuracy: 0.4868 - val_loss: 4.8686 - val_accuracy: 0.3984\n",
      "Epoch 4/50\n",
      "49/49 [==============================] - 2s 51ms/step - loss: 3.6632 - accuracy: 0.5133 - val_loss: 4.4665 - val_accuracy: 0.4396\n",
      "Epoch 5/50\n",
      "49/49 [==============================] - 2s 48ms/step - loss: 3.4512 - accuracy: 0.5358 - val_loss: 4.3007 - val_accuracy: 0.4438\n",
      "Epoch 6/50\n",
      "49/49 [==============================] - 2s 45ms/step - loss: 3.2645 - accuracy: 0.5524 - val_loss: 4.0919 - val_accuracy: 0.4585\n",
      "Epoch 7/50\n",
      "49/49 [==============================] - 2s 46ms/step - loss: 3.0924 - accuracy: 0.5711 - val_loss: 3.9976 - val_accuracy: 0.4639\n",
      "Epoch 8/50\n",
      "49/49 [==============================] - 2s 45ms/step - loss: 2.9238 - accuracy: 0.5870 - val_loss: 4.0188 - val_accuracy: 0.4657\n",
      "Epoch 9/50\n",
      "49/49 [==============================] - 2s 46ms/step - loss: 2.7839 - accuracy: 0.6025 - val_loss: 3.9040 - val_accuracy: 0.4868\n",
      "Epoch 10/50\n",
      "49/49 [==============================] - 2s 46ms/step - loss: 2.6388 - accuracy: 0.6206 - val_loss: 3.9620 - val_accuracy: 0.4789\n",
      "Epoch 11/50\n",
      "49/49 [==============================] - 2s 45ms/step - loss: 2.4935 - accuracy: 0.6359 - val_loss: 3.9499 - val_accuracy: 0.4794\n",
      "Epoch 12/50\n",
      "49/49 [==============================] - 2s 45ms/step - loss: 2.3758 - accuracy: 0.6459 - val_loss: 4.1268 - val_accuracy: 0.4649\n",
      "Epoch 13/50\n",
      "49/49 [==============================] - 2s 44ms/step - loss: 2.2429 - accuracy: 0.6646 - val_loss: 4.0304 - val_accuracy: 0.4813\n",
      "Epoch 14/50\n",
      "49/49 [==============================] - 2s 44ms/step - loss: 2.1255 - accuracy: 0.6762 - val_loss: 4.0562 - val_accuracy: 0.4761\n",
      "Epoch 15/50\n",
      "49/49 [==============================] - 2s 45ms/step - loss: 1.9977 - accuracy: 0.6927 - val_loss: 4.2135 - val_accuracy: 0.4763\n",
      "Epoch 16/50\n",
      "49/49 [==============================] - 2s 45ms/step - loss: 1.8774 - accuracy: 0.7070 - val_loss: 4.2533 - val_accuracy: 0.4714\n",
      "Epoch 17/50\n",
      "49/49 [==============================] - 2s 45ms/step - loss: 1.7695 - accuracy: 0.7224 - val_loss: 4.1882 - val_accuracy: 0.4844\n",
      "Epoch 18/50\n",
      "49/49 [==============================] - 2s 49ms/step - loss: 1.6578 - accuracy: 0.7349 - val_loss: 4.1960 - val_accuracy: 0.4916\n",
      "Epoch 19/50\n",
      "49/49 [==============================] - 2s 51ms/step - loss: 1.5485 - accuracy: 0.7494 - val_loss: 4.3120 - val_accuracy: 0.4739\n",
      "Epoch 20/50\n",
      "49/49 [==============================] - 3s 56ms/step - loss: 1.4410 - accuracy: 0.7635 - val_loss: 4.5083 - val_accuracy: 0.4858\n",
      "Epoch 21/50\n",
      "49/49 [==============================] - 2s 49ms/step - loss: 1.3443 - accuracy: 0.7771 - val_loss: 4.4541 - val_accuracy: 0.4801\n",
      "Epoch 22/50\n",
      "49/49 [==============================] - 2s 47ms/step - loss: 1.2579 - accuracy: 0.7903 - val_loss: 4.4384 - val_accuracy: 0.4783\n",
      "Epoch 23/50\n",
      "49/49 [==============================] - 2s 47ms/step - loss: 1.1621 - accuracy: 0.8040 - val_loss: 4.4490 - val_accuracy: 0.4822\n",
      "Epoch 24/50\n",
      "49/49 [==============================] - 2s 47ms/step - loss: 1.0628 - accuracy: 0.8185 - val_loss: 4.7208 - val_accuracy: 0.4713\n",
      "Epoch 25/50\n",
      "49/49 [==============================] - 3s 52ms/step - loss: 0.9777 - accuracy: 0.8322 - val_loss: 4.7368 - val_accuracy: 0.4807\n",
      "Epoch 26/50\n",
      "49/49 [==============================] - 3s 54ms/step - loss: 0.8986 - accuracy: 0.8441 - val_loss: 4.6687 - val_accuracy: 0.4802\n",
      "Epoch 27/50\n",
      "49/49 [==============================] - 2s 46ms/step - loss: 0.8200 - accuracy: 0.8583 - val_loss: 5.0068 - val_accuracy: 0.4724\n",
      "Epoch 28/50\n",
      "49/49 [==============================] - 2s 44ms/step - loss: 0.7478 - accuracy: 0.8705 - val_loss: 4.8278 - val_accuracy: 0.4849\n",
      "Epoch 29/50\n",
      "49/49 [==============================] - 2s 50ms/step - loss: 0.6773 - accuracy: 0.8819 - val_loss: 5.1186 - val_accuracy: 0.4738\n",
      "Epoch 30/50\n",
      "49/49 [==============================] - 2s 48ms/step - loss: 0.6229 - accuracy: 0.8896 - val_loss: 5.1986 - val_accuracy: 0.4664\n",
      "Epoch 31/50\n",
      "49/49 [==============================] - 2s 49ms/step - loss: 0.5675 - accuracy: 0.9007 - val_loss: 5.1144 - val_accuracy: 0.4772\n",
      "Epoch 32/50\n",
      "49/49 [==============================] - 3s 63ms/step - loss: 0.5069 - accuracy: 0.9118 - val_loss: 5.2254 - val_accuracy: 0.4708\n",
      "Epoch 33/50\n",
      "49/49 [==============================] - 3s 67ms/step - loss: 0.4569 - accuracy: 0.9209 - val_loss: 5.3946 - val_accuracy: 0.4802\n",
      "Epoch 34/50\n",
      "49/49 [==============================] - 4s 79ms/step - loss: 0.4138 - accuracy: 0.9312 - val_loss: 5.4241 - val_accuracy: 0.4727\n",
      "Epoch 35/50\n",
      "49/49 [==============================] - 4s 74ms/step - loss: 0.3699 - accuracy: 0.9381 - val_loss: 5.4733 - val_accuracy: 0.4717\n",
      "Epoch 36/50\n",
      "49/49 [==============================] - 2s 49ms/step - loss: 0.3357 - accuracy: 0.9454 - val_loss: 5.6951 - val_accuracy: 0.4737\n",
      "Epoch 37/50\n",
      "49/49 [==============================] - 2s 47ms/step - loss: 0.2967 - accuracy: 0.9539 - val_loss: 5.7644 - val_accuracy: 0.4742\n",
      "Epoch 38/50\n",
      "49/49 [==============================] - 2s 45ms/step - loss: 0.2705 - accuracy: 0.9572 - val_loss: 5.6880 - val_accuracy: 0.4751\n",
      "Epoch 39/50\n",
      "49/49 [==============================] - 2s 44ms/step - loss: 0.2401 - accuracy: 0.9650 - val_loss: 5.8345 - val_accuracy: 0.4805\n",
      "Epoch 40/50\n",
      "49/49 [==============================] - 2s 44ms/step - loss: 0.2143 - accuracy: 0.9683 - val_loss: 5.8410 - val_accuracy: 0.4801\n",
      "Epoch 41/50\n",
      "49/49 [==============================] - 2s 49ms/step - loss: 0.1892 - accuracy: 0.9744 - val_loss: 5.9487 - val_accuracy: 0.4767\n",
      "Epoch 42/50\n",
      "49/49 [==============================] - 3s 51ms/step - loss: 0.1716 - accuracy: 0.9771 - val_loss: 6.0260 - val_accuracy: 0.4772\n",
      "Epoch 43/50\n",
      "49/49 [==============================] - 2s 48ms/step - loss: 0.1556 - accuracy: 0.9800 - val_loss: 6.0345 - val_accuracy: 0.4808\n",
      "Epoch 44/50\n",
      "49/49 [==============================] - 2s 45ms/step - loss: 0.1399 - accuracy: 0.9840 - val_loss: 6.1406 - val_accuracy: 0.4745\n",
      "Epoch 45/50\n",
      "49/49 [==============================] - 2s 47ms/step - loss: 0.1242 - accuracy: 0.9865 - val_loss: 6.1673 - val_accuracy: 0.4764\n",
      "Epoch 46/50\n",
      "49/49 [==============================] - 2s 48ms/step - loss: 0.1122 - accuracy: 0.9890 - val_loss: 6.1326 - val_accuracy: 0.4812\n",
      "Epoch 47/50\n",
      "49/49 [==============================] - 2s 48ms/step - loss: 0.0998 - accuracy: 0.9912 - val_loss: 6.2540 - val_accuracy: 0.4786\n",
      "Epoch 48/50\n",
      "49/49 [==============================] - 2s 45ms/step - loss: 0.0923 - accuracy: 0.9920 - val_loss: 6.4130 - val_accuracy: 0.4761\n",
      "Epoch 49/50\n",
      "49/49 [==============================] - 3s 56ms/step - loss: 0.0846 - accuracy: 0.9926 - val_loss: 6.3423 - val_accuracy: 0.4770\n",
      "Epoch 50/50\n",
      "49/49 [==============================] - 3s 56ms/step - loss: 0.0772 - accuracy: 0.9943 - val_loss: 6.4656 - val_accuracy: 0.4780\n"
     ]
    },
    {
     "ename": "KeyError",
     "evalue": "'val_f1sc'",
     "output_type": "error",
     "traceback": [
      "\u001b[0;31m---------------------------------------------------------------------------\u001b[0m",
      "\u001b[0;31mKeyError\u001b[0m                                  Traceback (most recent call last)",
      "\u001b[0;32m/tmp/ipykernel_17028/4282425138.py\u001b[0m in \u001b[0;36m<module>\u001b[0;34m\u001b[0m\n\u001b[1;32m     20\u001b[0m \u001b[0mvalid_acc\u001b[0m \u001b[0;34m=\u001b[0m \u001b[0mmodel\u001b[0m\u001b[0;34m.\u001b[0m\u001b[0mhistory\u001b[0m\u001b[0;34m.\u001b[0m\u001b[0mhistory\u001b[0m\u001b[0;34m[\u001b[0m\u001b[0;34m\"val_accuracy\"\u001b[0m\u001b[0;34m]\u001b[0m\u001b[0;34m\u001b[0m\u001b[0;34m\u001b[0m\u001b[0m\n\u001b[1;32m     21\u001b[0m \u001b[0;34m\u001b[0m\u001b[0m\n\u001b[0;32m---> 22\u001b[0;31m \u001b[0mvalid_f1sc\u001b[0m \u001b[0;34m=\u001b[0m \u001b[0mmodel\u001b[0m\u001b[0;34m.\u001b[0m\u001b[0mhistory\u001b[0m\u001b[0;34m.\u001b[0m\u001b[0mhistory\u001b[0m\u001b[0;34m[\u001b[0m\u001b[0;34m'val_f1sc'\u001b[0m\u001b[0;34m]\u001b[0m\u001b[0;34m\u001b[0m\u001b[0;34m\u001b[0m\u001b[0m\n\u001b[0m",
      "\u001b[0;31mKeyError\u001b[0m: 'val_f1sc'"
     ]
    }
   ],
   "source": [
    "model = build_mlp(input_shape=x_train.shape[1:])\n",
    "model.summary()\n",
    "optimizer = keras.optimizers.gradient_descent_v2.SGD(lr=LEARNING_RATE, nesterov=True, momentum=MOMENTUM)\n",
    "\"\"\"\n",
    "# 在 compile 時，使用自定義的 loss function\n",
    "\"\"\"\n",
    "model.compile(loss=focal_loss(), metrics=[\"accuracy\"], optimizer=optimizer)\n",
    "\n",
    "model.fit(x_train, y_train, \n",
    "          epochs=EPOCHS, \n",
    "          batch_size=BATCH_SIZE, \n",
    "          validation_data=(x_test, y_test), \n",
    "          shuffle=True\n",
    "         )\n",
    "\n",
    "# Collect results\n",
    "train_loss = model.history.history[\"loss\"]\n",
    "valid_loss = model.history.history[\"val_loss\"]\n",
    "train_acc = model.history.history[\"accuracy\"]\n",
    "valid_acc = model.history.history[\"val_accuracy\"]\n",
    "\n",
    "valid_f1sc = model.history.history['val_f1sc']"
   ]
  },
  {
   "cell_type": "code",
   "execution_count": 12,
   "metadata": {},
   "outputs": [
    {
     "data": {
      "image/png": "[encoded data removed]",
      "text/plain": [
       "<Figure size 432x288 with 1 Axes>"
      ]
     },
     "metadata": {
      "needs_background": "light"
     },
     "output_type": "display_data"
    },
    {
     "data": {
      "image/png": "[encoded data removed]",
      "text/plain": [
       "<Figure size 432x288 with 1 Axes>"
      ]
     },
     "metadata": {
      "needs_background": "light"
     },
     "output_type": "display_data"
    }
   ],
   "source": [
    "import matplotlib.pyplot as plt\n",
    "%matplotlib inline\n",
    "\n",
    "plt.plot(range(len(train_loss)), train_loss, label=\"train loss\")\n",
    "plt.plot(range(len(valid_loss)), valid_loss, label=\"valid loss\")\n",
    "plt.legend()\n",
    "plt.title(\"Loss\")\n",
    "plt.show()\n",
    "\n",
    "plt.plot(range(len(train_acc)), train_acc, label=\"train accuracy\")\n",
    "plt.plot(range(len(valid_acc)), valid_acc, label=\"valid accuracy\")\n",
    "plt.legend()\n",
    "plt.title(\"Accuracy\")\n",
    "plt.show()"
   ]
  },
  {
   "cell_type": "markdown",
   "metadata": {},
   "source": [
    "## Work\n",
    "1. 請自行定義一個 loss function, 為 0.3 * focal loss + 0.7 cross-entropy，訓練並比較結果\n"
   ]
  }
 ],
 "metadata": {
  "kernelspec": {
   "display_name": "Python 3 (ipykernel)",
   "language": "python",
   "name": "python3"
  },
  "language_info": {
   "codemirror_mode": {
    "name": "ipython",
    "version": 3
   },
   "file_extension": ".py",
   "mimetype": "text/x-python",
   "name": "python",
   "nbconvert_exporter": "python",
   "pygments_lexer": "ipython3",
   "version": "3.8.6"
  }
 },
 "nbformat": 4,
 "nbformat_minor": 2
}
