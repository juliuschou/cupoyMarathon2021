{
 "cells": [
  {
   "cell_type": "code",
   "execution_count": 2,
   "id": "f0ffc5dd",
   "metadata": {},
   "outputs": [],
   "source": [
    "import pandas as pd\n"
   ]
  },
  {
   "cell_type": "code",
   "execution_count": 4,
   "id": "823d2e08",
   "metadata": {},
   "outputs": [
    {
     "data": {
      "text/plain": [
       "[(16.336, 32.252], (32.252, 48.168], (48.168, 64.084], (0.34, 16.336], (64.084, 80.0]]\n",
       "Categories (5, interval[float64, right]): [(0.34, 16.336] < (16.336, 32.252] < (32.252, 48.168] < (48.168, 64.084] < (64.084, 80.0]]"
      ]
     },
     "execution_count": 4,
     "metadata": {},
     "output_type": "execute_result"
    }
   ],
   "source": [
    "#import data\n",
    "train= pd.read_csv('../data/titanic/train.csv')\n",
    "#fill Age data columns with average data\n",
    "train = train.fillna({\"Age\": train['Age'].mean()})\n",
    "\n",
    "#cut specifically define the bin edges. There is no guarantee about the distribution of items in each bin\n",
    "train['CategoricalAge'] = pd.cut(train['Age'], 5)\n",
    "train.CategoricalAge.unique()\n",
    "\n",
    "    "
   ]
  },
  {
   "cell_type": "code",
   "execution_count": 5,
   "id": "b1662a47",
   "metadata": {},
   "outputs": [],
   "source": [
    "#Categorized Age in to 5 groups\n",
    "train.loc[ train['Age'] <= 16, 'Age'] = 0\n",
    "train.loc[(train['Age'] > 16) & (train['Age'] <= 32), 'Age'] = 1\n",
    "train.loc[(train['Age'] > 32) & (train['Age'] <= 48), 'Age'] = 2\n",
    "train.loc[(train['Age'] > 48) & (train['Age'] <= 64), 'Age'] = 3\n",
    "train.loc[ train['Age'] > 64, 'Age'] = 4 ;\n"
   ]
  },
  {
   "cell_type": "code",
   "execution_count": 7,
   "id": "486b524f",
   "metadata": {},
   "outputs": [
    {
     "data": {
      "text/plain": [
       "[(-0.001, 7.854], (39.688, 512.329], (7.854, 10.5], (10.5, 21.679], (21.679, 39.688]]\n",
       "Categories (5, interval[float64, right]): [(-0.001, 7.854] < (7.854, 10.5] < (10.5, 21.679] < (21.679, 39.688] < (39.688, 512.329]]"
      ]
     },
     "execution_count": 7,
     "metadata": {},
     "output_type": "execute_result"
    }
   ],
   "source": [
    "#fill Fare data columns with average data\n",
    "train = train.fillna({\"Fare\": train['Fare'].mean()})\n",
    "train['CategoricalFare'] = pd.qcut(train['Fare'], 5) \n",
    "#qcut calculate the size of each bin in order to make sure the distribution of data in the bins is equal\n",
    "train.CategoricalFare.unique()"
   ]
  },
  {
   "cell_type": "code",
   "execution_count": 8,
   "id": "ae763bfe",
   "metadata": {},
   "outputs": [],
   "source": [
    "#Categorized Fare in to 5 groups\n",
    "train.loc[ train['Fare'] <= 7.854, 'Fare']  = 0\n",
    "train.loc[(train['Fare'] > 7.854) & (train['Fare'] <= 10.5), 'Fare'] = 1\n",
    "train.loc[(train['Fare'] > 10.5) & (train['Fare'] <= 21.679), 'Fare']   = 2\n",
    "train.loc[(train['Fare'] > 21.679) & (train['Fare'] <= 39.688), 'Fare']   = 3\n",
    "train.loc[(train['Fare'] > 39.688), 'Fare']   = 4\n",
    "train['Age'] = train['Age'].astype(int)\n",
    "train['Fare'] = train['Fare'].astype(int)"
   ]
  },
  {
   "cell_type": "code",
   "execution_count": 11,
   "id": "a85ff1d6",
   "metadata": {},
   "outputs": [],
   "source": [
    "#fill null data in Embarked with highest port of embarktion 'S'\n",
    "train = train.fillna({\"Embarked\": \"S\"})\n",
    "#Mapping string data into number in order to categorize data \n",
    "train['Sex'] = train['Sex'].map( {'female': 0, 'male': 1} ).astype(int)\n",
    "train['Embarked'] = train['Embarked'].map( {'S': 0, 'C': 1, 'Q': 2} ).astype(int)"
   ]
  },
  {
   "cell_type": "code",
   "execution_count": 13,
   "id": "2980a13c",
   "metadata": {},
   "outputs": [],
   "source": [
    "#get the length of the name\n",
    "train['Name_Count'] = train['Name'].apply(lambda x: len(x.split()))\n",
    "#check if passenger has cabin \n",
    "train['Has_Cabin'] = train[\"Cabin\"].apply(lambda x: 0 if type(x) == float else 1)\n",
    "#create new feature FamilySize as a combination of SibSp and Parch\n",
    "train['FamilySize'] = train['SibSp'] + train['Parch'] + 1\n",
    "#create new feature Solotraveler from FamilySize\n",
    "train['Solotravel'] = 0\n",
    "train.loc[train['FamilySize'] == 1, 'Solotravel'] = 1"
   ]
  },
  {
   "cell_type": "code",
   "execution_count": 15,
   "id": "7dee1eb2",
   "metadata": {},
   "outputs": [],
   "source": [
    "#Drop some columns that do not use for model prediction\n",
    "train =train.drop(['PassengerId','Name','Ticket','Cabin','CategoricalAge','CategoricalFare'],axis=1)"
   ]
  },
  {
   "cell_type": "code",
   "execution_count": 16,
   "id": "351b1931",
   "metadata": {},
   "outputs": [],
   "source": [
    "X = train.loc[:, train.columns != 'Survived'].values\n",
    "y = train.loc[:, 'Survived'].values"
   ]
  },
  {
   "cell_type": "code",
   "execution_count": 21,
   "id": "78c80b57",
   "metadata": {},
   "outputs": [
    {
     "data": {
      "text/plain": [
       "Index(['Survived', 'Pclass', 'Sex', 'Age', 'SibSp', 'Parch', 'Fare',\n",
       "       'Embarked', 'Name_Count', 'Has_Cabin', 'FamilySize', 'Solotravel'],\n",
       "      dtype='object')"
      ]
     },
     "execution_count": 21,
     "metadata": {},
     "output_type": "execute_result"
    }
   ],
   "source": [
    "train.columns"
   ]
  },
  {
   "cell_type": "markdown",
   "id": "9f137959",
   "metadata": {},
   "source": [
    "### Feature Importance - Decision Tree Model"
   ]
  },
  {
   "cell_type": "code",
   "execution_count": 22,
   "id": "93a6649f",
   "metadata": {},
   "outputs": [
    {
     "data": {
      "text/plain": [
       "DecisionTreeClassifier()"
      ]
     },
     "execution_count": 22,
     "metadata": {},
     "output_type": "execute_result"
    }
   ],
   "source": [
    "import matplotlib.pyplot as plt\n",
    "from sklearn.model_selection import train_test_split\n",
    "\n",
    "X_train, X_test, y_train, y_test = train_test_split(X, y, test_size=0.2, random_state= 20)\n",
    "\n",
    "from sklearn.tree import DecisionTreeClassifier #Decision Tree\n",
    "model = DecisionTreeClassifier()\n",
    "model.fit(X_train, y_train)\n"
   ]
  },
  {
   "cell_type": "code",
   "execution_count": 25,
   "id": "c000aa29",
   "metadata": {},
   "outputs": [
    {
     "name": "stdout",
     "output_type": "stream",
     "text": [
      "Feature: 0, Score: 0.13914\n",
      "Feature: 1, Score: 0.34733\n",
      "Feature: 2, Score: 0.09213\n",
      "Feature: 3, Score: 0.03627\n",
      "Feature: 4, Score: 0.01205\n",
      "Feature: 5, Score: 0.08097\n",
      "Feature: 6, Score: 0.06703\n",
      "Feature: 7, Score: 0.10505\n",
      "Feature: 8, Score: 0.05611\n",
      "Feature: 9, Score: 0.05528\n",
      "Feature: 10, Score: 0.00862\n"
     ]
    },
    {
     "data": {
      "image/png": "[encoded data removed]",
      "text/plain": [
       "<Figure size 432x288 with 1 Axes>"
      ]
     },
     "metadata": {
      "needs_background": "light"
     },
     "output_type": "display_data"
    },
    {
     "name": "stdout",
     "output_type": "stream",
     "text": [
      "Feature: 0, Score: 0.13914\n",
      "Feature: 1, Score: 0.34733\n",
      "Feature: 2, Score: 0.09213\n",
      "Feature: 5, Score: 0.08097\n",
      "Feature: 6, Score: 0.06703\n",
      "Feature: 7, Score: 0.10505\n",
      "Feature: 8, Score: 0.05611\n",
      "Feature: 9, Score: 0.05528\n"
     ]
    }
   ],
   "source": [
    "# get importance\n",
    "importance = model.feature_importances_\n",
    "# summarize feature importance\n",
    "for i,v in enumerate(importance):\n",
    "    print('Feature: %0d, Score: %.5f' % (i,v))\n",
    "    \n",
    "# plot feature importance\n",
    "plt.bar([x for x in range(len(importance))], importance)\n",
    "plt.axhline(y=0.05, color='r', linestyle='-')\n",
    "plt.show()\n",
    "\n",
    "#use only high important features to feed into a model\n",
    "for i,v in enumerate(importance):\n",
    "    if v >= 0.05:\n",
    "        print('Feature: %0d, Score: %.5f' % (i,v))"
   ]
  },
  {
   "cell_type": "markdown",
   "id": "e8d1e141",
   "metadata": {},
   "source": [
    "### Feature Importance - Linear Regression Model"
   ]
  },
  {
   "cell_type": "code",
   "execution_count": 29,
   "id": "c79af1df",
   "metadata": {},
   "outputs": [
    {
     "name": "stdout",
     "output_type": "stream",
     "text": [
      "Feature: 0, Score: -0.61634\n",
      "Feature: 1, Score: -2.33443\n",
      "Feature: 2, Score: -0.62064\n",
      "Feature: 3, Score: -0.20689\n",
      "Feature: 4, Score: -0.04796\n",
      "Feature: 5, Score: 0.28623\n",
      "Feature: 6, Score: 0.25230\n",
      "Feature: 7, Score: 0.11414\n",
      "Feature: 8, Score: 0.57766\n",
      "Feature: 9, Score: -0.25423\n",
      "Feature: 10, Score: -0.46428\n"
     ]
    },
    {
     "data": {
      "image/png": "[encoded data removed]",
      "text/plain": [
       "<Figure size 432x288 with 1 Axes>"
      ]
     },
     "metadata": {
      "needs_background": "light"
     },
     "output_type": "display_data"
    },
    {
     "name": "stdout",
     "output_type": "stream",
     "text": [
      "Feature: 0, Score: -0.61634\n",
      "Feature: 1, Score: -2.33443\n",
      "Feature: 2, Score: -0.62064\n",
      "Feature: 8, Score: 0.57766\n",
      "Feature: 10, Score: -0.46428\n"
     ]
    }
   ],
   "source": [
    "from sklearn.linear_model import LogisticRegression\n",
    "model_l = LogisticRegression()\n",
    "model_l.fit(X_train, y_train)\n",
    "\n",
    "# get importance\n",
    "importance_l = model_l.coef_[0]\n",
    "\n",
    "# summarize feature importance\n",
    "for i,v in enumerate(importance_l):\n",
    "  print('Feature: %0d, Score: %.5f' % (i,v))\n",
    "\n",
    "# plot feature importance\n",
    "plt.bar([x for x in range(len(importance_l))], importance_l)\n",
    "plt.axhline(y=0.3, color='r', linestyle='-')\n",
    "plt.axhline(y=-0.3, color='r', linestyle='-')\n",
    "plt.show()\n",
    "\n",
    "#use only high important features to feed into a model\n",
    "for i,v in enumerate(importance_l):\n",
    "    if v >= 0.3 or v <= -0.3:\n",
    "        print('Feature: %0d, Score: %.5f' % (i,v))"
   ]
  },
  {
   "cell_type": "code",
   "execution_count": 30,
   "id": "4b30959b",
   "metadata": {},
   "outputs": [
    {
     "data": {
      "image/png": "[encoded data removed]",
      "text/plain": [
       "<Figure size 1152x1152 with 2 Axes>"
      ]
     },
     "metadata": {
      "needs_background": "light"
     },
     "output_type": "display_data"
    }
   ],
   "source": [
    "import seaborn as sns\n",
    "import matplotlib.pyplot as plt\n",
    "\n",
    "train_imp = train[['Pclass', 'Sex', 'Age', 'Fare','Embarked', 'Name_Count', 'Has_Cabin', 'FamilySize']] #8 important features\n",
    "plt.figure(figsize=(16,16))\n",
    "g = sns.heatmap(train_imp.corr(method='spearman'),annot=True,cmap=\"RdYlGn\")"
   ]
  },
  {
   "cell_type": "code",
   "execution_count": 31,
   "id": "7d197c1e",
   "metadata": {},
   "outputs": [
    {
     "name": "stdout",
     "output_type": "stream",
     "text": [
      "Pclass      Fare         -0.692857\n",
      "Fare        Pclass       -0.692857\n",
      "Pclass      Has_Cabin    -0.683291\n",
      "Has_Cabin   Pclass       -0.683291\n",
      "Pclass      Age          -0.348396\n",
      "Age         Pclass       -0.348396\n",
      "Name_Count  Sex          -0.307312\n",
      "Sex         Name_Count   -0.307312\n",
      "            FamilySize   -0.292035\n",
      "FamilySize  Sex          -0.292035\n",
      "Fare        Sex          -0.246571\n",
      "Sex         Fare         -0.246571\n",
      "Pclass      Name_Count   -0.220829\n",
      "Name_Count  Pclass       -0.220829\n",
      "FamilySize  Age          -0.179675\n",
      "Age         FamilySize   -0.179675\n",
      "Embarked    Name_Count   -0.148167\n",
      "Name_Count  Embarked     -0.148167\n",
      "Sex         Has_Cabin    -0.140391\n",
      "Has_Cabin   Sex          -0.140391\n",
      "Sex         Embarked     -0.120400\n",
      "Embarked    Sex          -0.120400\n",
      "Pclass      FamilySize   -0.075698\n",
      "FamilySize  Pclass       -0.075698\n",
      "Embarked    Age          -0.055191\n",
      "Age         Embarked     -0.055191\n",
      "Fare        Embarked     -0.024278\n",
      "Embarked    Fare         -0.024278\n",
      "            FamilySize   -0.020141\n",
      "FamilySize  Embarked     -0.020141\n",
      "Pclass      Embarked     -0.004962\n",
      "Embarked    Pclass       -0.004962\n",
      "Sex         Age           0.060247\n",
      "Age         Sex           0.060247\n",
      "Embarked    Has_Cabin     0.069204\n",
      "Has_Cabin   Embarked      0.069204\n",
      "Age         Name_Count    0.083361\n",
      "Name_Count  Age           0.083361\n",
      "FamilySize  Has_Cabin     0.109296\n",
      "Has_Cabin   FamilySize    0.109296\n",
      "Fare        Age           0.130567\n",
      "Age         Fare          0.130567\n",
      "Sex         Pclass        0.135775\n",
      "Pclass      Sex           0.135775\n",
      "Has_Cabin   Name_Count    0.177818\n",
      "Name_Count  Has_Cabin     0.177818\n",
      "Has_Cabin   Age           0.256120\n",
      "Age         Has_Cabin     0.256120\n",
      "Fare        Name_Count    0.275084\n",
      "Name_Count  Fare          0.275084\n",
      "FamilySize  Name_Count    0.346303\n",
      "Name_Count  FamilySize    0.346303\n",
      "Fare        FamilySize    0.517433\n",
      "FamilySize  Fare          0.517433\n",
      "Fare        Has_Cabin     0.530523\n",
      "Has_Cabin   Fare          0.530523\n",
      "dtype: float64\n",
      "Pclass      Pclass        1.0\n",
      "Name_Count  Name_Count    1.0\n",
      "Embarked    Embarked      1.0\n",
      "Fare        Fare          1.0\n",
      "Age         Age           1.0\n",
      "Sex         Sex           1.0\n",
      "Has_Cabin   Has_Cabin     1.0\n",
      "FamilySize  FamilySize    1.0\n",
      "dtype: float64\n"
     ]
    }
   ],
   "source": [
    "corre = train_imp.corr(method='spearman')\n",
    "#low correlation features\n",
    "corre_pairs = corre.unstack()\n",
    "sorted_pairss = corre_pairs.sort_values(kind=\"quicksort\")\n",
    "pairss = sorted_pairss[sorted_pairss < 0.8]\n",
    "print(pairss)\n",
    "#filter out if there are high correlation\n",
    "strong_pairss = sorted_pairss[sorted_pairss > 0.8]\n",
    "print(strong_pairss)"
   ]
  },
  {
   "cell_type": "code",
   "execution_count": null,
   "id": "8fef5e55",
   "metadata": {},
   "outputs": [],
   "source": []
  },
  {
   "cell_type": "code",
   "execution_count": 33,
   "id": "c0a55371",
   "metadata": {},
   "outputs": [
    {
     "name": "stderr",
     "output_type": "stream",
     "text": [
      "/home/ubuntu/ml/kkbox-churn-kaggle/lib/python3.8/site-packages/xgboost/sklearn.py:1224: UserWarning: The use of label encoder in XGBClassifier is deprecated and will be removed in a future release. To remove this warning, do the following: 1) Pass option use_label_encoder=False when constructing XGBClassifier object; and 2) Encode your labels (y) as integers starting with 0, i.e. 0, 1, 2, ..., [num_class - 1].\n",
      "  warnings.warn(label_encoder_deprecation_msg, UserWarning)\n"
     ]
    },
    {
     "name": "stdout",
     "output_type": "stream",
     "text": [
      "[10:48:35] WARNING: ../src/learner.cc:1115: Starting in XGBoost 1.3.0, the default evaluation metric used with the objective 'binary:logistic' was changed from 'error' to 'logloss'. Explicitly set eval_metric if you'd like to restore the old behavior.\n"
     ]
    }
   ],
   "source": [
    "from xgboost import XGBClassifier\n",
    "import xgboost as xgb\n",
    "\n",
    "#Use only 8 important features\n",
    "drop_elements = ['SibSp','Parch','Solotravel']\n",
    "train_final = train.drop(drop_elements, axis = 1)\n",
    "XX = train_final.loc[:, train_final.columns != 'Survived'].values\n",
    "yy = train_final.loc[:, 'Survived'].values\n",
    "XX_train, XX_test, yy_train, yy_test = train_test_split(XX, yy, test_size=0.2, random_state= 123)\n",
    "xgb_model = xgb.XGBClassifier(\n",
    " #learning_rate = 0.02,\n",
    " n_estimators= 2000,\n",
    " max_depth= 4,\n",
    " min_child_weight= 2,\n",
    " #gamma=1,\n",
    " gamma=0.9,                        \n",
    " subsample=0.8,\n",
    " colsample_bytree=0.8,\n",
    " objective= 'binary:logistic',\n",
    " nthread= -1,\n",
    " scale_pos_weight=1)\n",
    "xgb_model.fit(XX_train, yy_train)\n",
    "xgb_model.score(XX_test,yy_test)\n",
    "results = xgb_model.predict(XX_test)"
   ]
  },
  {
   "cell_type": "code",
   "execution_count": null,
   "id": "e4ee49a6",
   "metadata": {},
   "outputs": [],
   "source": []
  }
 ],
 "metadata": {
  "kernelspec": {
   "display_name": "Python 3 (ipykernel)",
   "language": "python",
   "name": "python3"
  },
  "language_info": {
   "codemirror_mode": {
    "name": "ipython",
    "version": 3
   },
   "file_extension": ".py",
   "mimetype": "text/x-python",
   "name": "python",
   "nbconvert_exporter": "python",
   "pygments_lexer": "ipython3",
   "version": "3.8.10"
  }
 },
 "nbformat": 4,
 "nbformat_minor": 5
}
