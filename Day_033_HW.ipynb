{
 "cells": [
  {
   "cell_type": "markdown",
   "metadata": {},
   "source": [
    "## 練習時間"
   ]
  },
  {
   "cell_type": "markdown",
   "metadata": {},
   "source": [
    "請觀看李宏毅教授以神奇寶貝進化 CP 值預測的範例，解說何謂機器學習與過擬合。並回答以下問題"
   ]
  },
  {
   "cell_type": "markdown",
   "metadata": {},
   "source": [
    "[youtube](https://www.youtube.com/watch?v=fegAeph9UaA)"
   ]
  },
  {
   "cell_type": "markdown",
   "metadata": {},
   "source": [
    "### 1. 模型的泛化能力 (generalization) 是指什麼？ \n",
    "> 經過訓練資料評選出來的model，對未知(新的)的預測能力。\n",
    "\n"
   ]
  },
  {
   "cell_type": "markdown",
   "metadata": {},
   "source": [
    "### 2. 分類問題與回歸問題分別可用的目標函數有哪些？\n",
    ">> 機器學習中所有的算法都需要最大化或最小化一個函數，這個函數被稱為「目標函數」。其中，我們一般把最小化的一類函數，稱為「損失函數」。-大數據文摘2018-06-22\n",
    "\n",
    "* 分類問題: <br />\n",
    "\t參考資料: https://www.twblogs.net/a/5c188f10bd9eee5e41847a50\n",
    "\t1. 0-1損失函數\n",
    "\t2. 交叉熵損失函數（Logistic迴歸）\n",
    "\t3. 交叉熵損失函數（Softmax激活）\n",
    "\n",
    "\t\n",
    "* 迴歸問題:<br />\n",
    "\t參考資料: \n",
    "    https://buzzorange.com/techorange/2018/06/22/computer-learning-5-tips/\n",
    "\t\n",
    "\t1. 均方誤差\n",
    "\t2. 平均絕對值誤差（也稱 L1 損失）\n",
    "\t3. Log-Cosh 損失\n",
    "\t4. Huber 損失\t\n",
    "\t5. 分位數損失"
   ]
  },
  {
   "cell_type": "code",
   "execution_count": null,
   "metadata": {},
   "outputs": [],
   "source": []
  }
 ],
 "metadata": {
  "kernelspec": {
   "display_name": "Python 3 (ipykernel)",
   "language": "python",
   "name": "python3"
  },
  "language_info": {
   "codemirror_mode": {
    "name": "ipython",
    "version": 3
   },
   "file_extension": ".py",
   "mimetype": "text/x-python",
   "name": "python",
   "nbconvert_exporter": "python",
   "pygments_lexer": "ipython3",
   "version": "3.8.6"
  }
 },
 "nbformat": 4,
 "nbformat_minor": 2
}
