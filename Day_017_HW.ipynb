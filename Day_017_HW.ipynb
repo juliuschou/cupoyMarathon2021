{
 "cells": [
  {
   "cell_type": "markdown",
   "metadata": {},
   "source": [
    "# 作業\n",
    "- 新增一個欄位 `customized_age_grp`，把 `age` 分為 (0, 10], (10, 20], (20, 30], (30, 50], (50, 100] 這五組，\n",
    "'(' 表示不包含, ']' 表示包含  \n",
    "- Hints: 執行 ??pd.cut()，了解提供其中 bins 這個參數的使用方式"
   ]
  },
  {
   "cell_type": "markdown",
   "metadata": {},
   "source": [
    "# [作業目標]\n",
    "- 請同學試著查詢 pandas.cut 這個函數還有哪些參數, 藉由改動參數以達成目標\n",
    "- 藉由查詢與改動參數的過程, 熟悉查詢函數的方法與理解參數性質, 並了解數值的離散化的調整工具"
   ]
  },
  {
   "cell_type": "markdown",
   "metadata": {},
   "source": [
    "# [作業重點]\n",
    "- 仿照 In[3], In[4] 的語法, 並設定 pd.cut 的參數以指定間距"
   ]
  },
  {
   "cell_type": "code",
   "execution_count": 1,
   "metadata": {},
   "outputs": [],
   "source": [
    "# 載入套件\n",
    "import os\n",
    "import numpy as np\n",
    "import pandas as pd\n",
    "\n",
    "import matplotlib.pyplot as plt\n",
    "%matplotlib inline"
   ]
  },
  {
   "cell_type": "code",
   "execution_count": 2,
   "metadata": {},
   "outputs": [],
   "source": [
    "# 初始設定 Ages 的資料\n",
    "ages = pd.DataFrame({\"age\": [18,22,25,27,7,21,23,37,30,61,45,41,9,18,80,100]})"
   ]
  },
  {
   "cell_type": "markdown",
   "metadata": {},
   "source": [
    "#### 等寬劃分"
   ]
  },
  {
   "cell_type": "code",
   "execution_count": 3,
   "metadata": {},
   "outputs": [],
   "source": [
    "# 新增欄位 \"equal_width_age\", 對年齡做等寬劃分\n",
    "ages[\"equal_width_age\"] = pd.cut(ages[\"age\"], 4)"
   ]
  },
  {
   "cell_type": "code",
   "execution_count": 4,
   "metadata": {},
   "outputs": [
    {
     "data": {
      "text/plain": [
       "(6.907, 30.25]    10\n",
       "(30.25, 53.5]      3\n",
       "(76.75, 100.0]     2\n",
       "(53.5, 76.75]      1\n",
       "Name: equal_width_age, dtype: int64"
      ]
     },
     "execution_count": 4,
     "metadata": {},
     "output_type": "execute_result"
    }
   ],
   "source": [
    "# 觀察等寬劃分下, 每個種組距各出現幾次\n",
    "ages[\"equal_width_age\"].value_counts() # 每個 bin 的值的範圍大小都是一樣的"
   ]
  },
  {
   "cell_type": "markdown",
   "metadata": {},
   "source": [
    "#### 等頻劃分"
   ]
  },
  {
   "cell_type": "code",
   "execution_count": 5,
   "metadata": {},
   "outputs": [],
   "source": [
    "# 新增欄位 \"equal_freq_age\", 對年齡做等頻劃分\n",
    "ages[\"equal_freq_age\"] = pd.qcut(ages[\"age\"], 4)"
   ]
  },
  {
   "cell_type": "code",
   "execution_count": 6,
   "metadata": {},
   "outputs": [
    {
     "data": {
      "text/plain": [
       "(6.999, 20.25]    4\n",
       "(20.25, 26.0]     4\n",
       "(26.0, 42.0]      4\n",
       "(42.0, 100.0]     4\n",
       "Name: equal_freq_age, dtype: int64"
      ]
     },
     "execution_count": 6,
     "metadata": {},
     "output_type": "execute_result"
    }
   ],
   "source": [
    "# 觀察等頻劃分下, 每個種組距各出現幾次\n",
    "ages[\"equal_freq_age\"].value_counts() # 每個 bin 的資料筆數是一樣的"
   ]
  },
  {
   "cell_type": "code",
   "execution_count": 17,
   "metadata": {},
   "outputs": [
    {
     "data": {
      "text/plain": [
       "0        Low\n",
       "1        Low\n",
       "2        Low\n",
       "3        Low\n",
       "4        Low\n",
       "5        Low\n",
       "6        Low\n",
       "7     Medium\n",
       "8        Low\n",
       "9       High\n",
       "10    Medium\n",
       "11    Medium\n",
       "12       Low\n",
       "13       Low\n",
       "14       Top\n",
       "15       Top\n",
       "Name: equal_freq_age1, dtype: category\n",
       "Categories (4, object): ['Low' < 'Medium' < 'High' < 'Top']"
      ]
     },
     "execution_count": 17,
     "metadata": {},
     "output_type": "execute_result"
    }
   ],
   "source": [
    "# 新增欄位 \"equal_freq_age\", 對年齡做等頻劃分\n",
    "ages[\"equal_freq_age1\"] = pd.cut(ages[\"age\"], 4, labels=['Low', 'Medium', 'High', 'Top'])\n",
    "ages[\"equal_freq_age1\"]"
   ]
  },
  {
   "cell_type": "code",
   "execution_count": 21,
   "metadata": {},
   "outputs": [
    {
     "data": {
      "text/plain": [
       "0       (7.0, 30.0]\n",
       "1       (7.0, 30.0]\n",
       "2       (7.0, 30.0]\n",
       "3       (7.0, 30.0]\n",
       "4       (7.0, 30.0]\n",
       "5       (7.0, 30.0]\n",
       "6       (7.0, 30.0]\n",
       "7      (30.0, 54.0]\n",
       "8       (7.0, 30.0]\n",
       "9      (54.0, 77.0]\n",
       "10     (30.0, 54.0]\n",
       "11     (30.0, 54.0]\n",
       "12      (7.0, 30.0]\n",
       "13      (7.0, 30.0]\n",
       "14    (77.0, 100.0]\n",
       "15    (77.0, 100.0]\n",
       "Name: equal_freq_age2, dtype: category\n",
       "Categories (4, interval[float64, right]): [(7.0, 30.0] < (30.0, 54.0] < (54.0, 77.0] < (77.0, 100.0]]"
      ]
     },
     "execution_count": 21,
     "metadata": {},
     "output_type": "execute_result"
    }
   ],
   "source": [
    "# 新增欄位 \"equal_freq_age\", 對年齡做等頻劃分\n",
    "ages[\"equal_freq_age2\"] = pd.cut(ages[\"age\"], 4, precision=0, include_lowest=False)\n",
    "ages[\"equal_freq_age2\"]"
   ]
  },
  {
   "cell_type": "code",
   "execution_count": 22,
   "metadata": {
    "scrolled": true
   },
   "outputs": [
    {
     "data": {
      "text/plain": [
       "0       (7.0, 30.0]\n",
       "1       (7.0, 30.0]\n",
       "2       (7.0, 30.0]\n",
       "3       (7.0, 30.0]\n",
       "4       (7.0, 30.0]\n",
       "5       (7.0, 30.0]\n",
       "6       (7.0, 30.0]\n",
       "7      (30.0, 54.0]\n",
       "8       (7.0, 30.0]\n",
       "9      (54.0, 77.0]\n",
       "10     (30.0, 54.0]\n",
       "11     (30.0, 54.0]\n",
       "12      (7.0, 30.0]\n",
       "13      (7.0, 30.0]\n",
       "14    (77.0, 100.0]\n",
       "15    (77.0, 100.0]\n",
       "Name: equal_freq_age3, dtype: category\n",
       "Categories (4, interval[float64, right]): [(7.0, 30.0] < (30.0, 54.0] < (54.0, 77.0] < (77.0, 100.0]]"
      ]
     },
     "execution_count": 22,
     "metadata": {},
     "output_type": "execute_result"
    }
   ],
   "source": [
    "ages[\"equal_freq_age3\"] = pd.cut(ages[\"age\"], 4, precision=0)\n",
    "ages[\"equal_freq_age3\"]"
   ]
  },
  {
   "cell_type": "code",
   "execution_count": 32,
   "metadata": {},
   "outputs": [
    {
     "name": "stdout",
     "output_type": "stream",
     "text": [
      "[7, 9, 18, 18, 21, 22, 23, 25, 27, 30, 37, 41, 45, 61, 80, 100]\n"
     ]
    },
    {
     "data": {
      "text/plain": [
       "0       [7.0, 30.0)\n",
       "1       [7.0, 30.0)\n",
       "2       [7.0, 30.0)\n",
       "3       [7.0, 30.0)\n",
       "4       [7.0, 30.0)\n",
       "5       [7.0, 30.0)\n",
       "6       [7.0, 30.0)\n",
       "7      [30.0, 54.0)\n",
       "8       [7.0, 30.0)\n",
       "9      [54.0, 77.0)\n",
       "10     [30.0, 54.0)\n",
       "11     [30.0, 54.0)\n",
       "12      [7.0, 30.0)\n",
       "13      [7.0, 30.0)\n",
       "14    [77.0, 100.0)\n",
       "15    [77.0, 100.0)\n",
       "Name: equal_freq_age4, dtype: category\n",
       "Categories (4, interval[float64, left]): [[7.0, 30.0) < [30.0, 54.0) < [54.0, 77.0) < [77.0, 100.0)]"
      ]
     },
     "execution_count": 32,
     "metadata": {},
     "output_type": "execute_result"
    }
   ],
   "source": [
    "print(sorted(ages['age']))\n",
    "ages[\"equal_freq_age4\"] = pd.cut(ages[\"age\"], 4, precision=0, right=False)\n",
    "ages[\"equal_freq_age4\"]"
   ]
  },
  {
   "cell_type": "code",
   "execution_count": 35,
   "metadata": {},
   "outputs": [
    {
     "name": "stdout",
     "output_type": "stream",
     "text": [
      "[7, 9, 18, 18, 21, 22, 23, 25, 27, 30, 37, 41, 45, 61, 80, 100]\n"
     ]
    },
    {
     "data": {
      "text/plain": [
       "0       (7.0, 30.0]\n",
       "1       (7.0, 30.0]\n",
       "2       (7.0, 30.0]\n",
       "3       (7.0, 30.0]\n",
       "4       (7.0, 30.0]\n",
       "5       (7.0, 30.0]\n",
       "6       (7.0, 30.0]\n",
       "7      (30.0, 54.0]\n",
       "8       (7.0, 30.0]\n",
       "9      (54.0, 77.0]\n",
       "10     (30.0, 54.0]\n",
       "11     (30.0, 54.0]\n",
       "12      (7.0, 30.0]\n",
       "13      (7.0, 30.0]\n",
       "14    (77.0, 100.0]\n",
       "15    (77.0, 100.0]\n",
       "Name: equal_freq_age4, dtype: category\n",
       "Categories (4, interval[float64, right]): [(7.0, 30.0] < (30.0, 54.0] < (54.0, 77.0] < (77.0, 100.0]]"
      ]
     },
     "execution_count": 35,
     "metadata": {},
     "output_type": "execute_result"
    }
   ],
   "source": [
    "print(sorted(ages['age']))\n",
    "ages[\"equal_freq_age4\"] = pd.cut(ages[\"age\"], 4, precision=0, right=True)\n",
    "ages[\"equal_freq_age4\"]"
   ]
  },
  {
   "cell_type": "code",
   "execution_count": 24,
   "metadata": {},
   "outputs": [
    {
     "data": {
      "text/plain": [
       "(0       (7.0, 30.0]\n",
       " 1       (7.0, 30.0]\n",
       " 2       (7.0, 30.0]\n",
       " 3       (7.0, 30.0]\n",
       " 4       (7.0, 30.0]\n",
       " 5       (7.0, 30.0]\n",
       " 6       (7.0, 30.0]\n",
       " 7      (30.0, 54.0]\n",
       " 8       (7.0, 30.0]\n",
       " 9      (54.0, 77.0]\n",
       " 10     (30.0, 54.0]\n",
       " 11     (30.0, 54.0]\n",
       " 12      (7.0, 30.0]\n",
       " 13      (7.0, 30.0]\n",
       " 14    (77.0, 100.0]\n",
       " 15    (77.0, 100.0]\n",
       " Name: age, dtype: category\n",
       " Categories (4, interval[float64, right]): [(7.0, 30.0] < (30.0, 54.0] < (54.0, 77.0] < (77.0, 100.0]],\n",
       " array([  6.907,  30.25 ,  53.5  ,  76.75 , 100.   ]))"
      ]
     },
     "execution_count": 24,
     "metadata": {},
     "output_type": "execute_result"
    }
   ],
   "source": [
    "pd.cut(ages[\"age\"], 4, precision=0, retbins=True)\n"
   ]
  },
  {
   "cell_type": "code",
   "execution_count": null,
   "metadata": {},
   "outputs": [],
   "source": []
  }
 ],
 "metadata": {
  "kernelspec": {
   "display_name": "Python 3 (ipykernel)",
   "language": "python",
   "name": "python3"
  },
  "language_info": {
   "codemirror_mode": {
    "name": "ipython",
    "version": 3
   },
   "file_extension": ".py",
   "mimetype": "text/x-python",
   "name": "python",
   "nbconvert_exporter": "python",
   "pygments_lexer": "ipython3",
   "version": "3.8.6"
  }
 },
 "nbformat": 4,
 "nbformat_minor": 2
}
