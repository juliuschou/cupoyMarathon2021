{
 "cells": [
  {
   "cell_type": "markdown",
   "metadata": {},
   "source": [
    "## 範例重點\n",
    "* 學習如何在 keras 中加入自定義的 callbacks\n",
    "* 知道 callback function 可以動作的時機"
   ]
  },
  {
   "cell_type": "code",
   "execution_count": 1,
   "metadata": {},
   "outputs": [
    {
     "name": "stderr",
     "output_type": "stream",
     "text": [
      "2021-11-23 08:17:02.906337: W tensorflow/stream_executor/platform/default/dso_loader.cc:64] Could not load dynamic library 'libcudart.so.11.0'; dlerror: libcudart.so.11.0: cannot open shared object file: No such file or directory\n",
      "2021-11-23 08:17:02.906397: I tensorflow/stream_executor/cuda/cudart_stub.cc:29] Ignore above cudart dlerror if you do not have a GPU set up on your machine.\n"
     ]
    }
   ],
   "source": [
    "import os\n",
    "import keras\n",
    "import tensorflow\n",
    "from keras.datasets import cifar10\n",
    "\n",
    "import matplotlib.pyplot as plt\n",
    "%matplotlib inline\n",
    "\n",
    "\n",
    "# 本作業可以不需使用 GPU, 將 GPU 設定為 \"無\" (若想使用可自行開啟)\n",
    "os.environ[\"CUDA_VISIBLE_DEVICES\"] = \"\""
   ]
  },
  {
   "cell_type": "code",
   "execution_count": 2,
   "metadata": {},
   "outputs": [
    {
     "name": "stdout",
     "output_type": "stream",
     "text": [
      "x_train shape: (50000, 32, 32, 3)\n",
      "50000 train samples\n",
      "10000 test samples\n"
     ]
    }
   ],
   "source": [
    "num_classes = 10\n",
    "\n",
    "(x_train, y_train), (x_test, y_test) = cifar10.load_data()\n",
    "\n",
    "print('x_train shape:', x_train.shape)\n",
    "print(x_train.shape[0], 'train samples')\n",
    "print(x_test.shape[0], 'test samples')"
   ]
  },
  {
   "cell_type": "code",
   "execution_count": 3,
   "metadata": {},
   "outputs": [],
   "source": [
    "## 資料前處理\n",
    "def preproc_x(x, flatten=True):\n",
    "    x = x / 255.\n",
    "    if flatten:\n",
    "        x = x.reshape((len(x), -1))\n",
    "    return x\n",
    "\n",
    "def preproc_y(y, num_classes=10):\n",
    "    if y.shape[-1] == 1:\n",
    "        y = keras.utils.np_utils.to_categorical(y, num_classes)\n",
    "    return y    "
   ]
  },
  {
   "cell_type": "code",
   "execution_count": 4,
   "metadata": {},
   "outputs": [],
   "source": [
    "# 資料前處理 - X 標準化\n",
    "x_train = preproc_x(x_train)\n",
    "x_test = preproc_x(x_test)\n",
    "\n",
    "# 資料前處理 -Y 轉成 onehot\n",
    "y_train = preproc_y(y_train)\n",
    "y_test = preproc_y(y_test)"
   ]
  },
  {
   "cell_type": "code",
   "execution_count": 5,
   "metadata": {},
   "outputs": [],
   "source": [
    "from keras.layers import BatchNormalization\n",
    "\n",
    "\"\"\"\n",
    "建立神經網路，並加入 BN layer\n",
    "\"\"\"\n",
    "def build_mlp(input_shape, output_units=10, num_neurons=[512, 256, 128]):\n",
    "    input_layer = keras.layers.Input(input_shape)\n",
    "    \n",
    "    for i, n_units in enumerate(num_neurons):\n",
    "        if i == 0:\n",
    "            x = keras.layers.Dense(units=n_units, \n",
    "                                   activation=\"relu\", \n",
    "                                   name=\"hidden_layer\"+str(i+1))(input_layer)\n",
    "            x = BatchNormalization()(x)\n",
    "        else:\n",
    "            x = keras.layers.Dense(units=n_units, \n",
    "                                   activation=\"relu\", \n",
    "                                   name=\"hidden_layer\"+str(i+1))(x)\n",
    "            x = BatchNormalization()(x)\n",
    "    \n",
    "    out = keras.layers.Dense(units=output_units, activation=\"softmax\", name=\"output\")(x)\n",
    "    \n",
    "    model = keras.models.Model(inputs=[input_layer], outputs=[out])\n",
    "    return model"
   ]
  },
  {
   "cell_type": "code",
   "execution_count": 6,
   "metadata": {},
   "outputs": [],
   "source": [
    "## 超參數設定\n",
    "LEARNING_RATE = 1e-3\n",
    "EPOCHS = 50\n",
    "BATCH_SIZE = 1024\n",
    "MOMENTUM = 0.95"
   ]
  },
  {
   "cell_type": "code",
   "execution_count": 14,
   "metadata": {},
   "outputs": [],
   "source": [
    "\"\"\"\n",
    "# 載入 Callbacks，撰寫一個 f1 score 的 callback function\n",
    "\"\"\"\n",
    "\n",
    "from keras.callbacks import Callback\n",
    "from sklearn.metrics import f1_score\n",
    "\n",
    "class f1sc(Callback):\n",
    "    def __init__(self, val_data=(x_test, y_test)):\n",
    "        self.validation_data = val_data\n",
    "    \n",
    "    def on_train_begin(self, epoch, logs = {}):\n",
    "        self.params['metrics'] = []\n",
    "        logs = logs or {}\n",
    "        record_items = [\"val_auc\", \"val_f1sc\", \"val_fp\", \"val_fn\", \"val_tp\", \"val_tn\"]\n",
    "        \n",
    "        for i in record_items:\n",
    "            if i not in self.params['metrics']:\n",
    "                self.params['metrics'].append(i)\n",
    "        \n",
    "        '''\n",
    "        for i in record_items:\n",
    "            try:\n",
    "                if i not in self.params['metrics']:\n",
    "                    self.params['metrics'].append(i)\n",
    "            except:\n",
    "                self.params['metrics']=i\n",
    "        '''\n",
    "    def on_epoch_end(self, epoch, logs = {}, thres=0.5):\n",
    "        logs = logs or {}\n",
    "        y_true = self.validation_data[1].argmax(axis = 1)\n",
    "        y_pred = self.model.predict(self.validation_data[0])\n",
    "        y_pred = (y_pred[:, 1] >= thres) * 1\n",
    "        \n",
    "        logs[\"val_f1sc\"] = f1_score(y_true = y_true, y_pred = y_pred, average=\"weighted\")\n",
    "        \n",
    "log_f1sc = f1sc()"
   ]
  },
  {
   "cell_type": "code",
   "execution_count": 16,
   "metadata": {
    "scrolled": true
   },
   "outputs": [
    {
     "name": "stdout",
     "output_type": "stream",
     "text": [
      "Model: \"model_4\"\n",
      "_________________________________________________________________\n",
      "Layer (type)                 Output Shape              Param #   \n",
      "=================================================================\n",
      "input_5 (InputLayer)         [(None, 3072)]            0         \n",
      "_________________________________________________________________\n",
      "hidden_layer1 (Dense)        (None, 512)               1573376   \n",
      "_________________________________________________________________\n",
      "batch_normalization_12 (Batc (None, 512)               2048      \n",
      "_________________________________________________________________\n",
      "hidden_layer2 (Dense)        (None, 256)               131328    \n",
      "_________________________________________________________________\n",
      "batch_normalization_13 (Batc (None, 256)               1024      \n",
      "_________________________________________________________________\n",
      "hidden_layer3 (Dense)        (None, 128)               32896     \n",
      "_________________________________________________________________\n",
      "batch_normalization_14 (Batc (None, 128)               512       \n",
      "_________________________________________________________________\n",
      "output (Dense)               (None, 10)                1290      \n",
      "=================================================================\n",
      "Total params: 1,742,474\n",
      "Trainable params: 1,740,682\n",
      "Non-trainable params: 1,792\n",
      "_________________________________________________________________\n"
     ]
    },
    {
     "name": "stderr",
     "output_type": "stream",
     "text": [
      "/home/wanzi/ml/cupoyMarathon/lib/python3.8/site-packages/keras/optimizer_v2/optimizer_v2.py:355: UserWarning: The `lr` argument is deprecated, use `learning_rate` instead.\n",
      "  warnings.warn(\n",
      "2021-11-23 08:25:36.479156: W tensorflow/core/framework/cpu_allocator_impl.cc:80] Allocation of 614400000 exceeds 10% of free system memory.\n"
     ]
    },
    {
     "name": "stdout",
     "output_type": "stream",
     "text": [
      "Epoch 1/50\n",
      "49/49 [==============================] - 4s 65ms/step - loss: 2.2188 - accuracy: 0.2687 - val_loss: 2.1032 - val_accuracy: 0.2269\n",
      "Epoch 2/50\n",
      "49/49 [==============================] - 3s 53ms/step - loss: 1.7474 - accuracy: 0.3928 - val_loss: 1.9702 - val_accuracy: 0.2916\n",
      "Epoch 3/50\n",
      "49/49 [==============================] - 3s 60ms/step - loss: 1.6207 - accuracy: 0.4364 - val_loss: 1.8449 - val_accuracy: 0.3581\n",
      "Epoch 4/50\n",
      "49/49 [==============================] - 4s 73ms/step - loss: 1.5482 - accuracy: 0.4614 - val_loss: 1.7232 - val_accuracy: 0.4009\n",
      "Epoch 5/50\n",
      "49/49 [==============================] - 2s 48ms/step - loss: 1.4909 - accuracy: 0.4812 - val_loss: 1.6395 - val_accuracy: 0.4321\n",
      "Epoch 6/50\n",
      "49/49 [==============================] - 4s 74ms/step - loss: 1.4448 - accuracy: 0.4937 - val_loss: 1.5879 - val_accuracy: 0.4494\n",
      "Epoch 7/50\n",
      "49/49 [==============================] - 2s 49ms/step - loss: 1.4060 - accuracy: 0.5082 - val_loss: 1.5606 - val_accuracy: 0.4525\n",
      "Epoch 8/50\n",
      "49/49 [==============================] - 3s 54ms/step - loss: 1.3696 - accuracy: 0.5205 - val_loss: 1.5314 - val_accuracy: 0.4624\n",
      "Epoch 9/50\n",
      "49/49 [==============================] - 2s 46ms/step - loss: 1.3345 - accuracy: 0.5362 - val_loss: 1.5128 - val_accuracy: 0.4614\n",
      "Epoch 10/50\n",
      "49/49 [==============================] - 2s 46ms/step - loss: 1.3066 - accuracy: 0.5438 - val_loss: 1.4960 - val_accuracy: 0.4740\n",
      "Epoch 11/50\n",
      "49/49 [==============================] - 2s 47ms/step - loss: 1.2768 - accuracy: 0.5561 - val_loss: 1.4870 - val_accuracy: 0.4759\n",
      "Epoch 12/50\n",
      "49/49 [==============================] - 2s 46ms/step - loss: 1.2501 - accuracy: 0.5657 - val_loss: 1.4852 - val_accuracy: 0.4804\n",
      "Epoch 13/50\n",
      "49/49 [==============================] - 2s 46ms/step - loss: 1.2228 - accuracy: 0.5774 - val_loss: 1.4818 - val_accuracy: 0.4782\n",
      "Epoch 14/50\n",
      "49/49 [==============================] - 2s 48ms/step - loss: 1.1995 - accuracy: 0.5845 - val_loss: 1.4651 - val_accuracy: 0.4847\n",
      "Epoch 15/50\n",
      "49/49 [==============================] - 2s 47ms/step - loss: 1.1739 - accuracy: 0.5938 - val_loss: 1.4637 - val_accuracy: 0.4848\n",
      "Epoch 16/50\n",
      "49/49 [==============================] - 2s 48ms/step - loss: 1.1487 - accuracy: 0.6043 - val_loss: 1.4591 - val_accuracy: 0.4930\n",
      "Epoch 17/50\n",
      "49/49 [==============================] - 3s 54ms/step - loss: 1.1257 - accuracy: 0.6124 - val_loss: 1.4621 - val_accuracy: 0.4894\n",
      "Epoch 18/50\n",
      "49/49 [==============================] - 3s 55ms/step - loss: 1.1033 - accuracy: 0.6208 - val_loss: 1.4661 - val_accuracy: 0.4832\n",
      "Epoch 19/50\n",
      "49/49 [==============================] - 3s 56ms/step - loss: 1.0798 - accuracy: 0.6315 - val_loss: 1.4643 - val_accuracy: 0.4891\n",
      "Epoch 20/50\n",
      "49/49 [==============================] - 2s 48ms/step - loss: 1.0598 - accuracy: 0.6380 - val_loss: 1.4576 - val_accuracy: 0.4983\n",
      "Epoch 21/50\n",
      "49/49 [==============================] - 2s 51ms/step - loss: 1.0369 - accuracy: 0.6467 - val_loss: 1.4647 - val_accuracy: 0.4892\n",
      "Epoch 22/50\n",
      "49/49 [==============================] - 2s 51ms/step - loss: 1.0139 - accuracy: 0.6547 - val_loss: 1.4636 - val_accuracy: 0.4932\n",
      "Epoch 23/50\n",
      "49/49 [==============================] - 2s 49ms/step - loss: 0.9923 - accuracy: 0.6638 - val_loss: 1.4692 - val_accuracy: 0.4885\n",
      "Epoch 24/50\n",
      "49/49 [==============================] - 3s 52ms/step - loss: 0.9711 - accuracy: 0.6728 - val_loss: 1.4612 - val_accuracy: 0.4986\n",
      "Epoch 25/50\n",
      "49/49 [==============================] - 3s 56ms/step - loss: 0.9502 - accuracy: 0.6802 - val_loss: 1.4676 - val_accuracy: 0.4924\n",
      "Epoch 26/50\n",
      "49/49 [==============================] - 2s 46ms/step - loss: 0.9300 - accuracy: 0.6909 - val_loss: 1.4707 - val_accuracy: 0.4944\n",
      "Epoch 27/50\n",
      "49/49 [==============================] - 3s 54ms/step - loss: 0.9085 - accuracy: 0.6975 - val_loss: 1.4688 - val_accuracy: 0.5000\n",
      "Epoch 28/50\n",
      "49/49 [==============================] - 2s 49ms/step - loss: 0.8889 - accuracy: 0.7052 - val_loss: 1.4803 - val_accuracy: 0.5009\n",
      "Epoch 29/50\n",
      "49/49 [==============================] - 3s 70ms/step - loss: 0.8675 - accuracy: 0.7135 - val_loss: 1.4916 - val_accuracy: 0.4925\n",
      "Epoch 30/50\n",
      "49/49 [==============================] - 3s 62ms/step - loss: 0.8482 - accuracy: 0.7198 - val_loss: 1.5071 - val_accuracy: 0.4890\n",
      "Epoch 31/50\n",
      "49/49 [==============================] - 2s 47ms/step - loss: 0.8273 - accuracy: 0.7293 - val_loss: 1.4999 - val_accuracy: 0.5001\n",
      "Epoch 32/50\n",
      "49/49 [==============================] - 2s 46ms/step - loss: 0.8065 - accuracy: 0.7375 - val_loss: 1.4924 - val_accuracy: 0.4983\n",
      "Epoch 33/50\n",
      "49/49 [==============================] - 2s 46ms/step - loss: 0.7871 - accuracy: 0.7468 - val_loss: 1.5080 - val_accuracy: 0.4975\n",
      "Epoch 34/50\n",
      "49/49 [==============================] - 4s 78ms/step - loss: 0.7680 - accuracy: 0.7542 - val_loss: 1.5105 - val_accuracy: 0.4985\n",
      "Epoch 35/50\n",
      "49/49 [==============================] - 4s 87ms/step - loss: 0.7485 - accuracy: 0.7616 - val_loss: 1.5302 - val_accuracy: 0.4996\n",
      "Epoch 36/50\n",
      "49/49 [==============================] - 4s 90ms/step - loss: 0.7277 - accuracy: 0.7682 - val_loss: 1.5698 - val_accuracy: 0.4873\n",
      "Epoch 37/50\n",
      "49/49 [==============================] - 6s 119ms/step - loss: 0.7093 - accuracy: 0.7765 - val_loss: 1.5456 - val_accuracy: 0.4971\n",
      "Epoch 38/50\n",
      "49/49 [==============================] - 6s 123ms/step - loss: 0.6897 - accuracy: 0.7835 - val_loss: 1.5375 - val_accuracy: 0.5010\n",
      "Epoch 39/50\n",
      "49/49 [==============================] - 4s 73ms/step - loss: 0.6694 - accuracy: 0.7925 - val_loss: 1.5504 - val_accuracy: 0.4958\n",
      "Epoch 40/50\n",
      "49/49 [==============================] - 3s 59ms/step - loss: 0.6534 - accuracy: 0.7991 - val_loss: 1.5735 - val_accuracy: 0.4933\n",
      "Epoch 41/50\n",
      "49/49 [==============================] - 3s 57ms/step - loss: 0.6361 - accuracy: 0.8051 - val_loss: 1.5838 - val_accuracy: 0.4985\n",
      "Epoch 42/50\n",
      "49/49 [==============================] - 3s 70ms/step - loss: 0.6172 - accuracy: 0.8120 - val_loss: 1.5880 - val_accuracy: 0.4969\n",
      "Epoch 43/50\n",
      "49/49 [==============================] - 3s 64ms/step - loss: 0.5982 - accuracy: 0.8209 - val_loss: 1.5940 - val_accuracy: 0.4913\n",
      "Epoch 44/50\n",
      "49/49 [==============================] - 3s 63ms/step - loss: 0.5806 - accuracy: 0.8269 - val_loss: 1.6056 - val_accuracy: 0.4923\n",
      "Epoch 45/50\n",
      "49/49 [==============================] - 3s 59ms/step - loss: 0.5638 - accuracy: 0.8344 - val_loss: 1.6299 - val_accuracy: 0.4910\n",
      "Epoch 46/50\n",
      "49/49 [==============================] - 3s 58ms/step - loss: 0.5468 - accuracy: 0.8407 - val_loss: 1.6500 - val_accuracy: 0.4911\n",
      "Epoch 47/50\n",
      "49/49 [==============================] - 3s 59ms/step - loss: 0.5304 - accuracy: 0.8494 - val_loss: 1.6444 - val_accuracy: 0.4942\n",
      "Epoch 48/50\n",
      "49/49 [==============================] - 3s 57ms/step - loss: 0.5123 - accuracy: 0.8535 - val_loss: 1.6599 - val_accuracy: 0.4923\n",
      "Epoch 49/50\n",
      "49/49 [==============================] - 3s 59ms/step - loss: 0.4968 - accuracy: 0.8609 - val_loss: 1.6675 - val_accuracy: 0.4959\n",
      "Epoch 50/50\n",
      "49/49 [==============================] - 3s 57ms/step - loss: 0.4809 - accuracy: 0.8678 - val_loss: 1.6945 - val_accuracy: 0.4929\n"
     ]
    }
   ],
   "source": [
    "model = build_mlp(input_shape=x_train.shape[1:])\n",
    "model.summary()\n",
    "optimizer = keras.optimizers.gradient_descent_v2.SGD(lr=LEARNING_RATE, nesterov=True, momentum=MOMENTUM)\n",
    "model.compile(loss=\"categorical_crossentropy\", metrics=[\"accuracy\"], optimizer=optimizer)\n",
    "\n",
    "model.fit(x_train, y_train, \n",
    "          epochs=EPOCHS, \n",
    "          batch_size=BATCH_SIZE, \n",
    "          validation_data=(x_test, y_test), \n",
    "          shuffle=True,\n",
    "          callbacks=[log_f1sc]\n",
    "         )\n",
    "\n",
    "# Collect results\n",
    "train_loss = model.history.history[\"loss\"]\n",
    "valid_loss = model.history.history[\"val_loss\"]\n",
    "train_acc = model.history.history[\"accuracy\"]\n",
    "valid_acc = model.history.history[\"val_accuracy\"]\n",
    "\n",
    "# 在訓練後，將 f1sc 紀錄調出\n",
    "valid_f1sc = model.history.history['val_f1sc']"
   ]
  },
  {
   "cell_type": "code",
   "execution_count": 17,
   "metadata": {},
   "outputs": [
    {
     "data": {
      "image/png": "[encoded data removed]",
      "text/plain": [
       "<Figure size 432x288 with 1 Axes>"
      ]
     },
     "metadata": {
      "needs_background": "light"
     },
     "output_type": "display_data"
    },
    {
     "data": {
      "image/png": "[encoded data removed]",
      "text/plain": [
       "<Figure size 432x288 with 1 Axes>"
      ]
     },
     "metadata": {
      "needs_background": "light"
     },
     "output_type": "display_data"
    },
    {
     "data": {
      "image/png": "[encoded data removed]",
      "text/plain": [
       "<Figure size 432x288 with 1 Axes>"
      ]
     },
     "metadata": {
      "needs_background": "light"
     },
     "output_type": "display_data"
    }
   ],
   "source": [
    "import matplotlib.pyplot as plt\n",
    "%matplotlib inline\n",
    "\n",
    "plt.plot(range(len(train_loss)), train_loss, label=\"train loss\")\n",
    "plt.plot(range(len(valid_loss)), valid_loss, label=\"valid loss\")\n",
    "plt.legend()\n",
    "plt.title(\"Loss\")\n",
    "plt.show()\n",
    "\n",
    "plt.plot(range(len(train_acc)), train_acc, label=\"train accuracy\")\n",
    "plt.plot(range(len(valid_acc)), valid_acc, label=\"valid accuracy\")\n",
    "plt.legend()\n",
    "plt.title(\"Accuracy\")\n",
    "plt.show()\n",
    "\n",
    "plt.plot(range(len(valid_f1sc)), valid_f1sc, label=\"valid f1-score\")\n",
    "plt.legend()\n",
    "plt.title(\"F1-score\")\n",
    "plt.show()\n"
   ]
  },
  {
   "cell_type": "markdown",
   "metadata": {},
   "source": [
    "## Work\n",
    "1. 請嘗試寫一個 callback 用來記錄各類別在訓練過程中，對驗證集的 True Positive 與 True Negative"
   ]
  }
 ],
 "metadata": {
  "kernelspec": {
   "display_name": "Python 3 (ipykernel)",
   "language": "python",
   "name": "python3"
  },
  "language_info": {
   "codemirror_mode": {
    "name": "ipython",
    "version": 3
   },
   "file_extension": ".py",
   "mimetype": "text/x-python",
   "name": "python",
   "nbconvert_exporter": "python",
   "pygments_lexer": "ipython3",
   "version": "3.8.6"
  }
 },
 "nbformat": 4,
 "nbformat_minor": 2
}
