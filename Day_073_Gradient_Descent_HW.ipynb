{
 "cells": [
  {
   "cell_type": "markdown",
   "metadata": {},
   "source": [
    "# 作業重點\n",
    "\n",
    "使用function y=(x+5)² 來練習學習率( leanrning rate ) 調整所造成的影響"
   ]
  },
  {
   "cell_type": "markdown",
   "metadata": {},
   "source": [
    "# 作業目標:\n",
    "    請嘗試使用不同的組合驗證 learning rate 對所需 iteration 的影響\n",
    "    lr = [0.1, 0.0001]\n",
    "    主要驗證 Lr 對於grandient 收斂的速度\n",
    "    "
   ]
  },
  {
   "cell_type": "code",
   "execution_count": 1,
   "metadata": {},
   "outputs": [],
   "source": [
    "cur_x = 3 # The algorithm starts at x=3\n",
    "precision = 0.000001 #This tells us when to stop the algorithm\n",
    "max_iters = 10000 # maximum number of iterations\n",
    "df = lambda x: 2*(x+5) #Gradient of our function "
   ]
  },
  {
   "cell_type": "code",
   "execution_count": 2,
   "metadata": {
    "scrolled": false
   },
   "outputs": [
    {
     "data": {
      "text/plain": [
       "'\\nwhile previous_step_size > precision and iters < max_iters:\\n\\n  算法迭代更新\\n\\nprint(\"the learning rate is\",lr, \"\\nIteration\",iters,\"\\nX value is\",cur_x) #Print iterations\\n'"
      ]
     },
     "execution_count": 2,
     "metadata": {},
     "output_type": "execute_result"
    }
   ],
   "source": [
    "'''\n",
    "需要執行初始值設定, 下列三個\n",
    "# Learning rate\n",
    "#iteration counter\n",
    "#Step size  \n",
    "'''\n",
    "'''\n",
    "while previous_step_size > precision and iters < max_iters:\n",
    "\n",
    "  算法迭代更新\n",
    "\n",
    "print(\"the learning rate is\",lr, \"\\nIteration\",iters,\"\\nX value is\",cur_x) #Print iterations\n",
    "'''"
   ]
  },
  {
   "cell_type": "code",
   "execution_count": 3,
   "metadata": {},
   "outputs": [],
   "source": [
    "lr = 0.1 #learning rate\n",
    "iters =0 # iteration counter\n",
    "previous_step_size = 1\n",
    "iters_history = [iters]\n",
    "x_history = [cur_x]\n",
    "\n",
    "while previous_step_size > precision and iters < max_iters:\n",
    "    prev_x = cur_x # store current x value in prev_x\n",
    "    cur_x = cur_x - lr * df(prev_x) #gradient descent\n",
    "    previous_step_size = abs(cur_x - prev_x) # \n",
    "    iters = iters+1\n",
    "    #print(\"the learning is : \", lr, \"\\nIteration : \", iters, \"\\nX value is :\", cur_x) # print iterations\n",
    "    #store parameters for plotting\n",
    "    iters_history.append(iters)\n",
    "    x_history.append(cur_x)\n"
   ]
  },
  {
   "cell_type": "code",
   "execution_count": 4,
   "metadata": {},
   "outputs": [
    {
     "name": "stdout",
     "output_type": "stream",
     "text": [
      "Totally iterations :  66\n",
      "The local minimum occurs at :  -4.999996786123911\n"
     ]
    }
   ],
   "source": [
    "print(\"Totally iterations : \", iters)\n",
    "print(\"The local minimum occurs at : \", cur_x)"
   ]
  },
  {
   "cell_type": "code",
   "execution_count": 5,
   "metadata": {},
   "outputs": [
    {
     "data": {
      "image/png": "[encoded data removed]",
      "text/plain": [
       "<Figure size 432x288 with 1 Axes>"
      ]
     },
     "metadata": {
      "needs_background": "light"
     },
     "output_type": "display_data"
    }
   ],
   "source": [
    "import matplotlib.pyplot as plt\n",
    "%matplotlib inline\n",
    "\n",
    "plt.plot(iters_history, x_history, 'o-', ms=3, lw=1.5, color='black')\n",
    "plt.xlabel('iter', fontsize=16)\n",
    "plt.ylabel('x_value', fontsize=16)\n",
    "plt.show()"
   ]
  },
  {
   "cell_type": "markdown",
   "metadata": {},
   "source": [
    "## lr=0.0001"
   ]
  },
  {
   "cell_type": "code",
   "execution_count": 6,
   "metadata": {},
   "outputs": [],
   "source": [
    "cur_x_2 = 3 # The algorithm starts at x=3\n",
    "lr_2 = 0.0001 #learning rate\n",
    "iters_2 =0 # iteration counter\n",
    "previous_step_size_2 = 1\n",
    "iters_history_2 = [iters]\n",
    "x_history_2 = [cur_x_2]\n",
    "\n",
    "while previous_step_size_2 > precision and iters_2 < max_iters:\n",
    "    prev_x_2 = cur_x_2 # store current x value in prev_x\n",
    "    cur_x_2 = cur_x_2 - lr_2 * df(prev_x_2) #gradient descent\n",
    "    previous_step_size_2 = abs(cur_x_2 - prev_x_2) # \n",
    "    iters_2 = iters_2+1\n",
    "    #print(\"the learning is : \", lr, \"\\nIteration : \", iters, \"\\nX value is :\", cur_x) # print iterations\n",
    "    #store parameters for plotting\n",
    "    iters_history_2.append(iters_2)\n",
    "    x_history_2.append(cur_x_2)\n"
   ]
  },
  {
   "cell_type": "code",
   "execution_count": 7,
   "metadata": {},
   "outputs": [
    {
     "name": "stdout",
     "output_type": "stream",
     "text": [
      "Totally iterations lr = 0.0001 :  10000\n",
      "The local minimum occurs at lr = 0.0001 :  -3.917534277778167\n"
     ]
    }
   ],
   "source": [
    "print(\"Totally iterations lr = 0.0001 : \", iters_2)\n",
    "print(\"The local minimum occurs at lr = 0.0001 : \", cur_x_2)"
   ]
  },
  {
   "cell_type": "code",
   "execution_count": 8,
   "metadata": {},
   "outputs": [
    {
     "data": {
      "image/png": "[encoded data removed]",
      "text/plain": [
       "<Figure size 432x288 with 1 Axes>"
      ]
     },
     "metadata": {
      "needs_background": "light"
     },
     "output_type": "display_data"
    }
   ],
   "source": [
    "%matplotlib inline\n",
    "\n",
    "plt.plot(iters_history_2, x_history_2, 'o-', ms=3, lw=1.5, color='black')\n",
    "plt.xlabel('iter', fontsize=16)\n",
    "plt.ylabel('x_value', fontsize=16)\n",
    "plt.show()"
   ]
  },
  {
   "cell_type": "code",
   "execution_count": null,
   "metadata": {},
   "outputs": [],
   "source": []
  }
 ],
 "metadata": {
  "kernelspec": {
   "display_name": "Python 3 (ipykernel)",
   "language": "python",
   "name": "python3"
  },
  "language_info": {
   "codemirror_mode": {
    "name": "ipython",
    "version": 3
   },
   "file_extension": ".py",
   "mimetype": "text/x-python",
   "name": "python",
   "nbconvert_exporter": "python",
   "pygments_lexer": "ipython3",
   "version": "3.8.6"
  }
 },
 "nbformat": 4,
 "nbformat_minor": 2
}
