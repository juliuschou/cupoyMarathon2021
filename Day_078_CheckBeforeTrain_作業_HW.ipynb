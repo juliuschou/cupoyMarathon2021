{
 "cells": [
  {
   "cell_type": "markdown",
   "metadata": {
    "id": "auEAuEgT4oXE"
   },
   "source": [
    "## Work\n",
    "1. 請嘗試將 preproc_x 替換成以每筆資料的 min/max 進行標準化至 -1 ~ 1 間，再進行訓練\n",
    "2. 請嘗試將 mlp 疊更深 (e.g 5~10 層)，進行訓練後觀察 learning curve 的走勢\n",
    "3. (optional) 請改用 GPU 進行訓練 (可善用 google colab)，比較使用 CPU 與 GPU 的訓練速度"
   ]
  },
  {
   "cell_type": "code",
   "execution_count": null,
   "metadata": {
    "id": "L0HSsOA-4oXE"
   },
   "outputs": [],
   "source": [
    "## \n",
    "\"\"\"\n",
    "Your code here (optional)\n",
    "確認硬體資源\n",
    "\"\"\"\n",
    "## 確認硬體資源 (如果你是在 Linux, 若是在 Windows, 請參考 https://blog.csdn.net/idwtwt/article/details/78017565)\n",
    "!nvidia-smi"
   ]
  },
  {
   "cell_type": "code",
   "execution_count": 20,
   "metadata": {
    "id": "wujF_rVq4oXF",
    "outputId": "eb23eca8-6055-4eb3-8931-b2e7da7fa596"
   },
   "outputs": [],
   "source": [
    "import os\n",
    "import tensorflow as tf\n",
    "import keras\n",
    "from keras.datasets import cifar10\n",
    "# 請嘗試設定 GPU：os.environ\n"
   ]
  },
  {
   "cell_type": "code",
   "execution_count": 5,
   "metadata": {
    "id": "mD7ScVX24oXF"
   },
   "outputs": [
    {
     "name": "stdout",
     "output_type": "stream",
     "text": [
      "x_train shape: (50000, 32, 32, 3)\n",
      "50000 train samples\n",
      "10000 test samples\n"
     ]
    }
   ],
   "source": [
    "# 從 Keras 的內建功能中，取得 train 與 test 資料集\n",
    "num_classes = 10\n",
    "\n",
    "# The data, split between train and test sets:\n",
    "(x_train, y_train), (x_test, y_test) = cifar10.load_data()\n",
    "print('x_train shape:', x_train.shape)\n",
    "print(x_train.shape[0], 'train samples')\n",
    "print(x_test.shape[0], 'test samples')\n",
    "\n",
    "# Convert class vectors to binary class matrices.\n",
    "y_train = keras.utils.np_utils.to_categorical(y_train, num_classes)\n",
    "y_test = keras.utils.np_utils.to_categorical(y_test, num_classes)"
   ]
  },
  {
   "cell_type": "code",
   "execution_count": 11,
   "metadata": {
    "id": "cv2Wknx_4oXF"
   },
   "outputs": [],
   "source": [
    "from sklearn.preprocessing import MinMaxScaler\n",
    "import numpy as np\n",
    "\n",
    "## 資料前處理\n",
    "\"\"\"\n",
    "Your code here\n",
    "\"\"\"\n",
    "def preproc_x(x, flatten=True):\n",
    "    min = np.min(x)\n",
    "    max = np.max(x)\n",
    "    x = x-min/max-min\n",
    "  \n",
    "    if flatten:\n",
    "        x = x.reshape((len(x), -1))\n",
    "    \n",
    "    return x\n",
    "\n",
    "def preproc_y(y, num_classes=10):\n",
    "    if y.shape[-1] == 1:\n",
    "        y = keras.utils.to_categorical(y, num_classes)\n",
    "    return y    "
   ]
  },
  {
   "cell_type": "code",
   "execution_count": 12,
   "metadata": {
    "id": "zp2WdT4d4oXF"
   },
   "outputs": [],
   "source": [
    "\n",
    "\n",
    "# Preproc the inputs\n",
    "x_train = preproc_x(x_train)\n",
    "x_test = preproc_x(x_test)\n",
    "\n",
    "# Preprc the outputs\n",
    "y_train = preproc_y(y_train)\n",
    "y_test = preproc_y(y_test)"
   ]
  },
  {
   "cell_type": "code",
   "execution_count": 14,
   "metadata": {
    "id": "KBj2NiDK4oXF"
   },
   "outputs": [],
   "source": [
    "\"\"\"Code Here\n",
    "建立你的神經網路\n",
    "\"\"\"\n",
    "def build_mlp(input_shape, output_units=10, num_neurons=[1024, 768, 512, 256, 128]):\n",
    "    input_layer = keras.layers.Input(input_shape)\n",
    "    \n",
    "    for i, n_units in enumerate(num_neurons):\n",
    "        if i == 0:\n",
    "            x = keras.layers.Dense(units=n_units, activation=\"relu\", name=\"hidden_layer\"+str(i+1))(input_layer)\n",
    "        else:\n",
    "            x = keras.layers.Dense(units=n_units, activation=\"relu\", name=\"hidden_layer\"+str(i+1))(x)\n",
    "    \n",
    "    out = keras.layers.Dense(units=output_units, activation=\"softmax\", name=\"output\")(x)\n",
    "    \n",
    "    model = keras.models.Model(inputs=[input_layer], outputs=[out])\n",
    "    return model\n",
    "\n"
   ]
  },
  {
   "cell_type": "code",
   "execution_count": 15,
   "metadata": {},
   "outputs": [
    {
     "name": "stdout",
     "output_type": "stream",
     "text": [
      "Model: \"model\"\n",
      "_________________________________________________________________\n",
      "Layer (type)                 Output Shape              Param #   \n",
      "=================================================================\n",
      "input_1 (InputLayer)         [(None, 3072)]            0         \n",
      "_________________________________________________________________\n",
      "hidden_layer1 (Dense)        (None, 1024)              3146752   \n",
      "_________________________________________________________________\n",
      "hidden_layer2 (Dense)        (None, 768)               787200    \n",
      "_________________________________________________________________\n",
      "hidden_layer3 (Dense)        (None, 512)               393728    \n",
      "_________________________________________________________________\n",
      "hidden_layer4 (Dense)        (None, 256)               131328    \n",
      "_________________________________________________________________\n",
      "hidden_layer5 (Dense)        (None, 128)               32896     \n",
      "_________________________________________________________________\n",
      "output (Dense)               (None, 10)                1290      \n",
      "=================================================================\n",
      "Total params: 4,493,194\n",
      "Trainable params: 4,493,194\n",
      "Non-trainable params: 0\n",
      "_________________________________________________________________\n"
     ]
    },
    {
     "name": "stderr",
     "output_type": "stream",
     "text": [
      "2021-11-18 11:34:51.761211: W tensorflow/stream_executor/platform/default/dso_loader.cc:64] Could not load dynamic library 'libcuda.so.1'; dlerror: libcuda.so.1: cannot open shared object file: No such file or directory\n",
      "2021-11-18 11:34:51.761324: W tensorflow/stream_executor/cuda/cuda_driver.cc:269] failed call to cuInit: UNKNOWN ERROR (303)\n",
      "2021-11-18 11:34:51.761378: I tensorflow/stream_executor/cuda/cuda_diagnostics.cc:156] kernel driver does not appear to be running on this host (11402.pyspark3): /proc/driver/nvidia/version does not exist\n",
      "2021-11-18 11:34:51.762751: I tensorflow/core/platform/cpu_feature_guard.cc:142] This TensorFlow binary is optimized with oneAPI Deep Neural Network Library (oneDNN) to use the following CPU instructions in performance-critical operations:  AVX2 FMA\n",
      "To enable them in other operations, rebuild TensorFlow with the appropriate compiler flags.\n"
     ]
    }
   ],
   "source": [
    "model = build_mlp(input_shape=x_train.shape[1:])\n",
    "model.summary()"
   ]
  },
  {
   "cell_type": "code",
   "execution_count": 16,
   "metadata": {
    "id": "uejU37q-4oXF"
   },
   "outputs": [],
   "source": [
    "## 超參數設定\n",
    "LEARNING_RATE = 0.001\n",
    "EPOCHS = 100\n",
    "BATCH_SIZE = 256"
   ]
  },
  {
   "cell_type": "code",
   "execution_count": 22,
   "metadata": {
    "id": "FePHihT34oXG"
   },
   "outputs": [],
   "source": [
    "optimizer = tf.keras.optimizers.Adam(learning_rate=LEARNING_RATE)\n",
    "model.compile(loss=\"categorical_crossentropy\", metrics=[\"accuracy\"], optimizer=optimizer)"
   ]
  },
  {
   "cell_type": "code",
   "execution_count": 23,
   "metadata": {
    "id": "LmLgZXCQ4oXG",
    "outputId": "cb609889-f8fe-47e8-b64c-27db5202b5e5"
   },
   "outputs": [
    {
     "name": "stderr",
     "output_type": "stream",
     "text": [
      "2021-11-18 11:38:07.851379: W tensorflow/core/framework/cpu_allocator_impl.cc:80] Allocation of 614400000 exceeds 10% of free system memory.\n",
      "2021-11-18 11:38:08.181298: I tensorflow/compiler/mlir/mlir_graph_optimization_pass.cc:185] None of the MLIR Optimization Passes are enabled (registered 2)\n"
     ]
    },
    {
     "name": "stdout",
     "output_type": "stream",
     "text": [
      "Epoch 1/100\n",
      "196/196 [==============================] - 10s 48ms/step - loss: 48.1435 - accuracy: 0.2140 - val_loss: 1.9656 - val_accuracy: 0.3069\n",
      "Epoch 2/100\n",
      "196/196 [==============================] - 9s 44ms/step - loss: 1.8982 - accuracy: 0.3266 - val_loss: 1.9919 - val_accuracy: 0.3008\n",
      "Epoch 3/100\n",
      "196/196 [==============================] - 10s 49ms/step - loss: 1.7767 - accuracy: 0.3694 - val_loss: 1.7144 - val_accuracy: 0.3861\n",
      "Epoch 4/100\n",
      "196/196 [==============================] - 9s 47ms/step - loss: 1.7002 - accuracy: 0.3956 - val_loss: 1.6818 - val_accuracy: 0.4045\n",
      "Epoch 5/100\n",
      "196/196 [==============================] - 9s 44ms/step - loss: 1.6453 - accuracy: 0.4165 - val_loss: 1.6394 - val_accuracy: 0.4196\n",
      "Epoch 6/100\n",
      "196/196 [==============================] - 10s 49ms/step - loss: 1.6066 - accuracy: 0.4299 - val_loss: 1.6577 - val_accuracy: 0.4117\n",
      "Epoch 7/100\n",
      "196/196 [==============================] - 8s 43ms/step - loss: 1.5710 - accuracy: 0.4417 - val_loss: 1.6007 - val_accuracy: 0.4401\n",
      "Epoch 8/100\n",
      "196/196 [==============================] - 9s 46ms/step - loss: 1.5375 - accuracy: 0.4533 - val_loss: 1.6166 - val_accuracy: 0.4248\n",
      "Epoch 9/100\n",
      "196/196 [==============================] - 9s 47ms/step - loss: 1.5294 - accuracy: 0.4559 - val_loss: 1.5412 - val_accuracy: 0.4546\n",
      "Epoch 10/100\n",
      "196/196 [==============================] - 8s 41ms/step - loss: 1.4858 - accuracy: 0.4709 - val_loss: 1.5899 - val_accuracy: 0.4365\n",
      "Epoch 11/100\n",
      "196/196 [==============================] - 8s 41ms/step - loss: 1.4905 - accuracy: 0.4692 - val_loss: 1.5373 - val_accuracy: 0.4567\n",
      "Epoch 12/100\n",
      "196/196 [==============================] - 8s 41ms/step - loss: 1.4576 - accuracy: 0.4820 - val_loss: 1.5555 - val_accuracy: 0.4512\n",
      "Epoch 13/100\n",
      "196/196 [==============================] - 8s 41ms/step - loss: 1.4413 - accuracy: 0.4870 - val_loss: 1.5343 - val_accuracy: 0.4540\n",
      "Epoch 14/100\n",
      "196/196 [==============================] - 8s 42ms/step - loss: 1.4305 - accuracy: 0.4928 - val_loss: 1.7001 - val_accuracy: 0.4091\n",
      "Epoch 15/100\n",
      "196/196 [==============================] - 8s 42ms/step - loss: 1.4246 - accuracy: 0.4938 - val_loss: 1.5313 - val_accuracy: 0.4649\n",
      "Epoch 16/100\n",
      "196/196 [==============================] - 8s 41ms/step - loss: 1.3987 - accuracy: 0.5050 - val_loss: 1.5115 - val_accuracy: 0.4577\n",
      "Epoch 17/100\n",
      "196/196 [==============================] - 8s 42ms/step - loss: 1.3725 - accuracy: 0.5122 - val_loss: 1.5235 - val_accuracy: 0.4650\n",
      "Epoch 18/100\n",
      "196/196 [==============================] - 8s 41ms/step - loss: 1.3692 - accuracy: 0.5148 - val_loss: 1.5677 - val_accuracy: 0.4513\n",
      "Epoch 19/100\n",
      "196/196 [==============================] - 8s 41ms/step - loss: 1.3501 - accuracy: 0.5190 - val_loss: 1.5250 - val_accuracy: 0.4644\n",
      "Epoch 20/100\n",
      "196/196 [==============================] - 8s 41ms/step - loss: 1.3569 - accuracy: 0.5150 - val_loss: 1.6035 - val_accuracy: 0.4379\n",
      "Epoch 21/100\n",
      "196/196 [==============================] - 8s 43ms/step - loss: 1.3435 - accuracy: 0.5231 - val_loss: 1.5917 - val_accuracy: 0.4528\n",
      "Epoch 22/100\n",
      "196/196 [==============================] - 8s 41ms/step - loss: 1.3249 - accuracy: 0.5298 - val_loss: 1.4942 - val_accuracy: 0.4795\n",
      "Epoch 23/100\n",
      "196/196 [==============================] - 8s 42ms/step - loss: 1.3390 - accuracy: 0.5253 - val_loss: 1.4889 - val_accuracy: 0.4795\n",
      "Epoch 24/100\n",
      "196/196 [==============================] - 9s 48ms/step - loss: 1.2843 - accuracy: 0.5436 - val_loss: 1.5239 - val_accuracy: 0.4758\n",
      "Epoch 25/100\n",
      "196/196 [==============================] - 9s 44ms/step - loss: 1.2895 - accuracy: 0.5423 - val_loss: 1.6101 - val_accuracy: 0.4511\n",
      "Epoch 26/100\n",
      "196/196 [==============================] - 8s 41ms/step - loss: 1.2874 - accuracy: 0.5401 - val_loss: 1.5038 - val_accuracy: 0.4712\n",
      "Epoch 27/100\n",
      "196/196 [==============================] - 8s 41ms/step - loss: 1.2567 - accuracy: 0.5537 - val_loss: 1.4726 - val_accuracy: 0.4876\n",
      "Epoch 28/100\n",
      "196/196 [==============================] - 8s 41ms/step - loss: 1.2343 - accuracy: 0.5620 - val_loss: 1.5308 - val_accuracy: 0.4806\n",
      "Epoch 29/100\n",
      "196/196 [==============================] - 8s 41ms/step - loss: 1.2382 - accuracy: 0.5603 - val_loss: 1.5185 - val_accuracy: 0.4801\n",
      "Epoch 30/100\n",
      "196/196 [==============================] - 8s 40ms/step - loss: 1.2274 - accuracy: 0.5611 - val_loss: 1.5195 - val_accuracy: 0.4812\n",
      "Epoch 31/100\n",
      "196/196 [==============================] - 8s 40ms/step - loss: 1.2158 - accuracy: 0.5675 - val_loss: 1.6668 - val_accuracy: 0.4571\n",
      "Epoch 32/100\n",
      "196/196 [==============================] - 8s 40ms/step - loss: 1.2088 - accuracy: 0.5679 - val_loss: 1.5271 - val_accuracy: 0.4769\n",
      "Epoch 33/100\n",
      "196/196 [==============================] - 8s 40ms/step - loss: 1.1878 - accuracy: 0.5761 - val_loss: 1.6034 - val_accuracy: 0.4698\n",
      "Epoch 34/100\n",
      "196/196 [==============================] - 8s 40ms/step - loss: 1.1757 - accuracy: 0.5805 - val_loss: 1.4670 - val_accuracy: 0.5065\n",
      "Epoch 35/100\n",
      "196/196 [==============================] - 8s 40ms/step - loss: 1.1405 - accuracy: 0.5936 - val_loss: 1.5477 - val_accuracy: 0.4883\n",
      "Epoch 36/100\n",
      "196/196 [==============================] - 8s 40ms/step - loss: 1.1517 - accuracy: 0.5904 - val_loss: 1.4957 - val_accuracy: 0.4957\n",
      "Epoch 37/100\n",
      "196/196 [==============================] - 8s 39ms/step - loss: 1.1409 - accuracy: 0.5926 - val_loss: 1.5352 - val_accuracy: 0.4917\n",
      "Epoch 38/100\n",
      "196/196 [==============================] - 8s 39ms/step - loss: 1.1190 - accuracy: 0.6005 - val_loss: 1.5367 - val_accuracy: 0.4871\n",
      "Epoch 39/100\n",
      "196/196 [==============================] - 8s 41ms/step - loss: 1.1084 - accuracy: 0.6056 - val_loss: 1.5728 - val_accuracy: 0.4901\n",
      "Epoch 40/100\n",
      "196/196 [==============================] - 8s 41ms/step - loss: 1.0984 - accuracy: 0.6086 - val_loss: 1.5494 - val_accuracy: 0.4853\n",
      "Epoch 41/100\n",
      "196/196 [==============================] - 8s 40ms/step - loss: 1.0888 - accuracy: 0.6114 - val_loss: 1.5485 - val_accuracy: 0.4923\n",
      "Epoch 42/100\n",
      "196/196 [==============================] - 8s 40ms/step - loss: 1.0791 - accuracy: 0.6128 - val_loss: 1.5736 - val_accuracy: 0.4941\n",
      "Epoch 43/100\n",
      "196/196 [==============================] - 8s 40ms/step - loss: 1.0586 - accuracy: 0.6217 - val_loss: 1.5746 - val_accuracy: 0.4927\n",
      "Epoch 44/100\n",
      "196/196 [==============================] - 8s 40ms/step - loss: 1.0477 - accuracy: 0.6272 - val_loss: 1.5581 - val_accuracy: 0.5056\n",
      "Epoch 45/100\n",
      "196/196 [==============================] - 8s 39ms/step - loss: 1.0300 - accuracy: 0.6332 - val_loss: 1.6264 - val_accuracy: 0.4874\n",
      "Epoch 46/100\n",
      "196/196 [==============================] - 8s 40ms/step - loss: 1.0166 - accuracy: 0.6356 - val_loss: 1.6052 - val_accuracy: 0.4868\n",
      "Epoch 47/100\n",
      "196/196 [==============================] - 8s 39ms/step - loss: 1.0044 - accuracy: 0.6410 - val_loss: 1.6198 - val_accuracy: 0.4974\n",
      "Epoch 48/100\n",
      "196/196 [==============================] - 8s 40ms/step - loss: 0.9797 - accuracy: 0.6523 - val_loss: 1.6660 - val_accuracy: 0.4819\n",
      "Epoch 49/100\n",
      "196/196 [==============================] - 8s 40ms/step - loss: 0.9664 - accuracy: 0.6552 - val_loss: 1.6795 - val_accuracy: 0.4871\n",
      "Epoch 50/100\n",
      "196/196 [==============================] - 8s 40ms/step - loss: 0.9533 - accuracy: 0.6609 - val_loss: 1.7157 - val_accuracy: 0.4949\n",
      "Epoch 51/100\n",
      "196/196 [==============================] - 8s 40ms/step - loss: 0.9510 - accuracy: 0.6633 - val_loss: 1.6838 - val_accuracy: 0.4734\n",
      "Epoch 52/100\n",
      "196/196 [==============================] - 8s 40ms/step - loss: 0.9274 - accuracy: 0.6705 - val_loss: 1.7371 - val_accuracy: 0.4930\n",
      "Epoch 53/100\n",
      "196/196 [==============================] - 8s 39ms/step - loss: 0.9062 - accuracy: 0.6789 - val_loss: 1.7718 - val_accuracy: 0.4722\n",
      "Epoch 54/100\n",
      "196/196 [==============================] - 8s 40ms/step - loss: 0.9093 - accuracy: 0.6773 - val_loss: 1.7164 - val_accuracy: 0.4996\n",
      "Epoch 55/100\n",
      "196/196 [==============================] - 8s 39ms/step - loss: 0.8917 - accuracy: 0.6847 - val_loss: 1.7558 - val_accuracy: 0.4917\n",
      "Epoch 56/100\n",
      "196/196 [==============================] - 8s 40ms/step - loss: 0.8787 - accuracy: 0.6870 - val_loss: 1.8309 - val_accuracy: 0.4807\n",
      "Epoch 57/100\n"
     ]
    },
    {
     "name": "stdout",
     "output_type": "stream",
     "text": [
      "196/196 [==============================] - 7s 38ms/step - loss: 0.8552 - accuracy: 0.6957 - val_loss: 1.8757 - val_accuracy: 0.4848\n",
      "Epoch 58/100\n",
      "196/196 [==============================] - 7s 38ms/step - loss: 0.8364 - accuracy: 0.7011 - val_loss: 1.8523 - val_accuracy: 0.4849\n",
      "Epoch 59/100\n",
      "196/196 [==============================] - 7s 38ms/step - loss: 0.8314 - accuracy: 0.7053 - val_loss: 1.8295 - val_accuracy: 0.4963\n",
      "Epoch 60/100\n",
      "196/196 [==============================] - 7s 37ms/step - loss: 0.8021 - accuracy: 0.7153 - val_loss: 1.8639 - val_accuracy: 0.4896\n",
      "Epoch 61/100\n",
      "196/196 [==============================] - 7s 37ms/step - loss: 0.8068 - accuracy: 0.7160 - val_loss: 1.9404 - val_accuracy: 0.4897\n",
      "Epoch 62/100\n",
      "196/196 [==============================] - 7s 38ms/step - loss: 0.7867 - accuracy: 0.7197 - val_loss: 1.9869 - val_accuracy: 0.4871\n",
      "Epoch 63/100\n",
      "196/196 [==============================] - 7s 37ms/step - loss: 0.7820 - accuracy: 0.7256 - val_loss: 1.9690 - val_accuracy: 0.4906\n",
      "Epoch 64/100\n",
      "196/196 [==============================] - 7s 37ms/step - loss: 0.7303 - accuracy: 0.7397 - val_loss: 1.9807 - val_accuracy: 0.4882\n",
      "Epoch 65/100\n",
      "196/196 [==============================] - 7s 38ms/step - loss: 0.7252 - accuracy: 0.7444 - val_loss: 1.9350 - val_accuracy: 0.4892\n",
      "Epoch 66/100\n",
      "196/196 [==============================] - 7s 37ms/step - loss: 0.7285 - accuracy: 0.7439 - val_loss: 1.9655 - val_accuracy: 0.4978\n",
      "Epoch 67/100\n",
      "196/196 [==============================] - 7s 38ms/step - loss: 0.7154 - accuracy: 0.7487 - val_loss: 1.9983 - val_accuracy: 0.4897\n",
      "Epoch 68/100\n",
      "196/196 [==============================] - 8s 39ms/step - loss: 0.6937 - accuracy: 0.7552 - val_loss: 2.0032 - val_accuracy: 0.4894\n",
      "Epoch 69/100\n",
      "196/196 [==============================] - 7s 35ms/step - loss: 0.6774 - accuracy: 0.7610 - val_loss: 2.0975 - val_accuracy: 0.4951\n",
      "Epoch 70/100\n",
      "196/196 [==============================] - 7s 36ms/step - loss: 0.6621 - accuracy: 0.7670 - val_loss: 2.2230 - val_accuracy: 0.4808\n",
      "Epoch 71/100\n",
      "196/196 [==============================] - 7s 35ms/step - loss: 0.6350 - accuracy: 0.7753 - val_loss: 2.1977 - val_accuracy: 0.4919\n",
      "Epoch 72/100\n",
      "196/196 [==============================] - 7s 36ms/step - loss: 0.5882 - accuracy: 0.7912 - val_loss: 2.1662 - val_accuracy: 0.4866\n",
      "Epoch 73/100\n",
      "196/196 [==============================] - 7s 35ms/step - loss: 0.6261 - accuracy: 0.7794 - val_loss: 2.1459 - val_accuracy: 0.4877\n",
      "Epoch 74/100\n",
      "196/196 [==============================] - 7s 35ms/step - loss: 0.6109 - accuracy: 0.7865 - val_loss: 2.1853 - val_accuracy: 0.4959\n",
      "Epoch 75/100\n",
      "196/196 [==============================] - 7s 35ms/step - loss: 0.6018 - accuracy: 0.7888 - val_loss: 2.3099 - val_accuracy: 0.4890\n",
      "Epoch 76/100\n",
      "196/196 [==============================] - 7s 36ms/step - loss: 0.5650 - accuracy: 0.7992 - val_loss: 2.3213 - val_accuracy: 0.4914\n",
      "Epoch 77/100\n",
      "196/196 [==============================] - 7s 37ms/step - loss: 0.5476 - accuracy: 0.8087 - val_loss: 2.2687 - val_accuracy: 0.4996\n",
      "Epoch 78/100\n",
      "196/196 [==============================] - 7s 35ms/step - loss: 0.5319 - accuracy: 0.8142 - val_loss: 2.3612 - val_accuracy: 0.4947\n",
      "Epoch 79/100\n",
      "196/196 [==============================] - 7s 36ms/step - loss: 0.5373 - accuracy: 0.8105 - val_loss: 2.4093 - val_accuracy: 0.4929\n",
      "Epoch 80/100\n",
      "196/196 [==============================] - 7s 35ms/step - loss: 0.5193 - accuracy: 0.8178 - val_loss: 2.4560 - val_accuracy: 0.4855\n",
      "Epoch 81/100\n",
      "196/196 [==============================] - 7s 36ms/step - loss: 0.5277 - accuracy: 0.8171 - val_loss: 2.4274 - val_accuracy: 0.4930\n",
      "Epoch 82/100\n",
      "196/196 [==============================] - 7s 35ms/step - loss: 0.4994 - accuracy: 0.8236 - val_loss: 2.5588 - val_accuracy: 0.4899\n",
      "Epoch 83/100\n",
      "196/196 [==============================] - 7s 35ms/step - loss: 0.4939 - accuracy: 0.8278 - val_loss: 2.5523 - val_accuracy: 0.5002\n",
      "Epoch 84/100\n",
      "196/196 [==============================] - 7s 36ms/step - loss: 0.4948 - accuracy: 0.8288 - val_loss: 2.7558 - val_accuracy: 0.4736\n",
      "Epoch 85/100\n",
      "196/196 [==============================] - 7s 35ms/step - loss: 0.4719 - accuracy: 0.8341 - val_loss: 2.5407 - val_accuracy: 0.4945\n",
      "Epoch 86/100\n",
      "196/196 [==============================] - 7s 38ms/step - loss: 0.4476 - accuracy: 0.8430 - val_loss: 2.5757 - val_accuracy: 0.4905\n",
      "Epoch 87/100\n",
      "196/196 [==============================] - 7s 35ms/step - loss: 0.4216 - accuracy: 0.8528 - val_loss: 2.8858 - val_accuracy: 0.4948\n",
      "Epoch 88/100\n",
      "196/196 [==============================] - 7s 36ms/step - loss: 0.4559 - accuracy: 0.8444 - val_loss: 2.7551 - val_accuracy: 0.4825\n",
      "Epoch 89/100\n",
      "196/196 [==============================] - 7s 35ms/step - loss: 0.4370 - accuracy: 0.8489 - val_loss: 2.5824 - val_accuracy: 0.4911\n",
      "Epoch 90/100\n",
      "196/196 [==============================] - 7s 36ms/step - loss: 0.3993 - accuracy: 0.8609 - val_loss: 2.8679 - val_accuracy: 0.4830\n",
      "Epoch 91/100\n",
      "196/196 [==============================] - 7s 35ms/step - loss: 0.3967 - accuracy: 0.8619 - val_loss: 2.8768 - val_accuracy: 0.4866\n",
      "Epoch 92/100\n",
      "196/196 [==============================] - 7s 35ms/step - loss: 0.3855 - accuracy: 0.8664 - val_loss: 2.7115 - val_accuracy: 0.4880\n",
      "Epoch 93/100\n",
      "196/196 [==============================] - 7s 35ms/step - loss: 0.4050 - accuracy: 0.8586 - val_loss: 2.8013 - val_accuracy: 0.4773\n",
      "Epoch 94/100\n",
      "196/196 [==============================] - 7s 35ms/step - loss: 0.3655 - accuracy: 0.8738 - val_loss: 2.8931 - val_accuracy: 0.4948\n",
      "Epoch 95/100\n",
      "196/196 [==============================] - 7s 36ms/step - loss: 0.3555 - accuracy: 0.8771 - val_loss: 3.0136 - val_accuracy: 0.4969\n",
      "Epoch 96/100\n",
      "196/196 [==============================] - 7s 37ms/step - loss: 0.3574 - accuracy: 0.8770 - val_loss: 2.9687 - val_accuracy: 0.4818\n",
      "Epoch 97/100\n",
      "196/196 [==============================] - 7s 35ms/step - loss: 0.3589 - accuracy: 0.8763 - val_loss: 2.9251 - val_accuracy: 0.4833\n",
      "Epoch 98/100\n",
      "196/196 [==============================] - 7s 36ms/step - loss: 0.3510 - accuracy: 0.8790 - val_loss: 2.9829 - val_accuracy: 0.4843\n",
      "Epoch 99/100\n",
      "196/196 [==============================] - 7s 35ms/step - loss: 0.3559 - accuracy: 0.8792 - val_loss: 2.9172 - val_accuracy: 0.4964\n",
      "Epoch 100/100\n",
      "196/196 [==============================] - 7s 35ms/step - loss: 0.3402 - accuracy: 0.8821 - val_loss: 2.8307 - val_accuracy: 0.4908\n"
     ]
    },
    {
     "data": {
      "text/plain": [
       "<keras.callbacks.History at 0x7f28398037c0>"
      ]
     },
     "execution_count": 23,
     "metadata": {},
     "output_type": "execute_result"
    }
   ],
   "source": [
    "model.fit(x_train, y_train, \n",
    "          epochs=EPOCHS, \n",
    "          batch_size=BATCH_SIZE, \n",
    "          validation_data=(x_test, y_test), \n",
    "          shuffle=True)"
   ]
  },
  {
   "cell_type": "code",
   "execution_count": 24,
   "metadata": {
    "id": "jThDeFlL4oXG",
    "outputId": "c8f6a381-da51-4682-8b02-fd9a0733007c"
   },
   "outputs": [
    {
     "data": {
      "image/png": "[encoded data removed]",
      "text/plain": [
       "<Figure size 432x288 with 1 Axes>"
      ]
     },
     "metadata": {
      "needs_background": "light"
     },
     "output_type": "display_data"
    },
    {
     "data": {
      "image/png": "[encoded data removed]",
      "text/plain": [
       "<Figure size 432x288 with 1 Axes>"
      ]
     },
     "metadata": {
      "needs_background": "light"
     },
     "output_type": "display_data"
    }
   ],
   "source": [
    "import matplotlib.pyplot as plt\n",
    "\n",
    "\n",
    "train_loss = model.history.history[\"loss\"]\n",
    "valid_loss = model.history.history[\"val_loss\"]\n",
    "\n",
    "train_acc = model.history.history[\"accuracy\"]\n",
    "valid_acc = model.history.history[\"val_accuracy\"]\n",
    "\n",
    "plt.plot(range(len(train_loss)), train_loss, label=\"train loss\")\n",
    "plt.plot(range(len(valid_loss)), valid_loss, label=\"valid loss\")\n",
    "plt.legend()\n",
    "plt.title(\"Loss\")\n",
    "plt.show()\n",
    "\n",
    "plt.plot(range(len(train_acc)), train_acc, label=\"train accuracy\")\n",
    "plt.plot(range(len(valid_acc)), valid_acc, label=\"valid accuracy\")\n",
    "plt.legend()\n",
    "plt.title(\"Accuracy\")\n",
    "plt.show()"
   ]
  },
  {
   "cell_type": "code",
   "execution_count": null,
   "metadata": {},
   "outputs": [],
   "source": []
  }
 ],
 "metadata": {
  "colab": {
   "name": "Day078_CheckBeforeTrain_作業 (更新).ipynb",
   "provenance": []
  },
  "kernelspec": {
   "display_name": "Python 3 (ipykernel)",
   "language": "python",
   "name": "python3"
  },
  "language_info": {
   "codemirror_mode": {
    "name": "ipython",
    "version": 3
   },
   "file_extension": ".py",
   "mimetype": "text/x-python",
   "name": "python",
   "nbconvert_exporter": "python",
   "pygments_lexer": "ipython3",
   "version": "3.8.6"
  }
 },
 "nbformat": 4,
 "nbformat_minor": 1
}
