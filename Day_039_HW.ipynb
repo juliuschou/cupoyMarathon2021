{
 "cells": [
  {
   "cell_type": "markdown",
   "metadata": {},
   "source": [
    "## [作業重點]\n",
    "清楚了解 L1, L2 的意義與差異為何，並了解 LASSO 與 Ridge 之間的差異與使用情境"
   ]
  },
  {
   "cell_type": "markdown",
   "metadata": {},
   "source": [
    "## 作業"
   ]
  },
  {
   "cell_type": "markdown",
   "metadata": {},
   "source": [
    "請閱讀相關文獻，並回答下列問題\n",
    "\n",
    "[脊回歸 (Ridge Regression)](https://blog.csdn.net/daunxx/article/details/51578787)\n",
    "[Linear, Ridge, Lasso Regression 本質區別](https://www.zhihu.com/question/38121173)\n",
    "\n",
    "1. LASSO 回歸可以被用來作為 Feature selection 的工具，請了解 LASSO 模型為什麼可用來作 Feature selection\n",
    "2. 當自變數 (X) 存在高度共線性時，Ridge Regression 可以處理這樣的問題嗎?\n"
   ]
  },
  {
   "cell_type": "markdown",
   "metadata": {},
   "source": [
    "## 1. LASSO 回歸可以被用來作為 Feature selection 的工具，請了解 LASSO 模型為什麼可用來作 Feature selection\n",
    "> Lasso模型亦會將具有相關性的變數推向彼此，並避免使得其中模型參數一個有極大正係數與另一個有極大負係數一起出現的情況, Lasso會將不具影響力的變數迴歸係數變成0，等於可以自動化的進行變數篩選(Feature selection)。\n",
    "\n",
    "References: <br />\n",
    "- [正規化迴歸(Regularized Regression)](https://dasanlin888.pixnet.net/blog/post/476250317-%E6%AD%A3%E8%A6%8F%E5%8C%96%E8%BF%B4%E6%AD%B8(regularized-regression)"
   ]
  },
  {
   "cell_type": "code",
   "execution_count": null,
   "metadata": {},
   "outputs": [],
   "source": []
  },
  {
   "cell_type": "markdown",
   "metadata": {},
   "source": [
    "## 2 當自變數 (X) 存在高度共線性時，Ridge Regression 可以處理這樣的問題嗎?\n",
    ">共線性(collinarity)：當2個（或以上）的自變數互不獨立(即彼此相關)，就是具有「共線性」。「共線性」會使迴歸模型中存在著重複的自變數，提高某一自變數的解釋力與預測力，使得理論的建構不正確。可以用變異膨脹因子(VIF)判斷多元線性迴歸模型的自變數之間是否獨立，VIF值越小越好，若VIF值>10，表示自變數存在共線性。為了解決降低共線性問題我們可以保留所有的特徵(欄位/自變數)但是減少model 的 Coefficient(相關係數: 自變數與對變數的影響度)。在Ridge Regression 使用L2 正則化(regulation)藉由最小化Coefficient平方的和來降低共線性對預測的影響度。\n",
    "\n",
    "References: <br />\n",
    "- [Deal Multicollinearity with Ridge Regression](https://www.andreaperlato.com/mlpost/deal-multicollinearity-with-ridge-regression/)\n",
    "- [多元線性迴歸分析(Multiple regression analysis)-統計說明與SPSS操作](https://www.yongxi-stat.com/multiple-regression-analysis/)\n",
    "- [Role of Coefficient in Machine Learning](https://medium.com/@chawlamahima76/role-of-coefficient-in-machine-learning-d65207f8ea22)"
   ]
  },
  {
   "cell_type": "code",
   "execution_count": null,
   "metadata": {},
   "outputs": [],
   "source": []
  },
  {
   "cell_type": "code",
   "execution_count": null,
   "metadata": {},
   "outputs": [],
   "source": []
  },
  {
   "cell_type": "code",
   "execution_count": null,
   "metadata": {},
   "outputs": [],
   "source": []
  }
 ],
 "metadata": {
  "kernelspec": {
   "display_name": "Python 3 (ipykernel)",
   "language": "python",
   "name": "python3"
  },
  "language_info": {
   "codemirror_mode": {
    "name": "ipython",
    "version": 3
   },
   "file_extension": ".py",
   "mimetype": "text/x-python",
   "name": "python",
   "nbconvert_exporter": "python",
   "pygments_lexer": "ipython3",
   "version": "3.8.6"
  }
 },
 "nbformat": 4,
 "nbformat_minor": 2
}
