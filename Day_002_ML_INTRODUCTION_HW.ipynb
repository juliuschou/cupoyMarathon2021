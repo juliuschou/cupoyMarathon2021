{
 "cells": [
  {
   "cell_type": "markdown",
   "metadata": {},
   "source": [
    "## [作業目標]\n",
    "了解機器學習適合應用的領域與範疇。"
   ]
  },
  {
   "cell_type": "markdown",
   "metadata": {},
   "source": [
    "## [作業重點]\n",
    "透過瞭解機器學習的運作方式，找出非常適用機器學習應用的領域及其原因"
   ]
  },
  {
   "cell_type": "markdown",
   "metadata": {},
   "source": [
    "## 作業\n",
    "請找出一個你認為機器學習可以發光發熱的領域並闡述原因? "
   ]
  },
  {
   "cell_type": "markdown",
   "metadata": {},
   "source": [
    "References: \n",
    "1. [什麼是Martech？2020 Martech潮流下的EDM趨勢](https://awoo.ai/zh-hant/blog/2020-martech-edm-tigerfly/) <br/>\n",
    "2. [《商業思維》：流量紅利消失的年代，企業如何轉往經營「流量池」？ ](https://www.thenewslens.com/article/112865)<br/>\n",
    "3. [行銷科技崛起！你還不知道 Martech 是什麼嗎? 完整解釋與趨勢大公開！](http://shorturl.at/jxTU5)\n",
    "4. [提升顧客忠誠度和留存率永遠不嫌晚，聰明運用AI加速進程！](https://www.appier.com/zh-hant/blog/how-to-increase-customer-loyalty-and-retention-before-its-too-late/)\n",
    "\n",
    "隨著流量紅利的消失，為了企業的銷售數字，重心轉變放在既有流量、既有客戶的經營上，機器學習可以在\n",
    "\n",
    "The News Lens 游舒帆提到：在互聯網流量增速大於數位廣告增速時，透過廣告來獲取新客戶是相對容易的，但隨著流量紅利的消失，要獲取新流量、新客戶（增量）已經不再容易，要穩固企業的銷售數字與經營，就要把重心放到既有流量、既有客戶（存量）的經營上。因此，如何提高消費者的「回購頻次」和「單次毛利」，從現有的會員基礎中挖掘出更多的新變現模式，企業回購率是一個衡量事業是否健康的重要指標，回購率代表你的客戶會回頭再買你的商品或服務，Martech 成為這一趨勢的解方。\n",
    "\n",
    "Martech 企業又可以分為六大類：\n",
    "\n",
    "    Advertising & Promotion 廣告與促銷\n",
    "    Content & Experience內容與體驗\n",
    "    Social & Relationships 社群與客戶關係\n",
    "    Commerce & Sales 商業與銷售\n",
    "    Data 數據\n",
    "    Managment 管理\n",
    "\n",
    "AWOO官方網頁說：企業的網路行銷策略共分成三大階段，獲客 → 轉換 → 再行銷。 而 MarTech 產業的數據領域，便是以「打造更優質用戶體驗」的前提出發，蒐集消費者的數位足跡，從最初逛網站的消費行為及情境到喚起購買動機的方式都可以透過 AI 程序化的學習，被判別出個人化的消費旅程，讓體驗更優質，進而提升轉換或被喚醒購買，達成銷售成長，核心目標在於：讓消費者愛上我的品牌，變成忠實客戶。\n",
    "\n",
    "以下為Appier官方網站說明如何使用AI工具提升顧客忠誠度和留存率：\n",
    "\n",
    ">人工智慧便是企業可用來洞察顧客行為的工具。例如：辨識哪些顧客處於非活躍狀態，並藉此預測誰最有可能將投入其他服務的懷抱（稱為「流失率（churn rate）」）；人工智慧還可以洞察該顧客的興趣，讓企業能夠根據洞察結果打造個人化的訊息及內容，來達到挽留該顧客的目的。\n",
    "\n",
    ">企業不僅有辦法了解顧客在自家網站上的行為，還可挖掘出同一顧客在網路世界中的其他行為。使用人工智慧工具，可以在轉瞬間分析顧客在各個網站裡瀏覽過的內容中所使用的關鍵字如：健身、旅行、時尚或電影，企業便能知道顧客對什麼事物感興趣。這些興趣可能十分具體，例如啞鈴訓練或以女強人為主角的浪漫喜劇，而非只是健身或電影這樣籠統的關鍵字。透過結合這些見解與早先描繪出來的完整顧客樣貌，企業便可以在正確的時間點呈現正確的內容，以便在顧客決定離開前重新與其進行積極互動。\n",
    "\n",
    ">舉例來說，一位超過一個月都未打開行銷電子郵件的使用者，被人工智慧預測他可能同時即將在其他品牌進行消費，這時企業就可以主動提供優惠券來吸引顧客留下。優惠券的內容可以根據顧客的興趣來加以設計，如此一來，企業便能增加留住顧客的可能性，同時降低顧客流失率。\n",
    "\n",
    ">運用人工智慧來留住顧客的方法可創造更加個人化的顧客體驗，使其在整個顧客旅程中感受到更多與品牌業者互動的機會，從而降低離開的可能性。透過界定正確的目標受眾與滿足其特定興趣，企業便可以在老顧客保衛戰上取得主動優勢，並在顧客尚未意識到自己正考慮離開前，重新與其建立良好關係。\n",
    "\n"
   ]
  },
  {
   "cell_type": "code",
   "execution_count": null,
   "metadata": {},
   "outputs": [],
   "source": []
  }
 ],
 "metadata": {
  "kernelspec": {
   "display_name": "Python 3 (ipykernel)",
   "language": "python",
   "name": "python3"
  },
  "language_info": {
   "codemirror_mode": {
    "name": "ipython",
    "version": 3
   },
   "file_extension": ".py",
   "mimetype": "text/x-python",
   "name": "python",
   "nbconvert_exporter": "python",
   "pygments_lexer": "ipython3",
   "version": "3.8.6"
  }
 },
 "nbformat": 4,
 "nbformat_minor": 2
}
