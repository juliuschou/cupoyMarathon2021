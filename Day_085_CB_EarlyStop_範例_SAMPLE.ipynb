{
 "cells": [
  {
   "cell_type": "markdown",
   "metadata": {},
   "source": [
    "## 範例重點\n",
    "* 學習如何在 keras 中加入 EarlyStop\n",
    "* 知道如何設定監控目標\n",
    "* 比較有無 earlystopping 對 validation 的影響"
   ]
  },
  {
   "cell_type": "code",
   "execution_count": 3,
   "metadata": {},
   "outputs": [],
   "source": [
    "import os\n",
    "import keras\n",
    "import tensorflow\n",
    "from keras.datasets import cifar10\n",
    "\n",
    "# 本作業可以不需使用 GPU, 將 GPU 設定為 \"無\" (若想使用可自行開啟)\n",
    "os.environ[\"CUDA_VISIBLE_DEVICES\"] = \"\""
   ]
  },
  {
   "cell_type": "code",
   "execution_count": 4,
   "metadata": {},
   "outputs": [
    {
     "name": "stdout",
     "output_type": "stream",
     "text": [
      "x_train shape: (50000, 32, 32, 3)\n",
      "50000 train samples\n",
      "10000 test samples\n"
     ]
    }
   ],
   "source": [
    "num_classes = 10\n",
    "\n",
    "(x_train, y_train), (x_test, y_test) = cifar10.load_data()\n",
    "\n",
    "print('x_train shape:', x_train.shape)\n",
    "print(x_train.shape[0], 'train samples')\n",
    "print(x_test.shape[0], 'test samples')"
   ]
  },
  {
   "cell_type": "code",
   "execution_count": 5,
   "metadata": {},
   "outputs": [],
   "source": [
    "## 資料前處理\n",
    "def preproc_x(x, flatten=True):\n",
    "    x = x / 255.\n",
    "    if flatten:\n",
    "        x = x.reshape((len(x), -1))\n",
    "    return x\n",
    "\n",
    "def preproc_y(y, num_classes=10):\n",
    "    if y.shape[-1] == 1:\n",
    "        y = keras.utils.np_utils.to_categorical(y, num_classes)\n",
    "    return y    "
   ]
  },
  {
   "cell_type": "code",
   "execution_count": 6,
   "metadata": {},
   "outputs": [],
   "source": [
    "\n",
    "# 資料前處理 - X 標準化\n",
    "x_train = preproc_x(x_train)\n",
    "x_test = preproc_x(x_test)\n",
    "\n",
    "# 資料前處理 -Y 轉成 onehot\n",
    "y_train = preproc_y(y_train)\n",
    "y_test = preproc_y(y_test)"
   ]
  },
  {
   "cell_type": "code",
   "execution_count": 7,
   "metadata": {},
   "outputs": [],
   "source": [
    "from keras.layers import BatchNormalization\n",
    "\n",
    "\"\"\"\n",
    "建立神經網路，並加入 BN layer\n",
    "\"\"\"\n",
    "def build_mlp(input_shape, output_units=10, num_neurons=[512, 256, 128]):\n",
    "    input_layer = keras.layers.Input(input_shape)\n",
    "    \n",
    "    for i, n_units in enumerate(num_neurons):\n",
    "        if i == 0:\n",
    "            x = keras.layers.Dense(units=n_units, \n",
    "                                   activation=\"relu\", \n",
    "                                   name=\"hidden_layer\"+str(i+1))(input_layer)\n",
    "            x = BatchNormalization()(x)\n",
    "        else:\n",
    "            x = keras.layers.Dense(units=n_units, \n",
    "                                   activation=\"relu\", \n",
    "                                   name=\"hidden_layer\"+str(i+1))(x)\n",
    "            x = BatchNormalization()(x)\n",
    "    \n",
    "    out = keras.layers.Dense(units=output_units, activation=\"softmax\", name=\"output\")(x)\n",
    "    \n",
    "    model = keras.models.Model(inputs=[input_layer], outputs=[out])\n",
    "    return model"
   ]
  },
  {
   "cell_type": "code",
   "execution_count": 8,
   "metadata": {},
   "outputs": [],
   "source": [
    "## 超參數設定\n",
    "LEARNING_RATE = 1e-3\n",
    "EPOCHS = 50\n",
    "BATCH_SIZE = 1024\n",
    "MOMENTUM = 0.95"
   ]
  },
  {
   "cell_type": "code",
   "execution_count": 9,
   "metadata": {},
   "outputs": [],
   "source": [
    "\"\"\"\n",
    "# 載入 Callbacks, 並將 monitor 設定為監控 validation loss\n",
    "\n",
    "參數說明：\n",
    "patience: 經過多少epochs後仍然沒有改善模型效能時停止訓練。\n",
    "verbose: 運作狀況\n",
    "\n",
    "使用說明：先定義出 Early stopping 的規則，再放入模型訓練中。\n",
    "\n",
    "\"\"\"\n",
    "from keras.callbacks import EarlyStopping\n",
    "\n",
    "earlystop = EarlyStopping(monitor=\"val_loss\", \n",
    "                          patience=5, \n",
    "                          verbose=1\n",
    "                          )"
   ]
  },
  {
   "cell_type": "code",
   "execution_count": 10,
   "metadata": {
    "scrolled": false
   },
   "outputs": [
    {
     "name": "stderr",
     "output_type": "stream",
     "text": [
      "2021-11-21 23:25:13.981813: W tensorflow/stream_executor/platform/default/dso_loader.cc:64] Could not load dynamic library 'libcuda.so.1'; dlerror: libcuda.so.1: cannot open shared object file: No such file or directory\n",
      "2021-11-21 23:25:13.981900: W tensorflow/stream_executor/cuda/cuda_driver.cc:269] failed call to cuInit: UNKNOWN ERROR (303)\n",
      "2021-11-21 23:25:13.981952: I tensorflow/stream_executor/cuda/cuda_diagnostics.cc:156] kernel driver does not appear to be running on this host (11402.pyspark3): /proc/driver/nvidia/version does not exist\n",
      "2021-11-21 23:25:13.982201: I tensorflow/core/platform/cpu_feature_guard.cc:142] This TensorFlow binary is optimized with oneAPI Deep Neural Network Library (oneDNN) to use the following CPU instructions in performance-critical operations:  AVX2 FMA\n",
      "To enable them in other operations, rebuild TensorFlow with the appropriate compiler flags.\n",
      "/home/wanzi/ml/cupoyMarathon/lib/python3.8/site-packages/keras/optimizer_v2/optimizer_v2.py:355: UserWarning: The `lr` argument is deprecated, use `learning_rate` instead.\n",
      "  warnings.warn(\n"
     ]
    },
    {
     "name": "stdout",
     "output_type": "stream",
     "text": [
      "Model: \"model\"\n",
      "_________________________________________________________________\n",
      "Layer (type)                 Output Shape              Param #   \n",
      "=================================================================\n",
      "input_1 (InputLayer)         [(None, 3072)]            0         \n",
      "_________________________________________________________________\n",
      "hidden_layer1 (Dense)        (None, 512)               1573376   \n",
      "_________________________________________________________________\n",
      "batch_normalization (BatchNo (None, 512)               2048      \n",
      "_________________________________________________________________\n",
      "hidden_layer2 (Dense)        (None, 256)               131328    \n",
      "_________________________________________________________________\n",
      "batch_normalization_1 (Batch (None, 256)               1024      \n",
      "_________________________________________________________________\n",
      "hidden_layer3 (Dense)        (None, 128)               32896     \n",
      "_________________________________________________________________\n",
      "batch_normalization_2 (Batch (None, 128)               512       \n",
      "_________________________________________________________________\n",
      "output (Dense)               (None, 10)                1290      \n",
      "=================================================================\n",
      "Total params: 1,742,474\n",
      "Trainable params: 1,740,682\n",
      "Non-trainable params: 1,792\n",
      "_________________________________________________________________\n"
     ]
    },
    {
     "name": "stderr",
     "output_type": "stream",
     "text": [
      "2021-11-21 23:25:14.625510: W tensorflow/core/framework/cpu_allocator_impl.cc:80] Allocation of 614400000 exceeds 10% of free system memory.\n",
      "2021-11-21 23:25:15.033522: I tensorflow/compiler/mlir/mlir_graph_optimization_pass.cc:185] None of the MLIR Optimization Passes are enabled (registered 2)\n"
     ]
    },
    {
     "name": "stdout",
     "output_type": "stream",
     "text": [
      "Epoch 1/50\n",
      "49/49 [==============================] - 4s 57ms/step - loss: 2.1916 - accuracy: 0.2763 - val_loss: 2.1400 - val_accuracy: 0.2215\n",
      "Epoch 2/50\n",
      "49/49 [==============================] - 2s 49ms/step - loss: 1.7331 - accuracy: 0.3976 - val_loss: 1.9989 - val_accuracy: 0.2917\n",
      "Epoch 3/50\n",
      "49/49 [==============================] - 2s 46ms/step - loss: 1.6060 - accuracy: 0.4353 - val_loss: 1.8293 - val_accuracy: 0.3669\n",
      "Epoch 4/50\n",
      "49/49 [==============================] - 2s 48ms/step - loss: 1.5344 - accuracy: 0.4610 - val_loss: 1.7238 - val_accuracy: 0.4009\n",
      "Epoch 5/50\n",
      "49/49 [==============================] - 2s 50ms/step - loss: 1.4813 - accuracy: 0.4807 - val_loss: 1.6205 - val_accuracy: 0.4369\n",
      "Epoch 6/50\n",
      "49/49 [==============================] - 2s 46ms/step - loss: 1.4345 - accuracy: 0.4956 - val_loss: 1.5764 - val_accuracy: 0.4479\n",
      "Epoch 7/50\n",
      "49/49 [==============================] - 2s 47ms/step - loss: 1.3951 - accuracy: 0.5139 - val_loss: 1.5383 - val_accuracy: 0.4595\n",
      "Epoch 8/50\n",
      "49/49 [==============================] - 2s 46ms/step - loss: 1.3597 - accuracy: 0.5255 - val_loss: 1.5205 - val_accuracy: 0.4682\n",
      "Epoch 9/50\n",
      "49/49 [==============================] - 2s 46ms/step - loss: 1.3272 - accuracy: 0.5397 - val_loss: 1.4938 - val_accuracy: 0.4721\n",
      "Epoch 10/50\n",
      "49/49 [==============================] - 3s 55ms/step - loss: 1.2983 - accuracy: 0.5484 - val_loss: 1.4780 - val_accuracy: 0.4794\n",
      "Epoch 11/50\n",
      "49/49 [==============================] - 3s 52ms/step - loss: 1.2699 - accuracy: 0.5603 - val_loss: 1.4811 - val_accuracy: 0.4784\n",
      "Epoch 12/50\n",
      "49/49 [==============================] - 2s 49ms/step - loss: 1.2422 - accuracy: 0.5713 - val_loss: 1.4806 - val_accuracy: 0.4803\n",
      "Epoch 13/50\n",
      "49/49 [==============================] - 2s 49ms/step - loss: 1.2181 - accuracy: 0.5800 - val_loss: 1.4630 - val_accuracy: 0.4861\n",
      "Epoch 14/50\n",
      "49/49 [==============================] - 3s 54ms/step - loss: 1.1943 - accuracy: 0.5883 - val_loss: 1.4624 - val_accuracy: 0.4877\n",
      "Epoch 15/50\n",
      "49/49 [==============================] - 2s 46ms/step - loss: 1.1687 - accuracy: 0.5979 - val_loss: 1.4619 - val_accuracy: 0.4940\n",
      "Epoch 16/50\n",
      "49/49 [==============================] - 3s 54ms/step - loss: 1.1463 - accuracy: 0.6066 - val_loss: 1.4565 - val_accuracy: 0.4901\n",
      "Epoch 17/50\n",
      "49/49 [==============================] - 3s 53ms/step - loss: 1.1223 - accuracy: 0.6155 - val_loss: 1.4533 - val_accuracy: 0.4881\n",
      "Epoch 18/50\n",
      "49/49 [==============================] - 3s 53ms/step - loss: 1.1020 - accuracy: 0.6241 - val_loss: 1.4592 - val_accuracy: 0.4973\n",
      "Epoch 19/50\n",
      "49/49 [==============================] - 2s 49ms/step - loss: 1.0817 - accuracy: 0.6298 - val_loss: 1.4637 - val_accuracy: 0.4963\n",
      "Epoch 20/50\n",
      "49/49 [==============================] - 2s 45ms/step - loss: 1.0569 - accuracy: 0.6422 - val_loss: 1.4427 - val_accuracy: 0.4993\n",
      "Epoch 21/50\n",
      "49/49 [==============================] - 2s 47ms/step - loss: 1.0352 - accuracy: 0.6498 - val_loss: 1.4477 - val_accuracy: 0.4994\n",
      "Epoch 22/50\n",
      "49/49 [==============================] - 2s 45ms/step - loss: 1.0167 - accuracy: 0.6553 - val_loss: 1.4565 - val_accuracy: 0.4992\n",
      "Epoch 23/50\n",
      "49/49 [==============================] - 3s 57ms/step - loss: 0.9940 - accuracy: 0.6654 - val_loss: 1.4527 - val_accuracy: 0.4982\n",
      "Epoch 24/50\n",
      "49/49 [==============================] - 2s 44ms/step - loss: 0.9732 - accuracy: 0.6728 - val_loss: 1.4557 - val_accuracy: 0.5033\n",
      "Epoch 25/50\n",
      "49/49 [==============================] - 2s 49ms/step - loss: 0.9528 - accuracy: 0.6810 - val_loss: 1.4453 - val_accuracy: 0.5042\n",
      "Epoch 00025: early stopping\n"
     ]
    }
   ],
   "source": [
    "model = build_mlp(input_shape=x_train.shape[1:])\n",
    "model.summary()\n",
    "optimizer = keras.optimizers.gradient_descent_v2.SGD(lr=LEARNING_RATE, nesterov=True, momentum=MOMENTUM)\n",
    "model.compile(loss=\"categorical_crossentropy\", metrics=[\"accuracy\"], optimizer=optimizer)\n",
    "\n",
    "model.fit(x_train, y_train, \n",
    "          epochs=EPOCHS, \n",
    "          batch_size=BATCH_SIZE, \n",
    "          validation_data=(x_test, y_test), \n",
    "          shuffle=True,\n",
    "          callbacks=[earlystop]\n",
    "         )\n",
    "\n",
    "# Collect results\n",
    "train_loss = model.history.history[\"loss\"]\n",
    "valid_loss = model.history.history[\"val_loss\"]\n",
    "train_acc = model.history.history[\"accuracy\"]\n",
    "valid_acc = model.history.history[\"val_accuracy\"]"
   ]
  },
  {
   "cell_type": "code",
   "execution_count": 11,
   "metadata": {},
   "outputs": [
    {
     "data": {
      "image/png": "[encoded data removed]",
      "text/plain": [
       "<Figure size 432x288 with 1 Axes>"
      ]
     },
     "metadata": {
      "needs_background": "light"
     },
     "output_type": "display_data"
    },
    {
     "data": {
      "image/png": "[encoded data removed]",
      "text/plain": [
       "<Figure size 432x288 with 1 Axes>"
      ]
     },
     "metadata": {
      "needs_background": "light"
     },
     "output_type": "display_data"
    }
   ],
   "source": [
    "import matplotlib.pyplot as plt\n",
    "%matplotlib inline\n",
    "\n",
    "plt.plot(range(len(train_loss)), train_loss, label=\"train loss\")\n",
    "plt.plot(range(len(valid_loss)), valid_loss, label=\"valid loss\")\n",
    "plt.legend()\n",
    "plt.title(\"Loss\")\n",
    "plt.show()\n",
    "\n",
    "plt.plot(range(len(train_acc)), train_acc, label=\"train accuracy\")\n",
    "plt.plot(range(len(valid_acc)), valid_acc, label=\"valid accuracy\")\n",
    "plt.legend()\n",
    "plt.title(\"Accuracy\")\n",
    "plt.show()"
   ]
  },
  {
   "cell_type": "markdown",
   "metadata": {},
   "source": [
    "## Work\n",
    "1. 試改變 monitor \"Validation Accuracy\" 並比較結果\n",
    "2. 調整 earlystop 的等待次數至 10, 25 並比較結果"
   ]
  }
 ],
 "metadata": {
  "kernelspec": {
   "display_name": "Python 3 (ipykernel)",
   "language": "python",
   "name": "python3"
  },
  "language_info": {
   "codemirror_mode": {
    "name": "ipython",
    "version": 3
   },
   "file_extension": ".py",
   "mimetype": "text/x-python",
   "name": "python",
   "nbconvert_exporter": "python",
   "pygments_lexer": "ipython3",
   "version": "3.8.6"
  }
 },
 "nbformat": 4,
 "nbformat_minor": 2
}
