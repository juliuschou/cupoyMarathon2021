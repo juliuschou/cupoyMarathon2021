{
 "cells": [
  {
   "cell_type": "markdown",
   "metadata": {},
   "source": [
    "## 範例重點\n",
    "* 學習如何在 keras 中加入 reduce learning rate\n",
    "* 知道如何設定 reduce_lr 的監控目標\n",
    "* 比較使用有無使用 reduce_lr 時的 performance"
   ]
  },
  {
   "cell_type": "code",
   "execution_count": 1,
   "metadata": {},
   "outputs": [
    {
     "name": "stderr",
     "output_type": "stream",
     "text": [
      "2021-11-22 20:41:03.953173: W tensorflow/stream_executor/platform/default/dso_loader.cc:64] Could not load dynamic library 'libcudart.so.11.0'; dlerror: libcudart.so.11.0: cannot open shared object file: No such file or directory\n",
      "2021-11-22 20:41:03.953222: I tensorflow/stream_executor/cuda/cudart_stub.cc:29] Ignore above cudart dlerror if you do not have a GPU set up on your machine.\n"
     ]
    }
   ],
   "source": [
    "import os\n",
    "import keras\n",
    "import tensorflow\n",
    "from keras.datasets import cifar10\n",
    "\n",
    "import matplotlib.pyplot as plt\n",
    "%matplotlib inline\n",
    "\n",
    "\n",
    "# 本作業可以不需使用 GPU, 將 GPU 設定為 \"無\" (若想使用可自行開啟)\n",
    "os.environ[\"CUDA_VISIBLE_DEVICES\"] = \"\""
   ]
  },
  {
   "cell_type": "code",
   "execution_count": 2,
   "metadata": {},
   "outputs": [
    {
     "name": "stdout",
     "output_type": "stream",
     "text": [
      "x_train shape: (50000, 32, 32, 3)\n",
      "50000 train samples\n",
      "10000 test samples\n"
     ]
    }
   ],
   "source": [
    "num_classes = 10\n",
    "\n",
    "(x_train, y_train), (x_test, y_test) = cifar10.load_data()\n",
    "\n",
    "print('x_train shape:', x_train.shape)\n",
    "print(x_train.shape[0], 'train samples')\n",
    "print(x_test.shape[0], 'test samples')"
   ]
  },
  {
   "cell_type": "code",
   "execution_count": 3,
   "metadata": {},
   "outputs": [],
   "source": [
    "## 資料前處理\n",
    "def preproc_x(x, flatten=True):\n",
    "    x = x / 255.\n",
    "    if flatten:\n",
    "        x = x.reshape((len(x), -1))\n",
    "    return x\n",
    "\n",
    "def preproc_y(y, num_classes=10):\n",
    "    if y.shape[-1] == 1:\n",
    "        y = keras.utils.np_utils.to_categorical(y, num_classes)\n",
    "    return y    "
   ]
  },
  {
   "cell_type": "code",
   "execution_count": 4,
   "metadata": {},
   "outputs": [],
   "source": [
    "# 資料前處理 - X 標準化\n",
    "x_train = preproc_x(x_train)\n",
    "x_test = preproc_x(x_test)\n",
    "\n",
    "# 資料前處理 -Y 轉成 onehot\n",
    "y_train = preproc_y(y_train)\n",
    "y_test = preproc_y(y_test)"
   ]
  },
  {
   "cell_type": "code",
   "execution_count": 5,
   "metadata": {},
   "outputs": [],
   "source": [
    "from keras.layers import BatchNormalization\n",
    "\n",
    "\"\"\"\n",
    "建立神經網路，並加入 BN layer\n",
    "\"\"\"\n",
    "def build_mlp(input_shape, output_units=10, num_neurons=[512, 256, 128]):\n",
    "    input_layer = keras.layers.Input(input_shape)\n",
    "    \n",
    "    for i, n_units in enumerate(num_neurons):\n",
    "        if i == 0:\n",
    "            x = keras.layers.Dense(units=n_units, \n",
    "                                   activation=\"relu\", \n",
    "                                   name=\"hidden_layer\"+str(i+1))(input_layer)\n",
    "            x = BatchNormalization()(x)\n",
    "        else:\n",
    "            x = keras.layers.Dense(units=n_units, \n",
    "                                   activation=\"relu\", \n",
    "                                   name=\"hidden_layer\"+str(i+1))(x)\n",
    "            x = BatchNormalization()(x)\n",
    "    \n",
    "    out = keras.layers.Dense(units=output_units, activation=\"softmax\", name=\"output\")(x)\n",
    "    \n",
    "    model = keras.models.Model(inputs=[input_layer], outputs=[out])\n",
    "    return model"
   ]
  },
  {
   "cell_type": "code",
   "execution_count": 6,
   "metadata": {},
   "outputs": [],
   "source": [
    "## 超參數設定\n",
    "LEARNING_RATE = 1e-3\n",
    "EPOCHS = 50\n",
    "BATCH_SIZE = 1024\n",
    "MOMENTUM = 0.95"
   ]
  },
  {
   "cell_type": "code",
   "execution_count": 7,
   "metadata": {},
   "outputs": [],
   "source": [
    "\"\"\"\n",
    "# 載入 Callbacks, 並設定監控目標為 validation loss\n",
    "\n",
    "參數說明：\n",
    "monitor: 監控目標\n",
    "min_lr: 最低下降至多少學習率\n",
    "factor: 每次學習率要下降多少\n",
    "patience: 經過多少 Epoch 後模型沒有改善時會使用該功能\n",
    "\n",
    "\"\"\"\n",
    "from keras.callbacks import ReduceLROnPlateau\n",
    "\n",
    "reduce_lr = ReduceLROnPlateau(factor=0.5, \n",
    "                              min_lr=1e-12, \n",
    "                              monitor='val_loss', \n",
    "                              patience=5, \n",
    "                              verbose=1)"
   ]
  },
  {
   "cell_type": "code",
   "execution_count": 8,
   "metadata": {
    "scrolled": true
   },
   "outputs": [
    {
     "name": "stderr",
     "output_type": "stream",
     "text": [
      "2021-11-22 20:43:49.771858: W tensorflow/stream_executor/platform/default/dso_loader.cc:64] Could not load dynamic library 'libcuda.so.1'; dlerror: libcuda.so.1: cannot open shared object file: No such file or directory\n",
      "2021-11-22 20:43:49.771921: W tensorflow/stream_executor/cuda/cuda_driver.cc:269] failed call to cuInit: UNKNOWN ERROR (303)\n",
      "2021-11-22 20:43:49.771954: I tensorflow/stream_executor/cuda/cuda_diagnostics.cc:156] kernel driver does not appear to be running on this host (11402.pyspark3): /proc/driver/nvidia/version does not exist\n",
      "2021-11-22 20:43:49.772234: I tensorflow/core/platform/cpu_feature_guard.cc:142] This TensorFlow binary is optimized with oneAPI Deep Neural Network Library (oneDNN) to use the following CPU instructions in performance-critical operations:  AVX2 FMA\n",
      "To enable them in other operations, rebuild TensorFlow with the appropriate compiler flags.\n",
      "/home/wanzi/ml/cupoyMarathon/lib/python3.8/site-packages/keras/optimizer_v2/optimizer_v2.py:355: UserWarning: The `lr` argument is deprecated, use `learning_rate` instead.\n",
      "  warnings.warn(\n"
     ]
    },
    {
     "name": "stdout",
     "output_type": "stream",
     "text": [
      "Model: \"model\"\n",
      "_________________________________________________________________\n",
      "Layer (type)                 Output Shape              Param #   \n",
      "=================================================================\n",
      "input_1 (InputLayer)         [(None, 3072)]            0         \n",
      "_________________________________________________________________\n",
      "hidden_layer1 (Dense)        (None, 512)               1573376   \n",
      "_________________________________________________________________\n",
      "batch_normalization (BatchNo (None, 512)               2048      \n",
      "_________________________________________________________________\n",
      "hidden_layer2 (Dense)        (None, 256)               131328    \n",
      "_________________________________________________________________\n",
      "batch_normalization_1 (Batch (None, 256)               1024      \n",
      "_________________________________________________________________\n",
      "hidden_layer3 (Dense)        (None, 128)               32896     \n",
      "_________________________________________________________________\n",
      "batch_normalization_2 (Batch (None, 128)               512       \n",
      "_________________________________________________________________\n",
      "output (Dense)               (None, 10)                1290      \n",
      "=================================================================\n",
      "Total params: 1,742,474\n",
      "Trainable params: 1,740,682\n",
      "Non-trainable params: 1,792\n",
      "_________________________________________________________________\n"
     ]
    },
    {
     "name": "stderr",
     "output_type": "stream",
     "text": [
      "2021-11-22 20:43:50.625667: W tensorflow/core/framework/cpu_allocator_impl.cc:80] Allocation of 614400000 exceeds 10% of free system memory.\n",
      "2021-11-22 20:43:51.028652: I tensorflow/compiler/mlir/mlir_graph_optimization_pass.cc:185] None of the MLIR Optimization Passes are enabled (registered 2)\n"
     ]
    },
    {
     "name": "stdout",
     "output_type": "stream",
     "text": [
      "Epoch 1/50\n",
      "49/49 [==============================] - 3s 51ms/step - loss: 1.7706 - accuracy: 0.3852 - val_loss: 2.5409 - val_accuracy: 0.2138\n",
      "Epoch 2/50\n",
      "49/49 [==============================] - 2s 51ms/step - loss: 1.4986 - accuracy: 0.4749 - val_loss: 1.9415 - val_accuracy: 0.3353\n",
      "Epoch 3/50\n",
      "49/49 [==============================] - 3s 52ms/step - loss: 1.4007 - accuracy: 0.5080 - val_loss: 1.7781 - val_accuracy: 0.3585\n",
      "Epoch 4/50\n",
      "49/49 [==============================] - 2s 50ms/step - loss: 1.3197 - accuracy: 0.5353 - val_loss: 1.7354 - val_accuracy: 0.3647\n",
      "Epoch 5/50\n",
      "49/49 [==============================] - 2s 50ms/step - loss: 1.2567 - accuracy: 0.5589 - val_loss: 1.8241 - val_accuracy: 0.3499\n",
      "Epoch 6/50\n",
      "49/49 [==============================] - 2s 49ms/step - loss: 1.1958 - accuracy: 0.5813 - val_loss: 1.7343 - val_accuracy: 0.3949\n",
      "Epoch 7/50\n",
      "49/49 [==============================] - 2s 49ms/step - loss: 1.1542 - accuracy: 0.5943 - val_loss: 1.7171 - val_accuracy: 0.4121\n",
      "Epoch 8/50\n",
      "49/49 [==============================] - 2s 49ms/step - loss: 1.1082 - accuracy: 0.6111 - val_loss: 2.1873 - val_accuracy: 0.3484\n",
      "Epoch 9/50\n",
      "49/49 [==============================] - 2s 49ms/step - loss: 1.0636 - accuracy: 0.6270 - val_loss: 1.7791 - val_accuracy: 0.4013\n",
      "Epoch 10/50\n",
      "49/49 [==============================] - 3s 53ms/step - loss: 1.0127 - accuracy: 0.6457 - val_loss: 1.8551 - val_accuracy: 0.3806\n",
      "Epoch 11/50\n",
      "49/49 [==============================] - 3s 55ms/step - loss: 0.9715 - accuracy: 0.6597 - val_loss: 1.7993 - val_accuracy: 0.4138\n",
      "Epoch 12/50\n",
      "49/49 [==============================] - 3s 54ms/step - loss: 0.9329 - accuracy: 0.6733 - val_loss: 2.1882 - val_accuracy: 0.3397\n",
      "\n",
      "Epoch 00012: ReduceLROnPlateau reducing learning rate to 0.0005000000237487257.\n",
      "Epoch 13/50\n",
      "49/49 [==============================] - 3s 52ms/step - loss: 0.8270 - accuracy: 0.7162 - val_loss: 1.7362 - val_accuracy: 0.4242\n",
      "Epoch 14/50\n",
      "49/49 [==============================] - 3s 54ms/step - loss: 0.7694 - accuracy: 0.7400 - val_loss: 1.5444 - val_accuracy: 0.4870\n",
      "Epoch 15/50\n",
      "49/49 [==============================] - 2s 49ms/step - loss: 0.7318 - accuracy: 0.7534 - val_loss: 1.5468 - val_accuracy: 0.4821\n",
      "Epoch 16/50\n",
      "49/49 [==============================] - 2s 48ms/step - loss: 0.7017 - accuracy: 0.7633 - val_loss: 1.7316 - val_accuracy: 0.4547\n",
      "Epoch 17/50\n",
      "49/49 [==============================] - 3s 51ms/step - loss: 0.6683 - accuracy: 0.7761 - val_loss: 1.5318 - val_accuracy: 0.5004\n",
      "Epoch 18/50\n",
      "49/49 [==============================] - 2s 46ms/step - loss: 0.6360 - accuracy: 0.7866 - val_loss: 1.7407 - val_accuracy: 0.4634\n",
      "Epoch 19/50\n",
      "49/49 [==============================] - 3s 55ms/step - loss: 0.6099 - accuracy: 0.7954 - val_loss: 1.6822 - val_accuracy: 0.4723\n",
      "Epoch 20/50\n",
      "49/49 [==============================] - 3s 54ms/step - loss: 0.5800 - accuracy: 0.8076 - val_loss: 1.8080 - val_accuracy: 0.4720\n",
      "Epoch 21/50\n",
      "49/49 [==============================] - 2s 49ms/step - loss: 0.5459 - accuracy: 0.8213 - val_loss: 1.7483 - val_accuracy: 0.4563\n",
      "Epoch 22/50\n",
      "49/49 [==============================] - 3s 55ms/step - loss: 0.5197 - accuracy: 0.8293 - val_loss: 1.7208 - val_accuracy: 0.4794\n",
      "\n",
      "Epoch 00022: ReduceLROnPlateau reducing learning rate to 0.0002500000118743628.\n",
      "Epoch 23/50\n",
      "49/49 [==============================] - 2s 50ms/step - loss: 0.4328 - accuracy: 0.8707 - val_loss: 1.6568 - val_accuracy: 0.5104\n",
      "Epoch 24/50\n",
      "49/49 [==============================] - 3s 55ms/step - loss: 0.3962 - accuracy: 0.8860 - val_loss: 1.6459 - val_accuracy: 0.5138\n",
      "Epoch 25/50\n",
      "49/49 [==============================] - 3s 52ms/step - loss: 0.3758 - accuracy: 0.8950 - val_loss: 1.6264 - val_accuracy: 0.5112\n",
      "Epoch 26/50\n",
      "49/49 [==============================] - 2s 45ms/step - loss: 0.3544 - accuracy: 0.9023 - val_loss: 1.6951 - val_accuracy: 0.5094\n",
      "Epoch 27/50\n",
      "49/49 [==============================] - 2s 45ms/step - loss: 0.3369 - accuracy: 0.9095 - val_loss: 1.6968 - val_accuracy: 0.5186\n",
      "\n",
      "Epoch 00027: ReduceLROnPlateau reducing learning rate to 0.0001250000059371814.\n",
      "Epoch 28/50\n",
      "49/49 [==============================] - 2s 47ms/step - loss: 0.2953 - accuracy: 0.9296 - val_loss: 1.6906 - val_accuracy: 0.5229\n",
      "Epoch 29/50\n",
      "49/49 [==============================] - 2s 46ms/step - loss: 0.2809 - accuracy: 0.9358 - val_loss: 1.7026 - val_accuracy: 0.5261\n",
      "Epoch 30/50\n",
      "49/49 [==============================] - 2s 48ms/step - loss: 0.2712 - accuracy: 0.9388 - val_loss: 1.7255 - val_accuracy: 0.5196\n",
      "Epoch 31/50\n",
      "49/49 [==============================] - 2s 44ms/step - loss: 0.2612 - accuracy: 0.9419 - val_loss: 1.7238 - val_accuracy: 0.5163\n",
      "Epoch 32/50\n",
      "49/49 [==============================] - 2s 46ms/step - loss: 0.2513 - accuracy: 0.9455 - val_loss: 1.7690 - val_accuracy: 0.5191\n",
      "\n",
      "Epoch 00032: ReduceLROnPlateau reducing learning rate to 6.25000029685907e-05.\n",
      "Epoch 33/50\n",
      "49/49 [==============================] - 3s 52ms/step - loss: 0.2334 - accuracy: 0.9544 - val_loss: 1.7473 - val_accuracy: 0.5225\n",
      "Epoch 34/50\n",
      "49/49 [==============================] - 2s 45ms/step - loss: 0.2266 - accuracy: 0.9570 - val_loss: 1.7607 - val_accuracy: 0.5241\n",
      "Epoch 35/50\n",
      "49/49 [==============================] - 2s 43ms/step - loss: 0.2223 - accuracy: 0.9589 - val_loss: 1.7850 - val_accuracy: 0.5230\n",
      "Epoch 36/50\n",
      "49/49 [==============================] - 2s 43ms/step - loss: 0.2174 - accuracy: 0.9603 - val_loss: 1.7779 - val_accuracy: 0.5258\n",
      "Epoch 37/50\n",
      "49/49 [==============================] - 2s 43ms/step - loss: 0.2139 - accuracy: 0.9609 - val_loss: 1.7932 - val_accuracy: 0.5225\n",
      "\n",
      "Epoch 00037: ReduceLROnPlateau reducing learning rate to 3.125000148429535e-05.\n",
      "Epoch 38/50\n",
      "49/49 [==============================] - 2s 43ms/step - loss: 0.2053 - accuracy: 0.9646 - val_loss: 1.7816 - val_accuracy: 0.5259\n",
      "Epoch 39/50\n",
      "49/49 [==============================] - 2s 48ms/step - loss: 0.2015 - accuracy: 0.9664 - val_loss: 1.7974 - val_accuracy: 0.5197\n",
      "Epoch 40/50\n",
      "49/49 [==============================] - 2s 44ms/step - loss: 0.1995 - accuracy: 0.9661 - val_loss: 1.7882 - val_accuracy: 0.5246\n",
      "Epoch 41/50\n",
      "49/49 [==============================] - 2s 44ms/step - loss: 0.1976 - accuracy: 0.9673 - val_loss: 1.7943 - val_accuracy: 0.5249\n",
      "Epoch 42/50\n",
      "49/49 [==============================] - 2s 42ms/step - loss: 0.1953 - accuracy: 0.9681 - val_loss: 1.8100 - val_accuracy: 0.5205\n",
      "\n",
      "Epoch 00042: ReduceLROnPlateau reducing learning rate to 1.5625000742147677e-05.\n",
      "Epoch 43/50\n",
      "49/49 [==============================] - 2s 43ms/step - loss: 0.1909 - accuracy: 0.9700 - val_loss: 1.8116 - val_accuracy: 0.5233\n",
      "Epoch 44/50\n",
      "49/49 [==============================] - 2s 43ms/step - loss: 0.1894 - accuracy: 0.9707 - val_loss: 1.8126 - val_accuracy: 0.5256\n",
      "Epoch 45/50\n",
      "49/49 [==============================] - 2s 46ms/step - loss: 0.1871 - accuracy: 0.9705 - val_loss: 1.8130 - val_accuracy: 0.5245\n",
      "Epoch 46/50\n",
      "49/49 [==============================] - 2s 44ms/step - loss: 0.1869 - accuracy: 0.9709 - val_loss: 1.8180 - val_accuracy: 0.5224\n",
      "Epoch 47/50\n",
      "49/49 [==============================] - 2s 44ms/step - loss: 0.1854 - accuracy: 0.9709 - val_loss: 1.8208 - val_accuracy: 0.5211\n",
      "\n",
      "Epoch 00047: ReduceLROnPlateau reducing learning rate to 7.812500371073838e-06.\n",
      "Epoch 48/50\n",
      "49/49 [==============================] - 2s 45ms/step - loss: 0.1836 - accuracy: 0.9718 - val_loss: 1.8216 - val_accuracy: 0.5252\n",
      "Epoch 49/50\n",
      "49/49 [==============================] - 2s 44ms/step - loss: 0.1828 - accuracy: 0.9728 - val_loss: 1.8257 - val_accuracy: 0.5235\n",
      "Epoch 50/50\n",
      "49/49 [==============================] - 2s 43ms/step - loss: 0.1823 - accuracy: 0.9730 - val_loss: 1.8257 - val_accuracy: 0.5239\n"
     ]
    }
   ],
   "source": [
    "model = build_mlp(input_shape=x_train.shape[1:])\n",
    "model.summary()\n",
    "optimizer = tensorflow.keras.optimizers.Adam(lr=LEARNING_RATE)\n",
    "model.compile(loss=\"categorical_crossentropy\", metrics=[\"accuracy\"], optimizer=optimizer)\n",
    "\n",
    "model.fit(x_train, y_train, \n",
    "          epochs=EPOCHS, \n",
    "          batch_size=BATCH_SIZE, \n",
    "          validation_data=(x_test, y_test), \n",
    "          shuffle=True,\n",
    "          callbacks=[reduce_lr]\n",
    "         )\n",
    "\n",
    "# Collect results\n",
    "train_loss = model.history.history[\"loss\"]\n",
    "valid_loss = model.history.history[\"val_loss\"]\n",
    "train_acc = model.history.history[\"accuracy\"]\n",
    "valid_acc = model.history.history[\"val_accuracy\"]"
   ]
  },
  {
   "cell_type": "code",
   "execution_count": 9,
   "metadata": {},
   "outputs": [
    {
     "data": {
      "image/png": "[encoded data removed]",
      "text/plain": [
       "<Figure size 432x288 with 1 Axes>"
      ]
     },
     "metadata": {
      "needs_background": "light"
     },
     "output_type": "display_data"
    },
    {
     "data": {
      "image/png": "[encoded data removed]",
      "text/plain": [
       "<Figure size 432x288 with 1 Axes>"
      ]
     },
     "metadata": {
      "needs_background": "light"
     },
     "output_type": "display_data"
    }
   ],
   "source": [
    "import matplotlib.pyplot as plt\n",
    "%matplotlib inline\n",
    "\n",
    "plt.plot(range(len(train_loss)), train_loss, label=\"train loss\")\n",
    "plt.plot(range(len(valid_loss)), valid_loss, label=\"valid loss\")\n",
    "plt.legend()\n",
    "plt.title(\"Loss\")\n",
    "plt.show()\n",
    "\n",
    "plt.plot(range(len(train_acc)), train_acc, label=\"train accuracy\")\n",
    "plt.plot(range(len(valid_acc)), valid_acc, label=\"valid accuracy\")\n",
    "plt.legend()\n",
    "plt.title(\"Accuracy\")\n",
    "plt.show()"
   ]
  },
  {
   "cell_type": "markdown",
   "metadata": {},
   "source": [
    "## Work\n",
    "1. 請改變 reduce_lr 的 patience 和 factor 並比較不同設定下，對訓練/驗證集的影響\n",
    "2. 請將 optimizer 換成 Adam、RMSprop 搭配 reduce_lr 並比較訓練結果"
   ]
  }
 ],
 "metadata": {
  "kernelspec": {
   "display_name": "Python 3 (ipykernel)",
   "language": "python",
   "name": "python3"
  },
  "language_info": {
   "codemirror_mode": {
    "name": "ipython",
    "version": 3
   },
   "file_extension": ".py",
   "mimetype": "text/x-python",
   "name": "python",
   "nbconvert_exporter": "python",
   "pygments_lexer": "ipython3",
   "version": "3.8.6"
  }
 },
 "nbformat": 4,
 "nbformat_minor": 2
}
