{
 "cells": [
  {
   "cell_type": "code",
   "execution_count": null,
   "metadata": {},
   "outputs": [],
   "source": [
    "%matplotlib inline"
   ]
  },
  {
   "cell_type": "markdown",
   "metadata": {},
   "source": [
    "\n",
    "# Feature transformations with ensembles of trees\n",
    "\n",
    "Transform your features into a higher dimensional, sparse space. Then train a\n",
    "linear model on these features.\n",
    "\n",
    "First fit an ensemble of trees (totally random trees, a random forest, or\n",
    "gradient boosted trees) on the training set. Then each leaf of each tree in the\n",
    "ensemble is assigned a fixed arbitrary feature index in a new feature space.\n",
    "These leaf indices are then encoded in a one-hot fashion.\n",
    "\n",
    "Each sample goes through the decisions of each tree of the ensemble and ends up\n",
    "in one leaf per tree. The sample is encoded by setting feature values for these\n",
    "leaves to 1 and the other feature values to 0.\n",
    "\n",
    "The resulting transformer has then learned a supervised, sparse,\n",
    "high-dimensional categorical embedding of the data.\n"
   ]
  },
  {
   "cell_type": "code",
   "execution_count": 1,
   "metadata": {},
   "outputs": [
    {
     "name": "stdout",
     "output_type": "stream",
     "text": [
      "Automatically created module for IPython interactive environment\n"
     ]
    }
   ],
   "source": [
    "# Author: Tim Head <betatim@gmail.com>\n",
    "#\n",
    "# License: BSD 3 clause\n",
    "\n",
    "print(__doc__)\n",
    "\n",
    "from sklearn import set_config\n",
    "set_config(display='diagram')"
   ]
  },
  {
   "cell_type": "markdown",
   "metadata": {},
   "source": [
    "First, we will create a large dataset and split it into three sets:\n",
    "\n",
    "- a set to train the ensemble methods which are later used to as a feature\n",
    "  engineering transformer;\n",
    "- a set to train the linear model;\n",
    "- a set to test the linear model.\n",
    "\n",
    "It is important to split the data in such way to avoid overfitting by leaking\n",
    "data.\n",
    "\n"
   ]
  },
  {
   "cell_type": "code",
   "execution_count": 3,
   "metadata": {},
   "outputs": [],
   "source": [
    "from sklearn.datasets import make_classification\n",
    "from sklearn.model_selection import train_test_split\n",
    "\n",
    "X, y = make_classification(n_samples=80000, random_state=10)\n",
    "\n",
    "X_full_train, X_test, y_full_train, y_test = train_test_split(\n",
    "    X, y, test_size=0.5, random_state=10)\n",
    "X_train_ensemble, X_train_linear, y_train_ensemble, y_train_linear = \\\n",
    "    train_test_split(X_full_train, y_full_train, test_size=0.5,\n",
    "                     random_state=10)"
   ]
  },
  {
   "cell_type": "markdown",
   "metadata": {},
   "source": [
    "For each of the ensemble methods, we will use 10 estimators and a maximum\n",
    "depth of 3 levels.\n",
    "\n"
   ]
  },
  {
   "cell_type": "code",
   "execution_count": 4,
   "metadata": {},
   "outputs": [],
   "source": [
    "n_estimators = 10\n",
    "max_depth = 3"
   ]
  },
  {
   "cell_type": "markdown",
   "metadata": {},
   "source": [
    "First, we will start by training the random forest and gradient boosting on\n",
    "the separated training set\n",
    "\n"
   ]
  },
  {
   "cell_type": "code",
   "execution_count": 5,
   "metadata": {},
   "outputs": [],
   "source": [
    "from sklearn.ensemble import RandomForestClassifier, GradientBoostingClassifier\n",
    "\n",
    "random_forest = RandomForestClassifier(\n",
    "    n_estimators=n_estimators, max_depth=max_depth, random_state=10)\n",
    "random_forest.fit(X_train_ensemble, y_train_ensemble)\n",
    "\n",
    "gradient_boosting = GradientBoostingClassifier(\n",
    "    n_estimators=n_estimators, max_depth=max_depth, random_state=10)\n",
    "_ = gradient_boosting.fit(X_train_ensemble, y_train_ensemble)"
   ]
  },
  {
   "cell_type": "markdown",
   "metadata": {},
   "source": [
    "The :class:`~sklearn.ensemble.RandomTreesEmbedding` is an unsupervised method\n",
    "and thus does not required to be trained independently.\n",
    "\n"
   ]
  },
  {
   "cell_type": "code",
   "execution_count": 6,
   "metadata": {},
   "outputs": [],
   "source": [
    "from sklearn.ensemble import RandomTreesEmbedding\n",
    "\n",
    "random_tree_embedding = RandomTreesEmbedding(\n",
    "    n_estimators=n_estimators, max_depth=max_depth, random_state=0)"
   ]
  },
  {
   "cell_type": "markdown",
   "metadata": {},
   "source": [
    "Now, we will create three pipelines that will use the above embedding as\n",
    "a preprocessing stage.\n",
    "\n",
    "The random trees embedding can be directly pipelined with the logistic\n",
    "regression because it is a standard scikit-learn transformer.\n",
    "\n"
   ]
  },
  {
   "cell_type": "code",
   "execution_count": null,
   "metadata": {},
   "outputs": [],
   "source": [
    "from sklearn.linear_model import LogisticRegression\n",
    "from sklearn.pipeline import make_pipeline\n",
    "\n",
    "rt_model = make_pipeline(\n",
    "    random_tree_embedding, LogisticRegression(max_iter=1000))\n",
    "rt_model.fit(X_train_linear, y_train_linear)"
   ]
  },
  {
   "cell_type": "markdown",
   "metadata": {},
   "source": [
    "Then, we can pipeline random forest or gradient boosting with a logistic\n",
    "regression. However, the feature transformation will happen by calling the\n",
    "method `apply`. The pipeline in scikit-learn expects a call to `transform`.\n",
    "Therefore, we wrapped the call to `apply` within a `FunctionTransformer`.\n",
    "\n"
   ]
  },
  {
   "cell_type": "code",
   "execution_count": null,
   "metadata": {},
   "outputs": [],
   "source": [
    "from sklearn.preprocessing import FunctionTransformer\n",
    "from sklearn.preprocessing import OneHotEncoder\n",
    "\n",
    "\n",
    "def rf_apply(X, model):\n",
    "    return model.apply(X)\n",
    "\n",
    "\n",
    "rf_leaves_yielder = FunctionTransformer(\n",
    "    rf_apply, kw_args={\"model\": random_forest})\n",
    "\n",
    "rf_model = make_pipeline(\n",
    "    rf_leaves_yielder, OneHotEncoder(handle_unknown=\"ignore\"),\n",
    "    LogisticRegression(max_iter=1000))\n",
    "rf_model.fit(X_train_linear, y_train_linear)"
   ]
  },
  {
   "cell_type": "code",
   "execution_count": null,
   "metadata": {},
   "outputs": [],
   "source": [
    "def gbdt_apply(X, model):\n",
    "    return model.apply(X)[:, :, 0]\n",
    "\n",
    "\n",
    "gbdt_leaves_yielder = FunctionTransformer(\n",
    "    gbdt_apply, kw_args={\"model\": gradient_boosting})\n",
    "\n",
    "gbdt_model = make_pipeline(\n",
    "    gbdt_leaves_yielder, OneHotEncoder(handle_unknown=\"ignore\"),\n",
    "    LogisticRegression(max_iter=1000))\n",
    "gbdt_model.fit(X_train_linear, y_train_linear)"
   ]
  },
  {
   "cell_type": "markdown",
   "metadata": {},
   "source": [
    "We can finally show the different ROC curves for all the models.\n",
    "\n"
   ]
  },
  {
   "cell_type": "code",
   "execution_count": null,
   "metadata": {},
   "outputs": [],
   "source": [
    "import matplotlib.pyplot as plt\n",
    "from sklearn.metrics import plot_roc_curve\n",
    "\n",
    "fig, ax = plt.subplots()\n",
    "\n",
    "models = [\n",
    "    (\"RT embedding -> LR\", rt_model),\n",
    "    (\"RF\", random_forest),\n",
    "    (\"RF embedding -> LR\", rf_model),\n",
    "    (\"GBDT\", gradient_boosting),\n",
    "    (\"GBDT embedding -> LR\", gbdt_model),\n",
    "]\n",
    "\n",
    "model_displays = {}\n",
    "for name, pipeline in models:\n",
    "    model_displays[name] = plot_roc_curve(\n",
    "        pipeline, X_test, y_test, ax=ax, name=name)\n",
    "_ = ax.set_title('ROC curve')"
   ]
  },
  {
   "cell_type": "code",
   "execution_count": null,
   "metadata": {},
   "outputs": [],
   "source": [
    "fig, ax = plt.subplots()\n",
    "for name, pipeline in models:\n",
    "    model_displays[name].plot(ax=ax)\n",
    "\n",
    "ax.set_xlim(0, 0.2)\n",
    "ax.set_ylim(0.8, 1)\n",
    "_ = ax.set_title('ROC curve (zoomed in at top left)')"
   ]
  }
 ],
 "metadata": {
  "kernelspec": {
   "display_name": "Python 3 (ipykernel)",
   "language": "python",
   "name": "python3"
  },
  "language_info": {
   "codemirror_mode": {
    "name": "ipython",
    "version": 3
   },
   "file_extension": ".py",
   "mimetype": "text/x-python",
   "name": "python",
   "nbconvert_exporter": "python",
   "pygments_lexer": "ipython3",
   "version": "3.8.6"
  }
 },
 "nbformat": 4,
 "nbformat_minor": 1
}
